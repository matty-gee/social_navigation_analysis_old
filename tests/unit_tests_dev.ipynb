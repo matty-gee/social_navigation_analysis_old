{
 "cells": [
  {
   "cell_type": "code",
   "execution_count": 1,
   "metadata": {},
   "outputs": [
    {
     "name": "stderr",
     "output_type": "stream",
     "text": [
      "/Users/matthew/opt/anaconda3/envs/social_navigation_task/lib/python3.10/site-packages/openpyxl/worksheet/_read_only.py:79: UserWarning: Unknown extension is not supported and will be removed\n",
      "  for idx, row in parser.parse():\n",
      "/Users/matthew/opt/anaconda3/envs/social_navigation_task/lib/python3.10/site-packages/openpyxl/worksheet/_read_only.py:79: UserWarning: Unknown extension is not supported and will be removed\n",
      "  for idx, row in parser.parse():\n",
      "/Users/matthew/opt/anaconda3/envs/social_navigation_task/lib/python3.10/site-packages/openpyxl/worksheet/_read_only.py:79: UserWarning: Unknown extension is not supported and will be removed\n",
      "  for idx, row in parser.parse():\n"
     ]
    }
   ],
   "source": [
    "import pandas as pd\n",
    "import numpy as np\n",
    "from numpy import random\n",
    "from numpy.testing import assert_allclose\n",
    "from nose.tools import assert_equal, assert_true\n",
    "\n",
    "import sys\n",
    "sys.path.append('../social_navigation_task')\n",
    "import preprocess"
   ]
  },
  {
   "cell_type": "code",
   "execution_count": 25,
   "metadata": {},
   "outputs": [],
   "source": [
    "compute = preprocess.ComputeBehavior(file_path=None)\n",
    "\n",
    "# minmax coords...\n",
    "# if perfectly inconsistent\n",
    "\n",
    "# if perfectly consistent\n",
    "rand_decisions = np.array([random.choice([-1,1]) for _ in range(10)]).reshape(-2,2) # 5,2\n",
    "rand_coords = np.cumsum(rand_decisions, axis=0)\n",
    "inconsist, consist = compute.minmax_coords(rand_decisions) # between 0 & 1\n",
    "self.assertEqual(np.sum(consist >= inconsist), 10, 'Some of the inconsistent pattern coordinates (min) are not equal or smaller to consistent pattern')"
   ]
  },
  {
   "cell_type": "code",
   "execution_count": 29,
   "metadata": {},
   "outputs": [
    {
     "data": {
      "text/plain": [
       "10"
      ]
     },
     "execution_count": 29,
     "metadata": {},
     "output_type": "execute_result"
    }
   ],
   "source": []
  },
  {
   "cell_type": "code",
   "execution_count": 27,
   "metadata": {},
   "outputs": [
    {
     "data": {
      "text/plain": [
       "array([[1.        , 1.        ],\n",
       "       [0.        , 0.        ],\n",
       "       [0.33333333, 0.33333333],\n",
       "       [0.        , 0.        ],\n",
       "       [0.2       , 0.2       ]])"
      ]
     },
     "execution_count": 27,
     "metadata": {},
     "output_type": "execute_result"
    }
   ],
   "source": [
    "inconsist"
   ]
  },
  {
   "cell_type": "markdown",
   "metadata": {},
   "source": []
  }
 ],
 "metadata": {
  "kernelspec": {
   "display_name": "Python 3.10.6 ('social_navigation_task')",
   "language": "python",
   "name": "python3"
  },
  "language_info": {
   "codemirror_mode": {
    "name": "ipython",
    "version": 3
   },
   "file_extension": ".py",
   "mimetype": "text/x-python",
   "name": "python",
   "nbconvert_exporter": "python",
   "pygments_lexer": "ipython3",
   "version": "3.10.6"
  },
  "vscode": {
   "interpreter": {
    "hash": "17170a1c842d46f79a15d2f4651692da09dba23a7ada03f3baa74312cb67564b"
   }
  }
 },
 "nbformat": 4,
 "nbformat_minor": 4
}
