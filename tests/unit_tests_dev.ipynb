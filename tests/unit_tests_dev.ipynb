{
 "cells": [
  {
   "cell_type": "code",
   "execution_count": 1,
   "metadata": {},
   "outputs": [
    {
     "name": "stderr",
     "output_type": "stream",
     "text": [
      "//anaconda3/envs/social_navigation_task/lib/python3.10/site-packages/openpyxl/worksheet/_read_only.py:79: UserWarning: Unknown extension is not supported and will be removed\n",
      "  for idx, row in parser.parse():\n",
      "//anaconda3/envs/social_navigation_task/lib/python3.10/site-packages/openpyxl/worksheet/_read_only.py:79: UserWarning: Unknown extension is not supported and will be removed\n",
      "  for idx, row in parser.parse():\n",
      "//anaconda3/envs/social_navigation_task/lib/python3.10/site-packages/openpyxl/worksheet/_read_only.py:79: UserWarning: Unknown extension is not supported and will be removed\n",
      "  for idx, row in parser.parse():\n",
      "...........\n",
      "----------------------------------------------------------------------\n",
      "Ran 11 tests in 0.478s\n",
      "\n",
      "OK\n"
     ]
    }
   ],
   "source": [
    "%run -i 'test_behavior.py'"
   ]
  },
  {
   "cell_type": "code",
   "execution_count": 1,
   "metadata": {},
   "outputs": [],
   "source": [
    "import pandas as pd\n",
    "import numpy as np\n",
    "from numpy import random\n",
    "from numpy.testing import assert_allclose\n",
    "from nose.tools import assert_equal, assert_true\n",
    "\n",
    "# import sys\n",
    "# sys.path.append('../social_navigation_task')\n",
    "# import preprocess"
   ]
  },
  {
   "cell_type": "markdown",
   "metadata": {},
   "source": [
    "## for consistency"
   ]
  },
  {
   "cell_type": "code",
   "execution_count": 3,
   "metadata": {},
   "outputs": [],
   "source": [
    "compute = preprocess.ComputeBehavior(file_path=None)\n",
    "\n",
    "# minmax coords...\n",
    "# if perfectly inconsistent\n",
    "\n",
    "# if perfectly consistent\n",
    "rand_decisions = np.array([random.choice([-1,1]) for _ in range(10)]).reshape(-2,2) # 5,2\n",
    "rand_coords = np.cumsum(rand_decisions, axis=0)\n",
    "inconsist, consist = compute.minmax_coords(rand_decisions) # between 0 & 1\n",
    "# self.assertEqual(np.sum(consist >= inconsist), 10, 'Some of the inconsistent pattern coordinates (min) are not equal or smaller to consistent pattern')"
   ]
  },
  {
   "cell_type": "code",
   "execution_count": 5,
   "metadata": {},
   "outputs": [
    {
     "data": {
      "text/plain": [
       "array([[1., 1.],\n",
       "       [1., 1.],\n",
       "       [1., 1.],\n",
       "       [1., 1.],\n",
       "       [1., 1.]])"
      ]
     },
     "execution_count": 5,
     "metadata": {},
     "output_type": "execute_result"
    }
   ],
   "source": [
    "# minimum consistency == 0\n",
    "rand_decisions = np.array([random.choice([-1,1]) for _ in range(10)]).reshape(-2,2) \n",
    "\n",
    "consist\n",
    "\n",
    "# maxmimum consistency == 1"
   ]
  },
  {
   "cell_type": "markdown",
   "metadata": {},
   "source": []
  }
 ],
 "metadata": {
  "kernelspec": {
   "display_name": "Python 3 (ipykernel)",
   "language": "python",
   "name": "python3"
  },
  "language_info": {
   "codemirror_mode": {
    "name": "ipython",
    "version": 3
   },
   "file_extension": ".py",
   "mimetype": "text/x-python",
   "name": "python",
   "nbconvert_exporter": "python",
   "pygments_lexer": "ipython3",
   "version": "3.10.6"
  },
  "vscode": {
   "interpreter": {
    "hash": "00dcf5e4b0d8795f04afb4352123b54f9db8bd1d73fcaa65397f4f28e22ab112"
   }
  }
 },
 "nbformat": 4,
 "nbformat_minor": 4
}
