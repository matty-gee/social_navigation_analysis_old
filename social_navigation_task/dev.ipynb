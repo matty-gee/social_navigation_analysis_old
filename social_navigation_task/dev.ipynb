{
 "cells": [
  {
   "cell_type": "code",
   "execution_count": 1,
   "metadata": {},
   "outputs": [
    {
     "name": "stderr",
     "output_type": "stream",
     "text": [
      "/Users/matthew/opt/anaconda3/lib/python3.9/site-packages/openpyxl/worksheet/_read_only.py:79: UserWarning: Unknown extension is not supported and will be removed\n",
      "  for idx, row in parser.parse():\n"
     ]
    }
   ],
   "source": [
    "from info import * \n",
    "from preprocess import *"
   ]
  },
  {
   "cell_type": "code",
   "execution_count": 2,
   "metadata": {
    "tags": []
   },
   "outputs": [],
   "source": [
    "# TODO: concatenate the columns in one go for the df\n",
    "\n",
    "from pathlib import Path \n",
    "import csv\n",
    "import numpy as np\n",
    "import pandas as pd\n",
    "import os\n",
    "import sys\n",
    "import scipy.spatial\n",
    "\n",
    "sys.path.insert(0, '../../../toolbox/toolbox')\n",
    "from circ_stats import * \n",
    "from matrices import *\n",
    "\n",
    "# should probably import toolbox so circ_stats etc is available..."
   ]
  },
  {
   "cell_type": "code",
   "execution_count": 8,
   "metadata": {},
   "outputs": [],
   "source": [
    "\n",
    "def by_character(variable):\n",
    "    ''' return variable name for each character '''\n",
    "    return [variable + '_' + character_roles[c] for c in range(5)]\n",
    "    \n",
    "\n",
    "def chars_df(df, var_name):\n",
    "    ''' subset a df with the different character values for a variable'''\n",
    "    return df[[var_name + '_' + cr for cr in character_roles]]\n",
    "\n",
    "\n",
    "def get_decision_sequence(df):\n",
    "    ''' grab decisions from a summary df'''\n",
    "    return df.loc[0, ['decisions_' + \"{:02d}\".format(t+1) for t in range(63)]]\n",
    "\n",
    "\n",
    "def repeat_array_cols(X, repeats=2):\n",
    "    return np.transpose([X] * repeats)\n"
   ]
  },
  {
   "cell_type": "markdown",
   "metadata": {},
   "source": [
    "# Log to more detailed xlsx"
   ]
  },
  {
   "cell_type": "code",
   "execution_count": 14,
   "metadata": {},
   "outputs": [],
   "source": [
    "# file_path = str(Path(f'{pkg_dir}/../data/example_subject/snt_18001.log'))\n",
    "# experimenter = 'KB'\n",
    "# parse_log(file_path, experimenter, output_timing=True, out_dir=None)"
   ]
  },
  {
   "cell_type": "markdown",
   "metadata": {},
   "source": [
    "# Behavior"
   ]
  },
  {
   "cell_type": "code",
   "execution_count": 87,
   "metadata": {},
   "outputs": [],
   "source": [
    "file_path = Path(f'{pkg_dir}/../data/example_subject/snt_18001.xlsx')\n",
    "compute_behavior(file_path, out_dir=f'{pkg_dir}/../data/example_subject/')"
   ]
  },
  {
   "cell_type": "markdown",
   "metadata": {},
   "source": [
    "# for RDVs"
   ]
  },
  {
   "cell_type": "code",
   "execution_count": 217,
   "metadata": {},
   "outputs": [],
   "source": [
    "from itertools import compress, product, combinations \n",
    "def combos(arr, k=2):\n",
    "    \"\"\" \n",
    "        arr: np.array to get combos from\n",
    "        r: num of combos\n",
    "    \"\"\"\n",
    "    return list(combinations(arr, k))"
   ]
  },
  {
   "cell_type": "code",
   "execution_count": 242,
   "metadata": {},
   "outputs": [],
   "source": [
    "file_path = Path(f'{pkg_dir}/../data/example_subject/snt_18001_behavior.xlsx')\n",
    "compute_rdvs(file_path, metric='euclidean', out_dir=None)"
   ]
  },
  {
   "cell_type": "markdown",
   "metadata": {},
   "source": [
    "# summarize all subjs"
   ]
  },
  {
   "cell_type": "code",
   "execution_count": 293,
   "metadata": {},
   "outputs": [
    {
     "name": "stdout",
     "output_type": "stream",
     "text": [
      "Preprocessing 1 of 2\r"
     ]
    },
    {
     "name": "stderr",
     "output_type": "stream",
     "text": [
      "/Users/matthew/opt/anaconda3/lib/python3.9/site-packages/openpyxl/worksheet/_read_only.py:79: UserWarning: Unknown extension is not supported and will be removed\n",
      "  for idx, row in parser.parse():\n"
     ]
    },
    {
     "name": "stdout",
     "output_type": "stream",
     "text": [
      "Preprocessing 2 of 2\r"
     ]
    },
    {
     "name": "stderr",
     "output_type": "stream",
     "text": [
      "/Users/matthew/opt/anaconda3/lib/python3.9/site-packages/openpyxl/worksheet/_read_only.py:79: UserWarning: Unknown extension is not supported and will be removed\n",
      "  for idx, row in parser.parse():\n"
     ]
    }
   ],
   "source": [
    "file_paths = [f'{pkg_dir}/../data/example_subject/snt_18001_behavior.xlsx', f'{pkg_dir}/../data/example_subject/snt_18001_behavior.xlsx']\n",
    "out_dir=f'{pkg_dir}/preprocessed_behavior/'\n",
    "\n",
    "summarize_behavior(file_paths, out_dir=out_dir)"
   ]
  }
 ],
 "metadata": {
  "kernelspec": {
   "display_name": "Python 3",
   "language": "python",
   "name": "python3"
  },
  "language_info": {
   "codemirror_mode": {
    "name": "ipython",
    "version": 3
   },
   "file_extension": ".py",
   "mimetype": "text/x-python",
   "name": "python",
   "nbconvert_exporter": "python",
   "pygments_lexer": "ipython3",
   "version": "3.7.3"
  }
 },
 "nbformat": 4,
 "nbformat_minor": 5
}
