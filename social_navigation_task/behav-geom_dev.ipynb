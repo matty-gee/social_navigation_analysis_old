{
 "cells": [
  {
   "cell_type": "code",
   "execution_count": 2,
   "metadata": {},
   "outputs": [
    {
     "name": "stderr",
     "output_type": "stream",
     "text": [
      "/Users/matthew/opt/anaconda3/envs/social_navigation_task/lib/python3.10/site-packages/openpyxl/worksheet/_read_only.py:79: UserWarning: Unknown extension is not supported and will be removed\n",
      "  for idx, row in parser.parse():\n",
      "/Users/matthew/opt/anaconda3/envs/social_navigation_task/lib/python3.10/site-packages/openpyxl/worksheet/_read_only.py:79: UserWarning: Unknown extension is not supported and will be removed\n",
      "  for idx, row in parser.parse():\n",
      "/Users/matthew/opt/anaconda3/envs/social_navigation_task/lib/python3.10/site-packages/openpyxl/worksheet/_read_only.py:79: UserWarning: Unknown extension is not supported and will be removed\n",
      "  for idx, row in parser.parse():\n"
     ]
    }
   ],
   "source": [
    "from info import * \n",
    "from preprocess import *\n",
    "import utils"
   ]
  },
  {
   "cell_type": "code",
   "execution_count": 2,
   "metadata": {},
   "outputs": [
    {
     "name": "stderr",
     "output_type": "stream",
     "text": [
      "/Users/matthew/opt/anaconda3/envs/social_navigation_task/lib/python3.10/site-packages/openpyxl/worksheet/_read_only.py:79: UserWarning: Unknown extension is not supported and will be removed\n",
      "  for idx, row in parser.parse():\n"
     ]
    },
    {
     "data": {
      "text/html": [
       "<div>\n",
       "<style scoped>\n",
       "    .dataframe tbody tr th:only-of-type {\n",
       "        vertical-align: middle;\n",
       "    }\n",
       "\n",
       "    .dataframe tbody tr th {\n",
       "        vertical-align: top;\n",
       "    }\n",
       "\n",
       "    .dataframe thead th {\n",
       "        text-align: right;\n",
       "    }\n",
       "</style>\n",
       "<table border=\"1\" class=\"dataframe\">\n",
       "  <thead>\n",
       "    <tr style=\"text-align: right;\">\n",
       "      <th></th>\n",
       "      <th>scene_num</th>\n",
       "      <th>decision_num</th>\n",
       "      <th>char_decision_num</th>\n",
       "      <th>dimension</th>\n",
       "      <th>char_role_num</th>\n",
       "      <th>onset</th>\n",
       "      <th>button_press</th>\n",
       "      <th>decision</th>\n",
       "      <th>affil</th>\n",
       "      <th>power</th>\n",
       "      <th>...</th>\n",
       "      <th>pov_distance</th>\n",
       "      <th>neu3d_angle</th>\n",
       "      <th>pov3d_angle</th>\n",
       "      <th>perimeter</th>\n",
       "      <th>area</th>\n",
       "      <th>volume</th>\n",
       "      <th>Q1_overlap</th>\n",
       "      <th>Q2_overlap</th>\n",
       "      <th>Q3_overlap</th>\n",
       "      <th>Q4_overlap</th>\n",
       "    </tr>\n",
       "  </thead>\n",
       "  <tbody>\n",
       "    <tr>\n",
       "      <th>0</th>\n",
       "      <td>1</td>\n",
       "      <td>1</td>\n",
       "      <td>1</td>\n",
       "      <td>affil</td>\n",
       "      <td>1</td>\n",
       "      <td>116.830780</td>\n",
       "      <td>2</td>\n",
       "      <td>-1</td>\n",
       "      <td>-1.0</td>\n",
       "      <td>0.0</td>\n",
       "      <td>...</td>\n",
       "      <td>7.000000</td>\n",
       "      <td>2.070143</td>\n",
       "      <td>1.570796</td>\n",
       "      <td>NaN</td>\n",
       "      <td>NaN</td>\n",
       "      <td>NaN</td>\n",
       "      <td>NaN</td>\n",
       "      <td>NaN</td>\n",
       "      <td>NaN</td>\n",
       "      <td>NaN</td>\n",
       "    </tr>\n",
       "    <tr>\n",
       "      <th>1</th>\n",
       "      <td>1</td>\n",
       "      <td>2</td>\n",
       "      <td>2</td>\n",
       "      <td>affil</td>\n",
       "      <td>1</td>\n",
       "      <td>131.725189</td>\n",
       "      <td>3</td>\n",
       "      <td>-1</td>\n",
       "      <td>-1.0</td>\n",
       "      <td>0.0</td>\n",
       "      <td>...</td>\n",
       "      <td>8.000000</td>\n",
       "      <td>2.111216</td>\n",
       "      <td>1.570796</td>\n",
       "      <td>NaN</td>\n",
       "      <td>NaN</td>\n",
       "      <td>NaN</td>\n",
       "      <td>NaN</td>\n",
       "      <td>NaN</td>\n",
       "      <td>NaN</td>\n",
       "      <td>NaN</td>\n",
       "    </tr>\n",
       "    <tr>\n",
       "      <th>2</th>\n",
       "      <td>1</td>\n",
       "      <td>3</td>\n",
       "      <td>3</td>\n",
       "      <td>affil</td>\n",
       "      <td>1</td>\n",
       "      <td>151.223053</td>\n",
       "      <td>2</td>\n",
       "      <td>-1</td>\n",
       "      <td>-1.0</td>\n",
       "      <td>0.0</td>\n",
       "      <td>...</td>\n",
       "      <td>9.000000</td>\n",
       "      <td>2.158799</td>\n",
       "      <td>1.570796</td>\n",
       "      <td>NaN</td>\n",
       "      <td>NaN</td>\n",
       "      <td>NaN</td>\n",
       "      <td>NaN</td>\n",
       "      <td>NaN</td>\n",
       "      <td>NaN</td>\n",
       "      <td>NaN</td>\n",
       "    </tr>\n",
       "    <tr>\n",
       "      <th>3</th>\n",
       "      <td>2</td>\n",
       "      <td>4</td>\n",
       "      <td>4</td>\n",
       "      <td>power</td>\n",
       "      <td>1</td>\n",
       "      <td>176.024872</td>\n",
       "      <td>2</td>\n",
       "      <td>-1</td>\n",
       "      <td>0.0</td>\n",
       "      <td>-1.0</td>\n",
       "      <td>...</td>\n",
       "      <td>9.055385</td>\n",
       "      <td>2.176341</td>\n",
       "      <td>1.637104</td>\n",
       "      <td>5.236068</td>\n",
       "      <td>1.0</td>\n",
       "      <td>NaN</td>\n",
       "      <td>0.000000</td>\n",
       "      <td>0.000000</td>\n",
       "      <td>1.000000</td>\n",
       "      <td>0.000000</td>\n",
       "    </tr>\n",
       "    <tr>\n",
       "      <th>4</th>\n",
       "      <td>2</td>\n",
       "      <td>5</td>\n",
       "      <td>1</td>\n",
       "      <td>affil</td>\n",
       "      <td>2</td>\n",
       "      <td>198.424835</td>\n",
       "      <td>2</td>\n",
       "      <td>-1</td>\n",
       "      <td>-1.0</td>\n",
       "      <td>0.0</td>\n",
       "      <td>...</td>\n",
       "      <td>7.000000</td>\n",
       "      <td>2.070143</td>\n",
       "      <td>1.570796</td>\n",
       "      <td>5.236068</td>\n",
       "      <td>1.0</td>\n",
       "      <td>NaN</td>\n",
       "      <td>0.000000</td>\n",
       "      <td>0.000000</td>\n",
       "      <td>1.000000</td>\n",
       "      <td>0.000000</td>\n",
       "    </tr>\n",
       "    <tr>\n",
       "      <th>...</th>\n",
       "      <td>...</td>\n",
       "      <td>...</td>\n",
       "      <td>...</td>\n",
       "      <td>...</td>\n",
       "      <td>...</td>\n",
       "      <td>...</td>\n",
       "      <td>...</td>\n",
       "      <td>...</td>\n",
       "      <td>...</td>\n",
       "      <td>...</td>\n",
       "      <td>...</td>\n",
       "      <td>...</td>\n",
       "      <td>...</td>\n",
       "      <td>...</td>\n",
       "      <td>...</td>\n",
       "      <td>...</td>\n",
       "      <td>...</td>\n",
       "      <td>...</td>\n",
       "      <td>...</td>\n",
       "      <td>...</td>\n",
       "      <td>...</td>\n",
       "    </tr>\n",
       "    <tr>\n",
       "      <th>58</th>\n",
       "      <td>17</td>\n",
       "      <td>59</td>\n",
       "      <td>12</td>\n",
       "      <td>power</td>\n",
       "      <td>4</td>\n",
       "      <td>1571.144531</td>\n",
       "      <td>3</td>\n",
       "      <td>-1</td>\n",
       "      <td>0.0</td>\n",
       "      <td>-1.0</td>\n",
       "      <td>...</td>\n",
       "      <td>6.324555</td>\n",
       "      <td>1.570796</td>\n",
       "      <td>1.249046</td>\n",
       "      <td>24.808145</td>\n",
       "      <td>40.5</td>\n",
       "      <td>254.000000</td>\n",
       "      <td>0.129630</td>\n",
       "      <td>0.222222</td>\n",
       "      <td>0.469136</td>\n",
       "      <td>0.179012</td>\n",
       "    </tr>\n",
       "    <tr>\n",
       "      <th>59</th>\n",
       "      <td>18</td>\n",
       "      <td>60</td>\n",
       "      <td>9</td>\n",
       "      <td>power</td>\n",
       "      <td>3</td>\n",
       "      <td>1591.643066</td>\n",
       "      <td>2</td>\n",
       "      <td>1</td>\n",
       "      <td>0.0</td>\n",
       "      <td>1.0</td>\n",
       "      <td>...</td>\n",
       "      <td>3.000000</td>\n",
       "      <td>0.463648</td>\n",
       "      <td>1.570796</td>\n",
       "      <td>24.941561</td>\n",
       "      <td>41.5</td>\n",
       "      <td>260.333333</td>\n",
       "      <td>0.144578</td>\n",
       "      <td>0.216867</td>\n",
       "      <td>0.457831</td>\n",
       "      <td>0.180723</td>\n",
       "    </tr>\n",
       "    <tr>\n",
       "      <th>60</th>\n",
       "      <td>18</td>\n",
       "      <td>61</td>\n",
       "      <td>10</td>\n",
       "      <td>power</td>\n",
       "      <td>3</td>\n",
       "      <td>1608.522217</td>\n",
       "      <td>2</td>\n",
       "      <td>1</td>\n",
       "      <td>0.0</td>\n",
       "      <td>1.0</td>\n",
       "      <td>...</td>\n",
       "      <td>3.162278</td>\n",
       "      <td>0.451027</td>\n",
       "      <td>1.266104</td>\n",
       "      <td>25.164437</td>\n",
       "      <td>42.5</td>\n",
       "      <td>266.666667</td>\n",
       "      <td>0.164706</td>\n",
       "      <td>0.211765</td>\n",
       "      <td>0.447059</td>\n",
       "      <td>0.176471</td>\n",
       "    </tr>\n",
       "    <tr>\n",
       "      <th>61</th>\n",
       "      <td>19</td>\n",
       "      <td>62</td>\n",
       "      <td>11</td>\n",
       "      <td>power</td>\n",
       "      <td>3</td>\n",
       "      <td>1629.921509</td>\n",
       "      <td>2</td>\n",
       "      <td>1</td>\n",
       "      <td>0.0</td>\n",
       "      <td>1.0</td>\n",
       "      <td>...</td>\n",
       "      <td>3.605551</td>\n",
       "      <td>0.608110</td>\n",
       "      <td>0.991837</td>\n",
       "      <td>25.572077</td>\n",
       "      <td>43.5</td>\n",
       "      <td>273.333333</td>\n",
       "      <td>0.183908</td>\n",
       "      <td>0.206897</td>\n",
       "      <td>0.436782</td>\n",
       "      <td>0.172414</td>\n",
       "    </tr>\n",
       "    <tr>\n",
       "      <th>62</th>\n",
       "      <td>19</td>\n",
       "      <td>63</td>\n",
       "      <td>12</td>\n",
       "      <td>affil</td>\n",
       "      <td>3</td>\n",
       "      <td>1649.619507</td>\n",
       "      <td>3</td>\n",
       "      <td>-1</td>\n",
       "      <td>-1.0</td>\n",
       "      <td>0.0</td>\n",
       "      <td>...</td>\n",
       "      <td>4.472136</td>\n",
       "      <td>0.785398</td>\n",
       "      <td>1.107149</td>\n",
       "      <td>25.572077</td>\n",
       "      <td>43.5</td>\n",
       "      <td>275.666667</td>\n",
       "      <td>0.183908</td>\n",
       "      <td>0.206897</td>\n",
       "      <td>0.436782</td>\n",
       "      <td>0.172414</td>\n",
       "    </tr>\n",
       "  </tbody>\n",
       "</table>\n",
       "<p>63 rows × 31 columns</p>\n",
       "</div>"
      ],
      "text/plain": [
       "    scene_num  decision_num  char_decision_num dimension  char_role_num  \\\n",
       "0           1             1                  1     affil              1   \n",
       "1           1             2                  2     affil              1   \n",
       "2           1             3                  3     affil              1   \n",
       "3           2             4                  4     power              1   \n",
       "4           2             5                  1     affil              2   \n",
       "..        ...           ...                ...       ...            ...   \n",
       "58         17            59                 12     power              4   \n",
       "59         18            60                  9     power              3   \n",
       "60         18            61                 10     power              3   \n",
       "61         19            62                 11     power              3   \n",
       "62         19            63                 12     affil              3   \n",
       "\n",
       "          onset  button_press  decision  affil  power  ...  pov_distance  \\\n",
       "0    116.830780             2        -1   -1.0    0.0  ...      7.000000   \n",
       "1    131.725189             3        -1   -1.0    0.0  ...      8.000000   \n",
       "2    151.223053             2        -1   -1.0    0.0  ...      9.000000   \n",
       "3    176.024872             2        -1    0.0   -1.0  ...      9.055385   \n",
       "4    198.424835             2        -1   -1.0    0.0  ...      7.000000   \n",
       "..          ...           ...       ...    ...    ...  ...           ...   \n",
       "58  1571.144531             3        -1    0.0   -1.0  ...      6.324555   \n",
       "59  1591.643066             2         1    0.0    1.0  ...      3.000000   \n",
       "60  1608.522217             2         1    0.0    1.0  ...      3.162278   \n",
       "61  1629.921509             2         1    0.0    1.0  ...      3.605551   \n",
       "62  1649.619507             3        -1   -1.0    0.0  ...      4.472136   \n",
       "\n",
       "    neu3d_angle  pov3d_angle  perimeter  area      volume  Q1_overlap  \\\n",
       "0      2.070143     1.570796        NaN   NaN         NaN         NaN   \n",
       "1      2.111216     1.570796        NaN   NaN         NaN         NaN   \n",
       "2      2.158799     1.570796        NaN   NaN         NaN         NaN   \n",
       "3      2.176341     1.637104   5.236068   1.0         NaN    0.000000   \n",
       "4      2.070143     1.570796   5.236068   1.0         NaN    0.000000   \n",
       "..          ...          ...        ...   ...         ...         ...   \n",
       "58     1.570796     1.249046  24.808145  40.5  254.000000    0.129630   \n",
       "59     0.463648     1.570796  24.941561  41.5  260.333333    0.144578   \n",
       "60     0.451027     1.266104  25.164437  42.5  266.666667    0.164706   \n",
       "61     0.608110     0.991837  25.572077  43.5  273.333333    0.183908   \n",
       "62     0.785398     1.107149  25.572077  43.5  275.666667    0.183908   \n",
       "\n",
       "    Q2_overlap  Q3_overlap  Q4_overlap  \n",
       "0          NaN         NaN         NaN  \n",
       "1          NaN         NaN         NaN  \n",
       "2          NaN         NaN         NaN  \n",
       "3     0.000000    1.000000    0.000000  \n",
       "4     0.000000    1.000000    0.000000  \n",
       "..         ...         ...         ...  \n",
       "58    0.222222    0.469136    0.179012  \n",
       "59    0.216867    0.457831    0.180723  \n",
       "60    0.211765    0.447059    0.176471  \n",
       "61    0.206897    0.436782    0.172414  \n",
       "62    0.206897    0.436782    0.172414  \n",
       "\n",
       "[63 rows x 31 columns]"
      ]
     },
     "execution_count": 2,
     "metadata": {},
     "output_type": "execute_result"
    }
   ],
   "source": [
    "xlsxs = ['../data/example_subject/snt_583_narrative_data.xlsx']\n",
    "behavior = ComputeBehavior(file_path=xlsxs[0]).run()\n",
    "behavior"
   ]
  },
  {
   "cell_type": "markdown",
   "id": "bf180a56",
   "metadata": {},
   "source": [
    "## Tests to incorporate"
   ]
  },
  {
   "cell_type": "code",
   "execution_count": 6,
   "id": "288f4857",
   "metadata": {},
   "outputs": [
    {
     "data": {
      "text/plain": [
       "array([-0.2,  0.6])"
      ]
     },
     "execution_count": 6,
     "metadata": {},
     "output_type": "execute_result"
    }
   ],
   "source": [
    "import random\n",
    "compute = ComputeBehavior(file_path=None)\n",
    "\n",
    "rand_decs = np.array([random.choice([-1,1]) for _ in range(10)]).reshape(-2,2)\n",
    "resp_mask = rand_decs != 0\n",
    "coords = np.cumsum(rand_decs, axis=0)    \n",
    "cum_mean, cum_count = compute.cumulative_mean(rand_decs, resp_mask)\n",
    "cum_mean[-1,:]\n"
   ]
  },
  {
   "cell_type": "code",
   "execution_count": 7,
   "id": "34bb8875",
   "metadata": {},
   "outputs": [
    {
     "data": {
      "text/plain": [
       "array([-0.2,  0.6])"
      ]
     },
     "execution_count": 7,
     "metadata": {},
     "output_type": "execute_result"
    }
   ],
   "source": [
    "coords[-1,:] / cum_count[-1,:]"
   ]
  },
  {
   "cell_type": "code",
   "execution_count": 55,
   "id": "d919d07d",
   "metadata": {},
   "outputs": [],
   "source": [
    "# testing the make_3d function:\n",
    "\n",
    "U = np.random.randint(1,10, size=(3,2)) # all the outputs should have this shape\n",
    "V = np.random.randint(1,10, size=(2,))\n",
    "ori = np.array([[0,0]])\n",
    "\n",
    "## funciton: \n",
    "if V.ndim == 2:   V = V[0]\n",
    "if ori.ndim == 1: ori = ori[np.newaxis]\n",
    "\n",
    "num = np.arange(1, len(U) + 1)[:,np.newaxis]\n",
    "U   = np.concatenate([U, num], axis=1) # changes w/ num of interactions\n",
    "V   = np.repeat(np.hstack([V, len(U)])[np.newaxis], len(U), axis=0) # fixed\n",
    "ori = np.concatenate([np.repeat(ori, len(U), axis=0), num], axis=1) # changes w/ num of interactions   \n",
    "# ori & U should have z-axis coordinates that increase sequentially; V should have a fixed z-axis coordinate "
   ]
  },
  {
   "cell_type": "code",
   "execution_count": 2,
   "metadata": {
    "tags": []
   },
   "outputs": [],
   "source": [
    "# TODO: concatenate the columns in one go for the df\n",
    "\n",
    "from pathlib import Path \n",
    "import csv\n",
    "import numpy as np\n",
    "import pandas as pd\n",
    "import os\n",
    "import sys\n",
    "import scipy.spatial\n",
    "\n",
    "sys.path.insert(0, '../../../toolbox/toolbox')\n",
    "from circ_stats import * \n",
    "from matrices import *\n",
    "\n",
    "# should probably import toolbox so circ_stats etc is available..."
   ]
  },
  {
   "cell_type": "code",
   "execution_count": 8,
   "metadata": {},
   "outputs": [],
   "source": [
    "\n",
    "def by_character(variable):\n",
    "    ''' return variable name for each character '''\n",
    "    return [variable + '_' + character_roles[c] for c in range(5)]\n",
    "    \n",
    "\n",
    "def chars_df(df, var_name):\n",
    "    ''' subset a df with the different character values for a variable'''\n",
    "    return df[[var_name + '_' + cr for cr in character_roles]]\n",
    "\n",
    "\n",
    "def get_decision_sequence(df):\n",
    "    ''' grab decisions from a summary df'''\n",
    "    return df.loc[0, ['decisions_' + \"{:02d}\".format(t+1) for t in range(63)]]\n",
    "\n",
    "\n",
    "def repeat_array_cols(X, repeats=2):\n",
    "    return np.transpose([X] * repeats)\n"
   ]
  },
  {
   "cell_type": "markdown",
   "metadata": {},
   "source": [
    "# Log to more detailed xlsx"
   ]
  },
  {
   "cell_type": "code",
   "execution_count": 14,
   "metadata": {},
   "outputs": [],
   "source": [
    "# file_path = str(Path(f'{pkg_dir}/../data/example_subject/snt_18001.log'))\n",
    "# experimenter = 'KB'\n",
    "# parse_log(file_path, experimenter, output_timing=True, out_dir=None)"
   ]
  },
  {
   "cell_type": "markdown",
   "metadata": {},
   "source": [
    "# Behavior"
   ]
  },
  {
   "cell_type": "code",
   "execution_count": 87,
   "metadata": {},
   "outputs": [],
   "source": [
    "file_path = Path(f'{pkg_dir}/../data/example_subject/snt_18001.xlsx')\n",
    "compute_behavior(file_path, out_dir=f'{pkg_dir}/../data/example_subject/')"
   ]
  },
  {
   "cell_type": "markdown",
   "metadata": {},
   "source": [
    "# for RDVs"
   ]
  },
  {
   "cell_type": "code",
   "execution_count": 217,
   "metadata": {},
   "outputs": [],
   "source": [
    "from itertools import compress, product, combinations \n",
    "def combos(arr, k=2):\n",
    "    \"\"\" \n",
    "        arr: np.array to get combos from\n",
    "        r: num of combos\n",
    "    \"\"\"\n",
    "    return list(combinations(arr, k))"
   ]
  },
  {
   "cell_type": "code",
   "execution_count": 242,
   "metadata": {},
   "outputs": [],
   "source": [
    "file_path = Path(f'{pkg_dir}/../data/example_subject/snt_18001_behavior.xlsx')\n",
    "compute_rdvs(file_path, metric='euclidean', out_dir=None)"
   ]
  },
  {
   "cell_type": "markdown",
   "metadata": {},
   "source": [
    "# summarize all subjs"
   ]
  },
  {
   "cell_type": "code",
   "execution_count": 293,
   "metadata": {},
   "outputs": [
    {
     "name": "stdout",
     "output_type": "stream",
     "text": [
      "Preprocessing 1 of 2\r"
     ]
    },
    {
     "name": "stderr",
     "output_type": "stream",
     "text": [
      "/Users/matthew/opt/anaconda3/lib/python3.9/site-packages/openpyxl/worksheet/_read_only.py:79: UserWarning: Unknown extension is not supported and will be removed\n",
      "  for idx, row in parser.parse():\n"
     ]
    },
    {
     "name": "stdout",
     "output_type": "stream",
     "text": [
      "Preprocessing 2 of 2\r"
     ]
    },
    {
     "name": "stderr",
     "output_type": "stream",
     "text": [
      "/Users/matthew/opt/anaconda3/lib/python3.9/site-packages/openpyxl/worksheet/_read_only.py:79: UserWarning: Unknown extension is not supported and will be removed\n",
      "  for idx, row in parser.parse():\n"
     ]
    }
   ],
   "source": [
    "file_paths = [f'{pkg_dir}/../data/example_subject/snt_18001_behavior.xlsx', f'{pkg_dir}/../data/example_subject/snt_18001_behavior.xlsx']\n",
    "out_dir=f'{pkg_dir}/preprocessed_behavior/'\n",
    "\n",
    "summarize_behavior(file_paths, out_dir=out_dir)"
   ]
  }
 ],
 "metadata": {
  "kernelspec": {
   "display_name": "Python 3.10.6 ('social_navigation_task')",
   "language": "python",
   "name": "python3"
  },
  "language_info": {
   "codemirror_mode": {
    "name": "ipython",
    "version": 3
   },
   "file_extension": ".py",
   "mimetype": "text/x-python",
   "name": "python",
   "nbconvert_exporter": "python",
   "pygments_lexer": "ipython3",
   "version": "3.10.6"
  },
  "vscode": {
   "interpreter": {
    "hash": "17170a1c842d46f79a15d2f4651692da09dba23a7ada03f3baa74312cb67564b"
   }
  }
 },
 "nbformat": 4,
 "nbformat_minor": 5
}
