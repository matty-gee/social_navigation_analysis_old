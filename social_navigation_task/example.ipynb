{
 "cells": [
  {
   "cell_type": "code",
   "execution_count": 2,
   "metadata": {
    "tags": []
   },
   "outputs": [
    {
     "name": "stderr",
     "output_type": "stream",
     "text": [
      "//anaconda3/envs/social_navigation_task/lib/python3.10/site-packages/openpyxl/worksheet/_read_only.py:79: UserWarning: Unknown extension is not supported and will be removed\n",
      "  for idx, row in parser.parse():\n",
      "//anaconda3/envs/social_navigation_task/lib/python3.10/site-packages/openpyxl/worksheet/_read_only.py:79: UserWarning: Unknown extension is not supported and will be removed\n",
      "  for idx, row in parser.parse():\n"
     ]
    }
   ],
   "source": [
    "import os, sys, glob\n",
    "from pathlib import Path\n",
    "user = os.path.expanduser('~')\n",
    "sys.path.insert(0, '..')\n",
    "sys.path.insert(0, str(Path(f'{user}/Dropbox/Projects/social_navigation_task/social_navigation_task'))) # directory to social_navigation_task\n",
    "\n",
    "# load in preprocessing stuff\n",
    "import info as snt_info\n",
    "import preprocess as snt_preprc"
   ]
  },
  {
   "cell_type": "markdown",
   "metadata": {},
   "source": [
    "# 1 - Parse experiment files into usable data"
   ]
  },
  {
   "cell_type": "markdown",
   "metadata": {},
   "source": [
    "## IN-PERSON: Cogent logs"
   ]
  },
  {
   "cell_type": "code",
   "execution_count": 3,
   "metadata": {
    "jupyter": {
     "source_hidden": true
    },
    "tags": []
   },
   "outputs": [],
   "source": [
    "# log_dir = str(Path(f'{user}/Dropbox/Projects/social_navigation_task/data/example_logs'))\n",
    "# logs    = glob.glob(f'{log_dir}/*.log')\n",
    "# print(f'found {len(logs)} log files')\n",
    "# for log in logs:\n",
    "#     snt_preprc.parse_log(log, experimenter='kb', out_dir=log_dir)"
   ]
  },
  {
   "cell_type": "markdown",
   "metadata": {},
   "source": [
    "## ONLINE: Pavlovia CSVs \n",
    "Requires snt_version argument "
   ]
  },
  {
   "cell_type": "markdown",
   "metadata": {},
   "source": [
    "#### Multiple versions of the task"
   ]
  },
  {
   "cell_type": "code",
   "execution_count": 1,
   "metadata": {
    "jupyter": {
     "source_hidden": true
    },
    "tags": []
   },
   "outputs": [],
   "source": [
    "# csv_dir = str(Path(f'{user}/Dropbox/Projects/social_navigation_task/data/example_csvs'))\n",
    "# csvs    = glob.glob(f'{csv_dir}/*.csv')\n",
    "# print(f'found {len(csvs)} csv files')\n",
    "\n",
    "# for csv in csvs:\n",
    "#     if 'Adolescent' in csv:\n",
    "#         snt_version = 'adolescent_pilot'\n",
    "#     elif 'Prolific' in csv:\n",
    "#         snt_version = 'standard'\n",
    "#     elif 'Schema' in csv:\n",
    "#         snt_version = 'schema'\n",
    "#     print(csv, snt_version)\n",
    "#     snt_preprc.parse_csv(csv, snt_version=snt_version, out_dir=csv_dir) # wrapper for ParseCsv class"
   ]
  },
  {
   "cell_type": "markdown",
   "metadata": {},
   "source": [
    "#### Adolescent pilot"
   ]
  },
  {
   "cell_type": "code",
   "execution_count": 5,
   "metadata": {
    "collapsed": true,
    "jupyter": {
     "outputs_hidden": true
    },
    "tags": []
   },
   "outputs": [
    {
     "name": "stdout",
     "output_type": "stream",
     "text": [
      "Found 75 csvs\n",
      "Creating subdirectory for organized post task data\n",
      "nan does not have a \"snt_choice\" column. Exiting w/o preprocessing\n",
      "Error: /Users/matty_gee/Desktop/adolescent_pilot/CSVs/PARTICIPANT_Social_Navigation_2022-03-16_19h01.37.660.csv\n",
      "nan does not have a \"snt_choice\" column. Exiting w/o preprocessing\n",
      "Error: /Users/matty_gee/Desktop/adolescent_pilot/CSVs/PARTICIPANT_Social_Navigation_2022-03-15_17h05.57.402.csv\n",
      "nan does not have a \"snt_choice\" column. Exiting w/o preprocessing\n",
      "Error: /Users/matty_gee/Desktop/adolescent_pilot/CSVs/PARTICIPANT_Social_Navigation_2022-03-21_12h13.22.267.csv\n",
      "nan does not have a \"snt_choice\" column. Exiting w/o preprocessing\n",
      "Error: /Users/matty_gee/Desktop/adolescent_pilot/CSVs/PARTICIPANT_Social_Navigation_2022-02-15_15h40.28.684.csv\n",
      "nan does not have a \"snt_choice\" column. Exiting w/o preprocessing\n",
      "Error: /Users/matty_gee/Desktop/adolescent_pilot/CSVs/PARTICIPANT_Social_Navigation_2022-03-01_11h57.12.655.csv\n",
      "nan does not have a \"snt_choice\" column. Exiting w/o preprocessing\n",
      "Error: /Users/matty_gee/Desktop/adolescent_pilot/CSVs/PARTICIPANT_Social_Navigation_2022-02-10_18h11.44.682.csv\n",
      "nan does not have a \"snt_choice\" column. Exiting w/o preprocessing\n",
      "Error: /Users/matty_gee/Desktop/adolescent_pilot/CSVs/PARTICIPANT_Social_Navigation_2022-03-16_20h05.12.537.csv\n",
      "nan does not have a \"snt_choice\" column. Exiting w/o preprocessing\n",
      "Error: /Users/matty_gee/Desktop/adolescent_pilot/CSVs/PARTICIPANT_Social_Navigation_2022-03-01_11h57.05.602.csv\n",
      "nan does not have a \"snt_choice\" column. Exiting w/o preprocessing\n",
      "Error: /Users/matty_gee/Desktop/adolescent_pilot/CSVs/PARTICIPANT_Social_Navigation_2022-02-10_10h48.52.614.csv\n",
      "nan does not have a \"snt_choice\" column. Exiting w/o preprocessing\n",
      "Error: /Users/matty_gee/Desktop/adolescent_pilot/CSVs/PARTICIPANT_Social_Navigation_2022-03-17_13h41.01.179.csv\n",
      "nan does not have a \"snt_choice\" column. Exiting w/o preprocessing\n",
      "Error: /Users/matty_gee/Desktop/adolescent_pilot/CSVs/PARTICIPANT_Social_Navigation_2022-03-01_11h19.16.207.csv\n",
      "nan does not have a \"snt_choice\" column. Exiting w/o preprocessing\n",
      "Error: /Users/matty_gee/Desktop/adolescent_pilot/CSVs/PARTICIPANT_Social_Navigation_2022-02-15_20h08.59.420.csv\n",
      "nan does not have a \"snt_choice\" column. Exiting w/o preprocessing\n",
      "Error: /Users/matty_gee/Desktop/adolescent_pilot/CSVs/PARTICIPANT_Social_Navigation_2022-03-01_11h24.54.224.csv\n",
      "nan does not have a \"snt_choice\" column. Exiting w/o preprocessing\n",
      "Error: /Users/matty_gee/Desktop/adolescent_pilot/CSVs/PARTICIPANT_Social_Navigation_2022-02-10_10h45.04.289.csv\n",
      "nan does not have a \"snt_choice\" column. Exiting w/o preprocessing\n",
      "Error: /Users/matty_gee/Desktop/adolescent_pilot/CSVs/PARTICIPANT_Social_Navigation_2022-03-01_11h19.13.357.csv\n",
      "nan does not have a \"snt_choice\" column. Exiting w/o preprocessing\n",
      "Error: /Users/matty_gee/Desktop/adolescent_pilot/CSVs/PARTICIPANT_Social_Navigation_2022-02-09_08h55.07.408.csv\n",
      "Error: /Users/matty_gee/Desktop/adolescent_pilot/CSVs/PARTICIPANT_Social_Navigation_2022-01-30_20h21.35.138.csv\n",
      "nan does not have a \"snt_choice\" column. Exiting w/o preprocessing\n",
      "Error: /Users/matty_gee/Desktop/adolescent_pilot/CSVs/PARTICIPANT_Social_Navigation_2022-02-15_15h32.03.642.csv\n",
      "nan does not have a \"snt_choice\" column. Exiting w/o preprocessing\n",
      "Error: /Users/matty_gee/Desktop/adolescent_pilot/CSVs/PARTICIPANT_Social_Navigation_2022-03-17_13h41.38.214.csv\n",
      "nan does not have a \"snt_choice\" column. Exiting w/o preprocessing\n",
      "Error: /Users/matty_gee/Desktop/adolescent_pilot/CSVs/PARTICIPANT_Social_Navigation_2022-02-10_17h29.14.784.csv\n",
      "nan does not have a \"snt_choice\" column. Exiting w/o preprocessing\n",
      "Error: /Users/matty_gee/Desktop/adolescent_pilot/CSVs/PARTICIPANT_Social_Navigation_2022-02-10_10h45.51.615.csv\n",
      "nan does not have a \"snt_choice\" column. Exiting w/o preprocessing\n",
      "Error: /Users/matty_gee/Desktop/adolescent_pilot/CSVs/PARTICIPANT_Social_Navigation_2022-02-14_14h12.44.331.csv\n",
      "Error: /Users/matty_gee/Desktop/adolescent_pilot/CSVs/PARTICIPANT_Social_Navigation_2022-02-07_14h52.16.338.csv\n",
      "nan does not have a \"snt_choice\" column. Exiting w/o preprocessing\n",
      "Error: /Users/matty_gee/Desktop/adolescent_pilot/CSVs/PARTICIPANT_Social_Navigation_2022-02-15_15h08.52.444.csv\n",
      "nan does not have a \"snt_choice\" column. Exiting w/o preprocessing\n",
      "Error: /Users/matty_gee/Desktop/adolescent_pilot/CSVs/PARTICIPANT_Social_Navigation_2022-02-10_13h20.58.041.csv\n",
      "nan does not have a \"snt_choice\" column. Exiting w/o preprocessing\n",
      "Error: /Users/matty_gee/Desktop/adolescent_pilot/CSVs/PARTICIPANT_Social_Navigation_2022-03-17_13h41.20.989.csv\n",
      "nan does not have a \"snt_choice\" column. Exiting w/o preprocessing\n",
      "Error: /Users/matty_gee/Desktop/adolescent_pilot/CSVs/PARTICIPANT_Social_Navigation_2022-03-17_13h40.19.141.csv\n",
      "nan does not have a \"snt_choice\" column. Exiting w/o preprocessing\n",
      "Error: /Users/matty_gee/Desktop/adolescent_pilot/CSVs/PARTICIPANT_Social_Navigation_2022-03-01_11h24.39.839.csv\n",
      "nan does not have a \"snt_choice\" column. Exiting w/o preprocessing\n",
      "Error: /Users/matty_gee/Desktop/adolescent_pilot/CSVs/PARTICIPANT_Social_Navigation_2022-01-30_20h11.49.466.csv\n",
      "nan does not have a \"snt_choice\" column. Exiting w/o preprocessing\n",
      "Error: /Users/matty_gee/Desktop/adolescent_pilot/CSVs/PARTICIPANT_Social_Navigation_2022-02-10_13h18.23.961.csv\n",
      "nan does not have a \"snt_choice\" column. Exiting w/o preprocessing\n",
      "Error: /Users/matty_gee/Desktop/adolescent_pilot/CSVs/PARTICIPANT_Social_Navigation_2022-03-17_14h48.03.928.csv\n"
     ]
    },
    {
     "name": "stderr",
     "output_type": "stream",
     "text": [
      "//anaconda3/envs/social_navigation_task/lib/python3.10/site-packages/numpy/core/fromnumeric.py:3432: RuntimeWarning: Mean of empty slice.\n",
      "  return _methods._mean(a, axis=axis, dtype=dtype,\n"
     ]
    },
    {
     "name": "stdout",
     "output_type": "stream",
     "text": [
      "Error: /Users/matty_gee/Desktop/adolescent_pilot/CSVs/PARTICIPANT_Social_Navigation_2022-01-31_10h17.49.912.csv\n",
      "nan does not have a \"snt_choice\" column. Exiting w/o preprocessing\n",
      "Error: /Users/matty_gee/Desktop/adolescent_pilot/CSVs/PARTICIPANT_Social_Navigation_2022-02-10_13h05.16.265.csv\n",
      "nan does not have a \"snt_choice\" column. Exiting w/o preprocessing\n",
      "Error: /Users/matty_gee/Desktop/adolescent_pilot/CSVs/PARTICIPANT_Social_Navigation_2022-03-01_11h23.12.574.csv\n",
      "nan does not have a \"snt_choice\" column. Exiting w/o preprocessing\n",
      "Error: /Users/matty_gee/Desktop/adolescent_pilot/CSVs/PARTICIPANT_Social_Navigation_2022-03-01_11h24.48.418.csv\n",
      "nan does not have a \"snt_choice\" column. Exiting w/o preprocessing\n",
      "Error: /Users/matty_gee/Desktop/adolescent_pilot/CSVs/PARTICIPANT_Social_Navigation_2022-03-15_13h05.42.832.csv\n"
     ]
    }
   ],
   "source": [
    "base_dir = f'{user}/Desktop/adolescent_pilot'\n",
    "csv_dir  = f'{base_dir}/CSVs' # specify the data directory\n",
    "csvs     = glob.glob(f'{csv_dir}/*.csv')\n",
    "\n",
    "print(f'Found {len(csvs)} csvs')\n",
    "for csv in csvs:\n",
    "    try:\n",
    "        snt_preprc.parse_csv(csv, snt_version='adolescent_pilot', out_dir=base_dir) # wrapper for ParseCsv class\n",
    "    except:\n",
    "        print(f'Error: {csv}')"
   ]
  },
  {
   "cell_type": "markdown",
   "metadata": {},
   "source": [
    "# 2 - Compute behavioral measures"
   ]
  },
  {
   "cell_type": "code",
   "execution_count": 7,
   "metadata": {
    "collapsed": true,
    "jupyter": {
     "outputs_hidden": true
    },
    "tags": []
   },
   "outputs": [
    {
     "name": "stdout",
     "output_type": "stream",
     "text": [
      "Computing behavior for MF\n",
      "Computing behavior for SM\n",
      "Computing behavior for HM\n",
      "Computing behavior for SL\n",
      "Computing behavior for \"Test\"\n",
      "Computing behavior for ALS\n",
      "Computing behavior for ZZ\n",
      "Computing behavior for MHL\n",
      "Computing behavior for KX\n",
      "Computing behavior for AJL\n",
      "Computing behavior for RT\n",
      "Computing behavior for AB\n",
      "Computing behavior for AN\n",
      "Computing behavior for JS\n",
      "Computing behavior for ZM\n",
      "Computing behavior for JE\n",
      "Computing behavior for Test_SB_initials\n",
      "Computing behavior for AM\n",
      "Computing behavior for yg\n",
      "Computing behavior for MNC\n",
      "Computing behavior for MW\n",
      "Computing behavior for INITIALS\n",
      "Computing behavior for SAA\n",
      "Computing behavior for William Nicolas\n",
      "Computing behavior for I.K.\n",
      "Computing behavior for K.P\n",
      "Computing behavior for nan\n",
      "Computing behavior for SAS\n",
      "Computing behavior for JZ\n",
      "Computing behavior for JC\n",
      "Computing behavior for MH\n",
      "Computing behavior for test_initials\n",
      "Computing behavior for APC\n",
      "Computing behavior for SB\n",
      "Computing behavior for test-sb\n",
      "Computing behavior for MP\n"
     ]
    }
   ],
   "source": [
    "base_dir = f'{user}/Desktop/adolescent_pilot'\n",
    "xlsxs    = [f for f in glob.glob(f'{base_dir}/Organized/*.xlsx') if '~$' not in f]\n",
    "for i, xlsx in enumerate(xlsxs):\n",
    "    \n",
    "    # check if file is already computed: \n",
    "    sub_id = xlsx.split('snt_')[1].split('.xlsx')[0]\n",
    "    fname  = f'{behav_dir}/snt_{sub_id}_behavior.xlsx'\n",
    "    if not os.path.isfile(fname):\n",
    "        \n",
    "        print(f'Computing behavior for {sub_id}')\n",
    "        snt_preprc.compute_behavior(file_path=xlsx, out_dir=base_dir)"
   ]
  },
  {
   "cell_type": "markdown",
   "metadata": {},
   "source": [
    "# 3 - Summarize behavior"
   ]
  },
  {
   "cell_type": "code",
   "execution_count": 4,
   "metadata": {},
   "outputs": [
    {
     "name": "stdout",
     "output_type": "stream",
     "text": [
      "Summarizing 35 of 35\r"
     ]
    }
   ],
   "source": [
    "base_dir = f'{user}/Desktop/adolescent_pilot'\n",
    "xlsxs    = [f for f in glob.glob(f'{base_dir}/Behavior/*.xlsx') if '~$' not in f]\n",
    "snt_preprc.summarize_behavior(xlsxs, out_dir=base_dir)"
   ]
  },
  {
   "cell_type": "markdown",
   "metadata": {},
   "source": [
    "### Combine choice data w/ task info [optional]"
   ]
  },
  {
   "cell_type": "code",
   "execution_count": 29,
   "metadata": {
    "jupyter": {
     "source_hidden": true
    },
    "tags": []
   },
   "outputs": [],
   "source": [
    "# # if need to merge choice_data w/ task info\n",
    "# import pandas as pd\n",
    "# from preprocess import merge_choice_data\n",
    "\n",
    "# #set directories \n",
    "# orig_dir = str(Path(f'{user}/Documents/social_navigation_task-main/Task_Organized_10.20.22'))\n",
    "# xlsx_dir = str(Path(f'{user}/Documents/social_navigation_task-main/Task_Organized_Final'))\n",
    "\n",
    "# #find files \n",
    "# fnames = [f for f in glob.glob(f'/{orig_dir}/*.xlsx') if '~$' not in f]\n",
    "\n",
    "# for fname in fnames:\n",
    "#     choice_data = pd.read_excel(fname) # load in the xlsx\n",
    "#     merged_choice_data = merge_choice_data(choice_data, decision_cols=['scene_num', 'decision_num','char_decision_num'])\n",
    "#     fname_ = fname.split('/')[-1]\n",
    "#     out_fname = str(Path(f'{user}/Documents/social_navigation_task-main/Task_Organized_Final/snt_{fname_}')) \n",
    "#     merged_choice_data.to_excel(out_fname, index=False)\n",
    "    "
   ]
  }
 ],
 "metadata": {
  "kernelspec": {
   "display_name": "Python 3 (ipykernel)",
   "language": "python",
   "name": "python3"
  },
  "language_info": {
   "codemirror_mode": {
    "name": "ipython",
    "version": 3
   },
   "file_extension": ".py",
   "mimetype": "text/x-python",
   "name": "python",
   "nbconvert_exporter": "python",
   "pygments_lexer": "ipython3",
   "version": "3.10.6"
  },
  "vscode": {
   "interpreter": {
    "hash": "b1ca285c92a320ff98fe58312d3b510e493b69d5682a0af34cf4062e354ae88c"
   }
  }
 },
 "nbformat": 4,
 "nbformat_minor": 4
}
