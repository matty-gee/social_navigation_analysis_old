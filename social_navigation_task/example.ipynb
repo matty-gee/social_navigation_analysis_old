{
 "cells": [
  {
   "cell_type": "code",
   "execution_count": null,
   "metadata": {},
   "outputs": [],
   "source": [
    "# if installed as package from github"
   ]
  },
  {
   "cell_type": "code",
   "execution_count": 1,
   "metadata": {},
   "outputs": [
    {
     "name": "stderr",
     "output_type": "stream",
     "text": [
      "/Users/matthew/opt/anaconda3/lib/python3.9/site-packages/openpyxl/worksheet/_read_only.py:79: UserWarning: Unknown extension is not supported and will be removed\n",
      "  for idx, row in parser.parse():\n",
      "/Users/matthew/opt/anaconda3/lib/python3.9/site-packages/openpyxl/worksheet/_read_only.py:79: UserWarning: Unknown extension is not supported and will be removed\n",
      "  for idx, row in parser.parse():\n",
      "/Users/matthew/opt/anaconda3/lib/python3.9/site-packages/openpyxl/worksheet/_read_only.py:79: UserWarning: Unknown extension is not supported and will be removed\n",
      "  for idx, row in parser.parse():\n"
     ]
    }
   ],
   "source": [
    "# if cloned from github: \n",
    "import pandas as pd\n",
    "import sys, os, glob\n",
    "from pathlib import Path # cross-system compatability\n",
    "user = os.path.expanduser('~')\n",
    "sys.path.insert(0, '..')\n",
    "sys.path.insert(0, str(Path(f'{user}/Dropbox/Projects/social_navigation_task-main/social_navigation_task'))) # directory to social_navigation_task\n",
    "# sys.path.insert(0, str(Path(f'{user}/Documents/social_navigation_task-main/social_navigation_task'))) # directory to social_navigation_task\n",
    "\n",
    "import info as snt_info\n",
    "import preprocess as snt_preprc"
   ]
  },
  {
   "cell_type": "markdown",
   "metadata": {},
   "source": [
    "# Parse files"
   ]
  },
  {
   "cell_type": "markdown",
   "metadata": {},
   "source": [
    "# Combine choice data w/ task info"
   ]
  },
  {
   "cell_type": "code",
   "execution_count": 29,
   "metadata": {},
   "outputs": [],
   "source": [
    "# # if need to merge choice_data w/ task info\n",
    "# import pandas as pd\n",
    "# from preprocess import merge_choice_data\n",
    "\n",
    "# #set directories \n",
    "# orig_dir = str(Path(f'{user}/Documents/social_navigation_task-main/Task_Organized_10.20.22'))\n",
    "# xlsx_dir = str(Path(f'{user}/Documents/social_navigation_task-main/Task_Organized_Final'))\n",
    "\n",
    "# #find files \n",
    "# fnames = [f for f in glob.glob(f'/{orig_dir}/*.xlsx') if '~$' not in f]\n",
    "\n",
    "# for fname in fnames:\n",
    "#     choice_data = pd.read_excel(fname) # load in the xlsx\n",
    "#     merged_choice_data = merge_choice_data(choice_data, decision_cols=['scene_num', 'decision_num','char_decision_num'])\n",
    "#     fname_ = fname.split('/')[-1]\n",
    "#     out_fname = str(Path(f'{user}/Documents/social_navigation_task-main/Task_Organized_Final/snt_{fname_}')) \n",
    "#     merged_choice_data.to_excel(out_fname, index=False)\n",
    "    "
   ]
  },
  {
   "cell_type": "code",
   "execution_count": 5,
   "metadata": {},
   "outputs": [
    {
     "name": "stdout",
     "output_type": "stream",
     "text": [
      "1\n",
      "Computing behavior for 583_narrative_data\n",
      "Creating subdirectory for behavior\n"
     ]
    },
    {
     "ename": "ZeroDivisionError",
     "evalue": "division by zero",
     "output_type": "error",
     "traceback": [
      "\u001b[0;31m---------------------------------------------------------------------------\u001b[0m",
      "\u001b[0;31mZeroDivisionError\u001b[0m                         Traceback (most recent call last)",
      "\u001b[0;32m/var/folders/jq/pk75wqp554g5dhplx1d3m91h0000gw/T/ipykernel_21226/1233455086.py\u001b[0m in \u001b[0;36m<module>\u001b[0;34m\u001b[0m\n\u001b[1;32m     13\u001b[0m     \u001b[0;32mif\u001b[0m \u001b[0;32mnot\u001b[0m \u001b[0mos\u001b[0m\u001b[0;34m.\u001b[0m\u001b[0mpath\u001b[0m\u001b[0;34m.\u001b[0m\u001b[0misfile\u001b[0m\u001b[0;34m(\u001b[0m\u001b[0mfname\u001b[0m\u001b[0;34m)\u001b[0m\u001b[0;34m:\u001b[0m\u001b[0;34m\u001b[0m\u001b[0;34m\u001b[0m\u001b[0m\n\u001b[1;32m     14\u001b[0m         \u001b[0mprint\u001b[0m\u001b[0;34m(\u001b[0m\u001b[0;34mf'Computing behavior for {sub_id}'\u001b[0m\u001b[0;34m)\u001b[0m\u001b[0;34m\u001b[0m\u001b[0;34m\u001b[0m\u001b[0m\n\u001b[0;32m---> 15\u001b[0;31m         \u001b[0msnt_preprc\u001b[0m\u001b[0;34m.\u001b[0m\u001b[0mcompute_behavior\u001b[0m\u001b[0;34m(\u001b[0m\u001b[0mxlsx\u001b[0m\u001b[0;34m,\u001b[0m \u001b[0mout_dir\u001b[0m\u001b[0;34m=\u001b[0m\u001b[0mbehav_dir\u001b[0m\u001b[0;34m)\u001b[0m\u001b[0;34m\u001b[0m\u001b[0;34m\u001b[0m\u001b[0m\n\u001b[0m",
      "\u001b[0;32m~/Dropbox/Projects/social_navigation_task/social_navigation_task/preprocess.py\u001b[0m in \u001b[0;36mcompute_behavior\u001b[0;34m(file_path, out_dir)\u001b[0m\n\u001b[1;32m    761\u001b[0m         \u001b[0mnt\u001b[0m \u001b[0;34m=\u001b[0m \u001b[0mlen\u001b[0m\u001b[0;34m(\u001b[0m\u001b[0mdecisions\u001b[0m\u001b[0;34m)\u001b[0m\u001b[0;34m\u001b[0m\u001b[0;34m\u001b[0m\u001b[0m\n\u001b[1;32m    762\u001b[0m         \u001b[0mconstant\u001b[0m    \u001b[0;34m=\u001b[0m \u001b[0mnp\u001b[0m\u001b[0;34m.\u001b[0m\u001b[0mones\u001b[0m\u001b[0;34m(\u001b[0m\u001b[0mnt\u001b[0m\u001b[0;34m)\u001b[0m\u001b[0;34m[\u001b[0m\u001b[0;34m:\u001b[0m\u001b[0;34m,\u001b[0m\u001b[0;32mNone\u001b[0m\u001b[0;34m]\u001b[0m \u001b[0;31m# standard weighting with a constant\u001b[0m\u001b[0;34m\u001b[0m\u001b[0;34m\u001b[0m\u001b[0m\n\u001b[0;32m--> 763\u001b[0;31m         \u001b[0mlinear\u001b[0m      \u001b[0;34m=\u001b[0m \u001b[0mutils\u001b[0m\u001b[0;34m.\u001b[0m\u001b[0mlinear_decay\u001b[0m\u001b[0;34m(\u001b[0m\u001b[0;36m1\u001b[0m\u001b[0;34m,\u001b[0m \u001b[0;36m1\u001b[0m\u001b[0;34m/\u001b[0m\u001b[0mnt\u001b[0m\u001b[0;34m,\u001b[0m \u001b[0mnt\u001b[0m\u001b[0;34m)\u001b[0m\u001b[0;34m[\u001b[0m\u001b[0;34m:\u001b[0m\u001b[0;34m,\u001b[0m\u001b[0;32mNone\u001b[0m\u001b[0;34m]\u001b[0m\u001b[0;34m\u001b[0m\u001b[0;34m\u001b[0m\u001b[0m\n\u001b[0m\u001b[1;32m    764\u001b[0m         \u001b[0mexponential\u001b[0m \u001b[0;34m=\u001b[0m \u001b[0mutils\u001b[0m\u001b[0;34m.\u001b[0m\u001b[0mexponential_decay\u001b[0m\u001b[0;34m(\u001b[0m\u001b[0;36m1\u001b[0m\u001b[0;34m,\u001b[0m \u001b[0;36m1\u001b[0m\u001b[0;34m/\u001b[0m\u001b[0mnt\u001b[0m\u001b[0;34m,\u001b[0m \u001b[0mnt\u001b[0m\u001b[0;34m)\u001b[0m\u001b[0;34m[\u001b[0m\u001b[0;34m:\u001b[0m\u001b[0;34m,\u001b[0m\u001b[0;32mNone\u001b[0m\u001b[0;34m]\u001b[0m\u001b[0;34m\u001b[0m\u001b[0;34m\u001b[0m\u001b[0m\n\u001b[1;32m    765\u001b[0m \u001b[0;34m\u001b[0m\u001b[0m\n",
      "\u001b[0;31mZeroDivisionError\u001b[0m: division by zero"
     ]
    }
   ],
   "source": [
    "# organized data xlsx -> behavior\n",
    "# behav_dir = str(Path(f'{user}/Documents/social_navigation_task-main/Behav_Output_Final'))\n",
    "# xlsx_dir = str(Path(f'{user}/Documents/social_navigation_task-main/Task_Organized_Final'))\n",
    "\n",
    "behav_dir = '../data/example_subject'\n",
    "xlsxs = ['../data/example_subject/snt_583_narrative_data.xlsx']\n",
    "# xlsxs = [f for f in glob.glob(f'/{xlsx_dir}/*.xlsx') if '~$' not in f]\n",
    "print(len(xlsxs))\n",
    "for i, xlsx in enumerate(xlsxs):\n",
    "\n",
    "    sub_id = xlsx.split('snt_')[1].split('.xlsx')[0]\n",
    "    fname = f'{behav_dir}/snt_{sub_id}_behavior.xlsx'\n",
    "    if not os.path.isfile(fname):\n",
    "        print(f'Computing behavior for {sub_id}')\n",
    "        snt_preprc.compute_behavior(xlsx, out_dir=behav_dir)\n"
   ]
  },
  {
   "cell_type": "code",
   "execution_count": null,
   "metadata": {},
   "outputs": [],
   "source": [
    "# summarize the xlsxs\n",
    "summary_dir = str(Path(f'{user}/Documents/social_navigation_task-main'))\n",
    "behav_dir  = str(Path(f'{user}/Documents/social_navigation_task-main/Behav_Output_Final'))\n",
    "\n",
    "xlsxs = [f for f in glob.glob(f'{behav_dir}/*.xlsx') if '~$' not in f]\n",
    "snt_preprc.summarize_behavior(xlsxs, out_dir=summary_dir)"
   ]
  }
 ],
 "metadata": {
  "kernelspec": {
   "display_name": "Python 3 (ipykernel)",
   "language": "python",
   "name": "python3"
  },
  "language_info": {
   "codemirror_mode": {
    "name": "ipython",
    "version": 3
   },
   "file_extension": ".py",
   "mimetype": "text/x-python",
   "name": "python",
   "nbconvert_exporter": "python",
   "pygments_lexer": "ipython3",
   "version": "3.9.7"
  },
  "vscode": {
   "interpreter": {
    "hash": "b1ca285c92a320ff98fe58312d3b510e493b69d5682a0af34cf4062e354ae88c"
   }
  }
 },
 "nbformat": 4,
 "nbformat_minor": 2
}
