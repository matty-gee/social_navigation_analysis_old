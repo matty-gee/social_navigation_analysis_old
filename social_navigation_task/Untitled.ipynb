{
 "cells": [
  {
   "cell_type": "code",
   "execution_count": 1,
   "metadata": {},
   "outputs": [
    {
     "name": "stdout",
     "output_type": "stream",
     "text": [
      "Collecting git+https://github.com/matty-gee/social_navigation_task\n",
      "  Cloning https://github.com/matty-gee/social_navigation_task to /private/var/folders/08/fq92hkcd35vdjb79lkl7k0dr0000gn/T/pip-req-build-cgflwbmu\n",
      "  Running command git clone --filter=blob:none -q https://github.com/matty-gee/social_navigation_task /private/var/folders/08/fq92hkcd35vdjb79lkl7k0dr0000gn/T/pip-req-build-cgflwbmu\n",
      "  Resolved https://github.com/matty-gee/social_navigation_task to commit 371981ffa24918e05a6a3b35920277382c9054fd\n",
      "  Preparing metadata (setup.py) ... \u001b[?25lerror\n",
      "\u001b[31m  ERROR: Command errored out with exit status 1:\n",
      "   command: //anaconda3/bin/python -c 'import io, os, sys, setuptools, tokenize; sys.argv[0] = '\"'\"'/private/var/folders/08/fq92hkcd35vdjb79lkl7k0dr0000gn/T/pip-req-build-cgflwbmu/setup.py'\"'\"'; __file__='\"'\"'/private/var/folders/08/fq92hkcd35vdjb79lkl7k0dr0000gn/T/pip-req-build-cgflwbmu/setup.py'\"'\"';f = getattr(tokenize, '\"'\"'open'\"'\"', open)(__file__) if os.path.exists(__file__) else io.StringIO('\"'\"'from setuptools import setup; setup()'\"'\"');code = f.read().replace('\"'\"'\\r\\n'\"'\"', '\"'\"'\\n'\"'\"');f.close();exec(compile(code, __file__, '\"'\"'exec'\"'\"'))' egg_info --egg-base /private/var/folders/08/fq92hkcd35vdjb79lkl7k0dr0000gn/T/pip-pip-egg-info-7pdqcfd8\n",
      "       cwd: /private/var/folders/08/fq92hkcd35vdjb79lkl7k0dr0000gn/T/pip-req-build-cgflwbmu/\n",
      "  Complete output (47 lines):\n",
      "  Traceback (most recent call last):\n",
      "    File \"//anaconda3/lib/python3.7/site-packages/pkg_resources/_vendor/packaging/requirements.py\", line 90, in __init__\n",
      "      req = REQUIREMENT.parseString(requirement_string)\n",
      "    File \"//anaconda3/lib/python3.7/site-packages/pkg_resources/_vendor/pyparsing.py\", line 1654, in parseString\n",
      "      raise exc\n",
      "    File \"//anaconda3/lib/python3.7/site-packages/pkg_resources/_vendor/pyparsing.py\", line 1644, in parseString\n",
      "      loc, tokens = self._parse( instring, 0 )\n",
      "    File \"//anaconda3/lib/python3.7/site-packages/pkg_resources/_vendor/pyparsing.py\", line 1402, in _parseNoCache\n",
      "      loc,tokens = self.parseImpl( instring, preloc, doActions )\n",
      "    File \"//anaconda3/lib/python3.7/site-packages/pkg_resources/_vendor/pyparsing.py\", line 3417, in parseImpl\n",
      "      loc, exprtokens = e._parse( instring, loc, doActions )\n",
      "    File \"//anaconda3/lib/python3.7/site-packages/pkg_resources/_vendor/pyparsing.py\", line 1406, in _parseNoCache\n",
      "      loc,tokens = self.parseImpl( instring, preloc, doActions )\n",
      "    File \"//anaconda3/lib/python3.7/site-packages/pkg_resources/_vendor/pyparsing.py\", line 3205, in parseImpl\n",
      "      raise ParseException(instring, loc, self.errmsg, self)\n",
      "  pkg_resources._vendor.pyparsing.ParseException: Expected stringEnd (at char 3), (line:1, col:4)\n",
      "  \n",
      "  During handling of the above exception, another exception occurred:\n",
      "  \n",
      "  Traceback (most recent call last):\n",
      "    File \"//anaconda3/lib/python3.7/site-packages/pkg_resources/__init__.py\", line 3092, in __init__\n",
      "      super(Requirement, self).__init__(requirement_string)\n",
      "    File \"//anaconda3/lib/python3.7/site-packages/pkg_resources/_vendor/packaging/requirements.py\", line 94, in __init__\n",
      "      requirement_string[e.loc:e.loc + 8]))\n",
      "  pkg_resources.extern.packaging.requirements.InvalidRequirement: Invalid requirement, parse error at \"'+https:/'\"\n",
      "  \n",
      "  During handling of the above exception, another exception occurred:\n",
      "  \n",
      "  Traceback (most recent call last):\n",
      "    File \"<string>\", line 1, in <module>\n",
      "    File \"/private/var/folders/08/fq92hkcd35vdjb79lkl7k0dr0000gn/T/pip-req-build-cgflwbmu/setup.py\", line 3, in <module>\n",
      "      setuptools.setup()\n",
      "    File \"//anaconda3/lib/python3.7/site-packages/setuptools/__init__.py\", line 144, in setup\n",
      "      _install_setup_requires(attrs)\n",
      "    File \"//anaconda3/lib/python3.7/site-packages/setuptools/__init__.py\", line 137, in _install_setup_requires\n",
      "      dist.parse_config_files(ignore_option_errors=True)\n",
      "    File \"//anaconda3/lib/python3.7/site-packages/setuptools/dist.py\", line 699, in parse_config_files\n",
      "      self._finalize_requires()\n",
      "    File \"//anaconda3/lib/python3.7/site-packages/setuptools/dist.py\", line 503, in _finalize_requires\n",
      "      self._move_install_requirements_markers()\n",
      "    File \"//anaconda3/lib/python3.7/site-packages/setuptools/dist.py\", line 542, in _move_install_requirements_markers\n",
      "      inst_reqs = list(pkg_resources.parse_requirements(spec_inst_reqs))\n",
      "    File \"//anaconda3/lib/python3.7/site-packages/pkg_resources/__init__.py\", line 3085, in parse_requirements\n",
      "      yield Requirement(line)\n",
      "    File \"//anaconda3/lib/python3.7/site-packages/pkg_resources/__init__.py\", line 3094, in __init__\n",
      "      raise RequirementParseError(str(e))\n",
      "  pkg_resources.RequirementParseError: Invalid requirement, parse error at \"'+https:/'\"\n",
      "  ----------------------------------------\u001b[0m\n",
      "\u001b[33mWARNING: Discarding git+https://github.com/matty-gee/social_navigation_task. Command errored out with exit status 1: python setup.py egg_info Check the logs for full command output.\u001b[0m\n",
      "\u001b[31mERROR: Command errored out with exit status 1: python setup.py egg_info Check the logs for full command output.\u001b[0m\n",
      "\u001b[33mWARNING: You are using pip version 21.3.1; however, version 22.2.2 is available.\n",
      "You should consider upgrading via the '//anaconda3/bin/python -m pip install --upgrade pip' command.\u001b[0m\n",
      "\u001b[?25h"
     ]
    }
   ],
   "source": [
    "! pip install git+https://github.com/matty-gee/social_navigation_task"
   ]
  },
  {
   "cell_type": "code",
   "execution_count": 2,
   "metadata": {},
   "outputs": [
    {
     "name": "stderr",
     "output_type": "stream",
     "text": [
      "//anaconda3/lib/python3.7/site-packages/pandas/compat/_optional.py:138: UserWarning: Pandas requires version '2.7.0' or newer of 'numexpr' (version '2.6.9' currently installed).\n",
      "  warnings.warn(msg, UserWarning)\n",
      "//anaconda3/lib/python3.7/site-packages/openpyxl/worksheet/_reader.py:312: UserWarning: Unknown extension is not supported and will be removed\n",
      "  warn(msg)\n"
     ]
    },
    {
     "ename": "ModuleNotFoundError",
     "evalue": "No module named 'toolbox'",
     "output_type": "error",
     "traceback": [
      "\u001b[0;31m-----------------------------------------------------\u001b[0m",
      "\u001b[0;31mModuleNotFoundError\u001b[0m Traceback (most recent call last)",
      "\u001b[0;32m<ipython-input-2-d0e2d50f22ff>\u001b[0m in \u001b[0;36m<module>\u001b[0;34m\u001b[0m\n\u001b[0;32m----> 1\u001b[0;31m \u001b[0;32mimport\u001b[0m \u001b[0msocial_navigation_task\u001b[0m \u001b[0;32mas\u001b[0m \u001b[0msnt\u001b[0m\u001b[0;34m\u001b[0m\u001b[0;34m\u001b[0m\u001b[0m\n\u001b[0m",
      "\u001b[0;32m//anaconda3/lib/python3.7/site-packages/social_navigation_task/__init__.py\u001b[0m in \u001b[0;36m<module>\u001b[0;34m\u001b[0m\n\u001b[1;32m     17\u001b[0m '''\n\u001b[1;32m     18\u001b[0m \u001b[0;34m\u001b[0m\u001b[0m\n\u001b[0;32m---> 19\u001b[0;31m \u001b[0;32mimport\u001b[0m \u001b[0mpreprocess\u001b[0m\u001b[0;34m\u001b[0m\u001b[0;34m\u001b[0m\u001b[0m\n\u001b[0m\u001b[1;32m     20\u001b[0m \u001b[0;32mimport\u001b[0m \u001b[0minfo\u001b[0m\u001b[0;34m\u001b[0m\u001b[0;34m\u001b[0m\u001b[0m\n\u001b[1;32m     21\u001b[0m \u001b[0;34m\u001b[0m\u001b[0m\n",
      "\u001b[0;32m~/Dropbox/Projects/_DEV/social_navigation_task/social_navigation_task/preprocess.py\u001b[0m in \u001b[0;36m<module>\u001b[0;34m\u001b[0m\n\u001b[1;32m     18\u001b[0m \u001b[0;34m\u001b[0m\u001b[0m\n\u001b[1;32m     19\u001b[0m \u001b[0;34m\u001b[0m\u001b[0m\n\u001b[0;32m---> 20\u001b[0;31m \u001b[0;32mfrom\u001b[0m \u001b[0mtoolbox\u001b[0m \u001b[0;32mimport\u001b[0m \u001b[0;34m*\u001b[0m\u001b[0;34m\u001b[0m\u001b[0;34m\u001b[0m\u001b[0m\n\u001b[0m\u001b[1;32m     21\u001b[0m \u001b[0;34m\u001b[0m\u001b[0m\n\u001b[1;32m     22\u001b[0m \u001b[0;31m##########################################################################################\u001b[0m\u001b[0;34m\u001b[0m\u001b[0;34m\u001b[0m\u001b[0;34m\u001b[0m\u001b[0m\n",
      "\u001b[0;31mModuleNotFoundError\u001b[0m: No module named 'toolbox'"
     ]
    }
   ],
   "source": [
    "import social_navigation_task as snt"
   ]
  },
  {
   "cell_type": "code",
   "execution_count": null,
   "metadata": {},
   "outputs": [],
   "source": []
  },
  {
   "cell_type": "code",
   "execution_count": 4,
   "metadata": {},
   "outputs": [
    {
     "name": "stderr",
     "output_type": "stream",
     "text": [
      "//anaconda3/lib/python3.7/site-packages/pandas/compat/_optional.py:138: UserWarning: Pandas requires version '2.7.0' or newer of 'numexpr' (version '2.6.9' currently installed).\n",
      "  warnings.warn(msg, UserWarning)\n",
      "//anaconda3/lib/python3.7/site-packages/openpyxl/worksheet/_reader.py:312: UserWarning: Unknown extension is not supported and will be removed\n",
      "  warn(msg)\n"
     ]
    },
    {
     "ename": "ModuleNotFoundError",
     "evalue": "No module named 'toolbox'",
     "output_type": "error",
     "traceback": [
      "\u001b[0;31m-----------------------------------------------------\u001b[0m",
      "\u001b[0;31mModuleNotFoundError\u001b[0m Traceback (most recent call last)",
      "\u001b[0;32m<ipython-input-4-7e89577457e1>\u001b[0m in \u001b[0;36m<module>\u001b[0;34m\u001b[0m\n\u001b[0;32m----> 1\u001b[0;31m \u001b[0;32mfrom\u001b[0m \u001b[0msocial_navigation_task\u001b[0m \u001b[0;32mimport\u001b[0m \u001b[0mpreprocess\u001b[0m\u001b[0;34m\u001b[0m\u001b[0;34m\u001b[0m\u001b[0m\n\u001b[0m",
      "\u001b[0;32m//anaconda3/lib/python3.7/site-packages/social_navigation_task/preprocess.py\u001b[0m in \u001b[0;36m<module>\u001b[0;34m\u001b[0m\n\u001b[1;32m     16\u001b[0m \u001b[0;32mfrom\u001b[0m \u001b[0minfo\u001b[0m \u001b[0;32mimport\u001b[0m \u001b[0;34m*\u001b[0m\u001b[0;34m\u001b[0m\u001b[0;34m\u001b[0m\u001b[0m\n\u001b[1;32m     17\u001b[0m \u001b[0;32mfrom\u001b[0m \u001b[0mutils\u001b[0m \u001b[0;32mimport\u001b[0m \u001b[0;34m*\u001b[0m\u001b[0;34m\u001b[0m\u001b[0;34m\u001b[0m\u001b[0m\n\u001b[0;32m---> 18\u001b[0;31m \u001b[0;32mfrom\u001b[0m \u001b[0mtoolbox\u001b[0m \u001b[0;32mimport\u001b[0m \u001b[0;34m*\u001b[0m\u001b[0;34m\u001b[0m\u001b[0;34m\u001b[0m\u001b[0m\n\u001b[0m\u001b[1;32m     19\u001b[0m \u001b[0;34m\u001b[0m\u001b[0m\n\u001b[1;32m     20\u001b[0m \u001b[0;31m##########################################################################################\u001b[0m\u001b[0;34m\u001b[0m\u001b[0;34m\u001b[0m\u001b[0;34m\u001b[0m\u001b[0m\n",
      "\u001b[0;31mModuleNotFoundError\u001b[0m: No module named 'toolbox'"
     ]
    }
   ],
   "source": [
    "from social_navigation_task import preprocess"
   ]
  },
  {
   "cell_type": "code",
   "execution_count": 3,
   "metadata": {},
   "outputs": [
    {
     "ename": "AttributeError",
     "evalue": "module 'social_navigation_task' has no attribute 'preprocess'",
     "output_type": "error",
     "traceback": [
      "\u001b[0;31m-----------------------------------------------------\u001b[0m",
      "\u001b[0;31mAttributeError\u001b[0m      Traceback (most recent call last)",
      "\u001b[0;32m<ipython-input-3-6a3bdef4db08>\u001b[0m in \u001b[0;36m<module>\u001b[0;34m\u001b[0m\n\u001b[0;32m----> 1\u001b[0;31m \u001b[0msnt\u001b[0m\u001b[0;34m.\u001b[0m\u001b[0mpreprocess\u001b[0m\u001b[0;34m\u001b[0m\u001b[0;34m\u001b[0m\u001b[0m\n\u001b[0m",
      "\u001b[0;31mAttributeError\u001b[0m: module 'social_navigation_task' has no attribute 'preprocess'"
     ]
    }
   ],
   "source": [
    "prepro"
   ]
  },
  {
   "cell_type": "code",
   "execution_count": null,
   "metadata": {},
   "outputs": [],
   "source": []
  }
 ],
 "metadata": {
  "kernelspec": {
   "display_name": "Python 3",
   "language": "python",
   "name": "python3"
  },
  "language_info": {
   "codemirror_mode": {
    "name": "ipython",
    "version": 3
   },
   "file_extension": ".py",
   "mimetype": "text/x-python",
   "name": "python",
   "nbconvert_exporter": "python",
   "pygments_lexer": "ipython3",
   "version": "3.7.3"
  }
 },
 "nbformat": 4,
 "nbformat_minor": 4
}
