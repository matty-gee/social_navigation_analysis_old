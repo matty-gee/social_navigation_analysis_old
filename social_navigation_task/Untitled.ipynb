{
 "cells": [
  {
   "cell_type": "code",
   "execution_count": 7,
   "metadata": {},
   "outputs": [
    {
     "name": "stdout",
     "output_type": "stream",
     "text": [
      "Collecting git+https://github.com/matty-gee/toolbox\n",
      "  Cloning https://github.com/matty-gee/toolbox to /private/var/folders/08/fq92hkcd35vdjb79lkl7k0dr0000gn/T/pip-req-build-x2gl6xlj\n",
      "  Running command git clone --filter=blob:none -q https://github.com/matty-gee/toolbox /private/var/folders/08/fq92hkcd35vdjb79lkl7k0dr0000gn/T/pip-req-build-x2gl6xlj\n",
      "  Resolved https://github.com/matty-gee/toolbox to commit 54c4bf81f57853375b46b828cbfe612087eb2019\n",
      "  Preparing metadata (setup.py) ... \u001b[?25ldone\n",
      "\u001b[?25hRequirement already satisfied: astropy in /anaconda3/lib/python3.7/site-packages (from toolbox==0.0.13) (3.2.1)\n",
      "Requirement already satisfied: factor_analyzer in /anaconda3/lib/python3.7/site-packages (from toolbox==0.0.13) (0.3.2)\n",
      "Requirement already satisfied: matplotlib in /anaconda3/lib/python3.7/site-packages (from toolbox==0.0.13) (3.1.3)\n",
      "Requirement already satisfied: networkx in /anaconda3/lib/python3.7/site-packages (from toolbox==0.0.13) (2.5)\n",
      "Requirement already satisfied: nilearn in /anaconda3/lib/python3.7/site-packages (from toolbox==0.0.13) (0.9.2.dev0)\n",
      "Requirement already satisfied: nibabel in /anaconda3/lib/python3.7/site-packages (from toolbox==0.0.13) (3.1.1)\n",
      "Requirement already satisfied: nose in /anaconda3/lib/python3.7/site-packages (from toolbox==0.0.13) (1.3.7)\n",
      "Requirement already satisfied: numpy in /anaconda3/lib/python3.7/site-packages (from toolbox==0.0.13) (1.21.4)\n",
      "Requirement already satisfied: pandas in /anaconda3/lib/python3.7/site-packages (from toolbox==0.0.13) (1.3.5)\n",
      "Requirement already satisfied: patsy in /anaconda3/lib/python3.7/site-packages (from toolbox==0.0.13) (0.5.1)\n",
      "Requirement already satisfied: prince in /anaconda3/lib/python3.7/site-packages (from toolbox==0.0.13) (0.7.0)\n",
      "Requirement already satisfied: pycircstat in /anaconda3/lib/python3.7/site-packages (from toolbox==0.0.13) (0.0.2)\n",
      "Requirement already satisfied: scikit_learn in /anaconda3/lib/python3.7/site-packages (from toolbox==0.0.13) (1.0.1)\n",
      "Requirement already satisfied: scipy in /anaconda3/lib/python3.7/site-packages (from toolbox==0.0.13) (1.7.2)\n",
      "Requirement already satisfied: seaborn in /anaconda3/lib/python3.7/site-packages (from toolbox==0.0.13) (0.11.2)\n",
      "Requirement already satisfied: setuptools in /anaconda3/lib/python3.7/site-packages (from toolbox==0.0.13) (41.0.1)\n",
      "Requirement already satisfied: Shapely in /anaconda3/lib/python3.7/site-packages (from toolbox==0.0.13) (1.8.1.post1)\n",
      "Requirement already satisfied: shapesimilarity in /anaconda3/lib/python3.7/site-packages (from toolbox==0.0.13) (0.0.1)\n",
      "Requirement already satisfied: six in /anaconda3/lib/python3.7/site-packages (from toolbox==0.0.13) (1.12.0)\n",
      "Requirement already satisfied: statsmodels in /anaconda3/lib/python3.7/site-packages (from toolbox==0.0.13) (0.10.1)\n",
      "Requirement already satisfied: torch in /anaconda3/lib/python3.7/site-packages (from toolbox==0.0.13) (1.9.0)\n",
      "Requirement already satisfied: xlsx2csv in /anaconda3/lib/python3.7/site-packages (from toolbox==0.0.13) (0.8.0)\n",
      "Requirement already satisfied: cycler>=0.10 in /anaconda3/lib/python3.7/site-packages (from matplotlib->toolbox==0.0.13) (0.10.0)\n",
      "Requirement already satisfied: python-dateutil>=2.1 in /anaconda3/lib/python3.7/site-packages (from matplotlib->toolbox==0.0.13) (2.8.0)\n",
      "Requirement already satisfied: kiwisolver>=1.0.1 in /anaconda3/lib/python3.7/site-packages (from matplotlib->toolbox==0.0.13) (1.1.0)\n",
      "Requirement already satisfied: pyparsing!=2.0.4,!=2.1.2,!=2.1.6,>=2.0.1 in /anaconda3/lib/python3.7/site-packages (from matplotlib->toolbox==0.0.13) (2.4.0)\n",
      "Requirement already satisfied: decorator>=4.3.0 in /anaconda3/lib/python3.7/site-packages (from networkx->toolbox==0.0.13) (4.4.0)\n",
      "Requirement already satisfied: packaging>=14.3 in /anaconda3/lib/python3.7/site-packages (from nibabel->toolbox==0.0.13) (19.0)\n",
      "Requirement already satisfied: joblib>=0.15 in /anaconda3/lib/python3.7/site-packages (from nilearn->toolbox==0.0.13) (1.1.0)\n",
      "Requirement already satisfied: requests>=2 in /anaconda3/lib/python3.7/site-packages (from nilearn->toolbox==0.0.13) (2.22.0)\n",
      "Requirement already satisfied: lxml in /anaconda3/lib/python3.7/site-packages (from nilearn->toolbox==0.0.13) (4.3.4)\n",
      "Requirement already satisfied: pytz>=2017.3 in /anaconda3/lib/python3.7/site-packages (from pandas->toolbox==0.0.13) (2019.1)\n",
      "Requirement already satisfied: threadpoolctl>=2.0.0 in /anaconda3/lib/python3.7/site-packages (from scikit_learn->toolbox==0.0.13) (3.0.0)\n",
      "Requirement already satisfied: typing-extensions in /anaconda3/lib/python3.7/site-packages (from torch->toolbox==0.0.13) (3.7.4.2)\n",
      "Requirement already satisfied: chardet<3.1.0,>=3.0.2 in /anaconda3/lib/python3.7/site-packages (from requests>=2->nilearn->toolbox==0.0.13) (3.0.4)\n",
      "Requirement already satisfied: urllib3!=1.25.0,!=1.25.1,<1.26,>=1.21.1 in /anaconda3/lib/python3.7/site-packages (from requests>=2->nilearn->toolbox==0.0.13) (1.24.2)\n",
      "Requirement already satisfied: idna<2.9,>=2.5 in /anaconda3/lib/python3.7/site-packages (from requests>=2->nilearn->toolbox==0.0.13) (2.8)\n",
      "Requirement already satisfied: certifi>=2017.4.17 in /anaconda3/lib/python3.7/site-packages (from requests>=2->nilearn->toolbox==0.0.13) (2019.6.16)\n",
      "\u001b[33mWARNING: You are using pip version 21.3.1; however, version 22.2.2 is available.\n",
      "You should consider upgrading via the '//anaconda3/bin/python -m pip install --upgrade pip' command.\u001b[0m\n"
     ]
    }
   ],
   "source": [
    "! pip install git+https://github.com/matty-gee/toolbox"
   ]
  },
  {
   "cell_type": "code",
   "execution_count": null,
   "metadata": {},
   "outputs": [],
   "source": [
    "from toolbox.circ_stats import *"
   ]
  },
  {
   "cell_type": "code",
   "execution_count": 2,
   "metadata": {},
   "outputs": [
    {
     "name": "stderr",
     "output_type": "stream",
     "text": [
      "//anaconda3/lib/python3.7/site-packages/pandas/compat/_optional.py:138: UserWarning: Pandas requires version '2.7.0' or newer of 'numexpr' (version '2.6.9' currently installed).\n",
      "  warnings.warn(msg, UserWarning)\n",
      "//anaconda3/lib/python3.7/site-packages/openpyxl/worksheet/_reader.py:312: UserWarning: Unknown extension is not supported and will be removed\n",
      "  warn(msg)\n"
     ]
    }
   ],
   "source": [
    "import social_navigation_task as snt"
   ]
  },
  {
   "cell_type": "code",
   "execution_count": 5,
   "metadata": {},
   "outputs": [
    {
     "ename": "NameError",
     "evalue": "name 'ut_vec_pw_dist' is not defined",
     "output_type": "error",
     "traceback": [
      "\u001b[0;31m-----------------------------------------------------\u001b[0m",
      "\u001b[0;31mNameError\u001b[0m           Traceback (most recent call last)",
      "\u001b[0;32m<ipython-input-5-1468dffea6c0>\u001b[0m in \u001b[0;36m<module>\u001b[0;34m\u001b[0m\n\u001b[0;32m----> 1\u001b[0;31m \u001b[0msnt\u001b[0m\u001b[0;34m.\u001b[0m\u001b[0mpreprocess\u001b[0m\u001b[0;34m.\u001b[0m\u001b[0mget_rsa_snt_covs\u001b[0m\u001b[0;34m(\u001b[0m\u001b[0;34m)\u001b[0m\u001b[0;34m\u001b[0m\u001b[0;34m\u001b[0m\u001b[0m\n\u001b[0m",
      "\u001b[0;32m~/Dropbox/Projects/_DEV/social_navigation_task/social_navigation_task/preprocess.py\u001b[0m in \u001b[0;36mget_rsa_snt_covs\u001b[0;34m(metric, trial_ixs)\u001b[0m\n\u001b[1;32m    648\u001b[0m     \u001b[0mtime_rdvs\u001b[0m \u001b[0;34m=\u001b[0m \u001b[0mnp\u001b[0m\u001b[0;34m.\u001b[0m\u001b[0mvstack\u001b[0m\u001b[0;34m(\u001b[0m\u001b[0;34m[\u001b[0m\u001b[0mut_vec_pw_dist\u001b[0m\u001b[0;34m(\u001b[0m\u001b[0mnp\u001b[0m\u001b[0;34m.\u001b[0m\u001b[0marray\u001b[0m\u001b[0;34m(\u001b[0m\u001b[0mdecisions\u001b[0m\u001b[0;34m[\u001b[0m\u001b[0;34m'cogent_onset'\u001b[0m\u001b[0;34m]\u001b[0m\u001b[0;34m)\u001b[0m\u001b[0;34m)\u001b[0m \u001b[0;34m**\u001b[0m \u001b[0mp\u001b[0m \u001b[0;32mfor\u001b[0m \u001b[0mp\u001b[0m \u001b[0;32min\u001b[0m \u001b[0mrange\u001b[0m\u001b[0;34m(\u001b[0m\u001b[0;36m1\u001b[0m\u001b[0;34m,\u001b[0m\u001b[0;36m8\u001b[0m\u001b[0;34m)\u001b[0m\u001b[0;34m]\u001b[0m\u001b[0;34m)\u001b[0m\u001b[0;34m.\u001b[0m\u001b[0mT\u001b[0m\u001b[0;34m\u001b[0m\u001b[0;34m\u001b[0m\u001b[0m\n\u001b[1;32m    649\u001b[0m     \u001b[0mcols\u001b[0m \u001b[0;34m=\u001b[0m \u001b[0mcols\u001b[0m \u001b[0;34m+\u001b[0m \u001b[0;34m[\u001b[0m\u001b[0;34mf'time{t+1}'\u001b[0m \u001b[0;32mfor\u001b[0m \u001b[0mt\u001b[0m \u001b[0;32min\u001b[0m \u001b[0mrange\u001b[0m\u001b[0;34m(\u001b[0m\u001b[0mtime_rdvs\u001b[0m\u001b[0;34m.\u001b[0m\u001b[0mshape\u001b[0m\u001b[0;34m[\u001b[0m\u001b[0;36m1\u001b[0m\u001b[0;34m]\u001b[0m\u001b[0;34m)\u001b[0m\u001b[0;34m]\u001b[0m\u001b[0;34m\u001b[0m\u001b[0;34m\u001b[0m\u001b[0m\n\u001b[0;32m--> 650\u001b[0;31m \u001b[0;34m\u001b[0m\u001b[0m\n\u001b[0m\u001b[1;32m    651\u001b[0m     \u001b[0;31m# narrative rdms - continuous-ish\u001b[0m\u001b[0;34m\u001b[0m\u001b[0;34m\u001b[0m\u001b[0;34m\u001b[0m\u001b[0m\n\u001b[1;32m    652\u001b[0m     \u001b[0mnarr_rdvs\u001b[0m \u001b[0;34m=\u001b[0m \u001b[0mnp\u001b[0m\u001b[0;34m.\u001b[0m\u001b[0mvstack\u001b[0m\u001b[0;34m(\u001b[0m\u001b[0;34m[\u001b[0m\u001b[0mut_vec_pw_dist\u001b[0m\u001b[0;34m(\u001b[0m\u001b[0mdecisions\u001b[0m\u001b[0;34m[\u001b[0m\u001b[0mcol\u001b[0m\u001b[0;34m]\u001b[0m\u001b[0;34m.\u001b[0m\u001b[0mvalues\u001b[0m\u001b[0;34m)\u001b[0m \u001b[0;32mfor\u001b[0m \u001b[0mcol\u001b[0m \u001b[0;32min\u001b[0m \u001b[0;34m[\u001b[0m\u001b[0;34m'slide_num'\u001b[0m\u001b[0;34m,\u001b[0m\u001b[0;34m'scene_num'\u001b[0m\u001b[0;34m,\u001b[0m\u001b[0;34m'char_decision_num'\u001b[0m\u001b[0;34m]\u001b[0m\u001b[0;34m]\u001b[0m\u001b[0;34m)\u001b[0m\u001b[0;34m.\u001b[0m\u001b[0mT\u001b[0m\u001b[0;34m\u001b[0m\u001b[0;34m\u001b[0m\u001b[0m\n",
      "\u001b[0;32m~/Dropbox/Projects/_DEV/social_navigation_task/social_navigation_task/preprocess.py\u001b[0m in \u001b[0;36m<listcomp>\u001b[0;34m(.0)\u001b[0m\n\u001b[1;32m    648\u001b[0m     \u001b[0mtime_rdvs\u001b[0m \u001b[0;34m=\u001b[0m \u001b[0mnp\u001b[0m\u001b[0;34m.\u001b[0m\u001b[0mvstack\u001b[0m\u001b[0;34m(\u001b[0m\u001b[0;34m[\u001b[0m\u001b[0mut_vec_pw_dist\u001b[0m\u001b[0;34m(\u001b[0m\u001b[0mnp\u001b[0m\u001b[0;34m.\u001b[0m\u001b[0marray\u001b[0m\u001b[0;34m(\u001b[0m\u001b[0mdecisions\u001b[0m\u001b[0;34m[\u001b[0m\u001b[0;34m'cogent_onset'\u001b[0m\u001b[0;34m]\u001b[0m\u001b[0;34m)\u001b[0m\u001b[0;34m)\u001b[0m \u001b[0;34m**\u001b[0m \u001b[0mp\u001b[0m \u001b[0;32mfor\u001b[0m \u001b[0mp\u001b[0m \u001b[0;32min\u001b[0m \u001b[0mrange\u001b[0m\u001b[0;34m(\u001b[0m\u001b[0;36m1\u001b[0m\u001b[0;34m,\u001b[0m\u001b[0;36m8\u001b[0m\u001b[0;34m)\u001b[0m\u001b[0;34m]\u001b[0m\u001b[0;34m)\u001b[0m\u001b[0;34m.\u001b[0m\u001b[0mT\u001b[0m\u001b[0;34m\u001b[0m\u001b[0;34m\u001b[0m\u001b[0m\n\u001b[1;32m    649\u001b[0m     \u001b[0mcols\u001b[0m \u001b[0;34m=\u001b[0m \u001b[0mcols\u001b[0m \u001b[0;34m+\u001b[0m \u001b[0;34m[\u001b[0m\u001b[0;34mf'time{t+1}'\u001b[0m \u001b[0;32mfor\u001b[0m \u001b[0mt\u001b[0m \u001b[0;32min\u001b[0m \u001b[0mrange\u001b[0m\u001b[0;34m(\u001b[0m\u001b[0mtime_rdvs\u001b[0m\u001b[0;34m.\u001b[0m\u001b[0mshape\u001b[0m\u001b[0;34m[\u001b[0m\u001b[0;36m1\u001b[0m\u001b[0;34m]\u001b[0m\u001b[0;34m)\u001b[0m\u001b[0;34m]\u001b[0m\u001b[0;34m\u001b[0m\u001b[0;34m\u001b[0m\u001b[0m\n\u001b[0;32m--> 650\u001b[0;31m \u001b[0;34m\u001b[0m\u001b[0m\n\u001b[0m\u001b[1;32m    651\u001b[0m     \u001b[0;31m# narrative rdms - continuous-ish\u001b[0m\u001b[0;34m\u001b[0m\u001b[0;34m\u001b[0m\u001b[0;34m\u001b[0m\u001b[0m\n\u001b[1;32m    652\u001b[0m     \u001b[0mnarr_rdvs\u001b[0m \u001b[0;34m=\u001b[0m \u001b[0mnp\u001b[0m\u001b[0;34m.\u001b[0m\u001b[0mvstack\u001b[0m\u001b[0;34m(\u001b[0m\u001b[0;34m[\u001b[0m\u001b[0mut_vec_pw_dist\u001b[0m\u001b[0;34m(\u001b[0m\u001b[0mdecisions\u001b[0m\u001b[0;34m[\u001b[0m\u001b[0mcol\u001b[0m\u001b[0;34m]\u001b[0m\u001b[0;34m.\u001b[0m\u001b[0mvalues\u001b[0m\u001b[0;34m)\u001b[0m \u001b[0;32mfor\u001b[0m \u001b[0mcol\u001b[0m \u001b[0;32min\u001b[0m \u001b[0;34m[\u001b[0m\u001b[0;34m'slide_num'\u001b[0m\u001b[0;34m,\u001b[0m\u001b[0;34m'scene_num'\u001b[0m\u001b[0;34m,\u001b[0m\u001b[0;34m'char_decision_num'\u001b[0m\u001b[0;34m]\u001b[0m\u001b[0;34m]\u001b[0m\u001b[0;34m)\u001b[0m\u001b[0;34m.\u001b[0m\u001b[0mT\u001b[0m\u001b[0;34m\u001b[0m\u001b[0;34m\u001b[0m\u001b[0m\n",
      "\u001b[0;31mNameError\u001b[0m: name 'ut_vec_pw_dist' is not defined"
     ]
    }
   ],
   "source": [
    "snt.preprocess.get_rsa_snt_covs()"
   ]
  },
  {
   "cell_type": "code",
   "execution_count": null,
   "metadata": {},
   "outputs": [],
   "source": []
  }
 ],
 "metadata": {
  "kernelspec": {
   "display_name": "Python 3",
   "language": "python",
   "name": "python3"
  },
  "language_info": {
   "codemirror_mode": {
    "name": "ipython",
    "version": 3
   },
   "file_extension": ".py",
   "mimetype": "text/x-python",
   "name": "python",
   "nbconvert_exporter": "python",
   "pygments_lexer": "ipython3",
   "version": "3.7.3"
  }
 },
 "nbformat": 4,
 "nbformat_minor": 4
}
