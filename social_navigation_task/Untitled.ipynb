{
 "cells": [
  {
   "cell_type": "code",
   "execution_count": 1,
   "metadata": {
    "collapsed": true,
    "jupyter": {
     "outputs_hidden": true
    }
   },
   "outputs": [
    {
     "name": "stdout",
     "output_type": "stream",
     "text": [
      "Collecting git+https://github.com/matty-gee/social_navigation_task\n",
      "  Cloning https://github.com/matty-gee/social_navigation_task to /private/var/folders/08/fq92hkcd35vdjb79lkl7k0dr0000gn/T/pip-req-build-p6kkkssn\n",
      "  Running command git clone --filter=blob:none -q https://github.com/matty-gee/social_navigation_task /private/var/folders/08/fq92hkcd35vdjb79lkl7k0dr0000gn/T/pip-req-build-p6kkkssn\n",
      "  Resolved https://github.com/matty-gee/social_navigation_task to commit b1091947a7633d33ed7f4a54c0f3806c65dc8137\n",
      "  Preparing metadata (setup.py) ... \u001b[?25ldone\n",
      "\u001b[?25hRequirement already satisfied: patsy in /anaconda3/lib/python3.7/site-packages (from social-navigation-task==0.0.2) (0.5.1)\n",
      "Requirement already satisfied: pathlib in /anaconda3/lib/python3.7/site-packages (from social-navigation-task==0.0.2) (1.0.1)\n",
      "Requirement already satisfied: pandas in /anaconda3/lib/python3.7/site-packages (from social-navigation-task==0.0.2) (1.3.5)\n",
      "Requirement already satisfied: numpy in /anaconda3/lib/python3.7/site-packages (from social-navigation-task==0.0.2) (1.21.4)\n",
      "Requirement already satisfied: seaborn in /anaconda3/lib/python3.7/site-packages (from social-navigation-task==0.0.2) (0.11.2)\n",
      "Requirement already satisfied: matplotlib in /anaconda3/lib/python3.7/site-packages (from social-navigation-task==0.0.2) (3.1.3)\n",
      "Requirement already satisfied: scipy in /anaconda3/lib/python3.7/site-packages (from social-navigation-task==0.0.2) (1.7.2)\n",
      "Requirement already satisfied: sklearn in /anaconda3/lib/python3.7/site-packages (from social-navigation-task==0.0.2) (0.0)\n",
      "Requirement already satisfied: Pillow in /anaconda3/lib/python3.7/site-packages (from social-navigation-task==0.0.2) (6.1.0)\n",
      "Requirement already satisfied: python-dateutil>=2.1 in /anaconda3/lib/python3.7/site-packages (from matplotlib->social-navigation-task==0.0.2) (2.8.0)\n",
      "Requirement already satisfied: cycler>=0.10 in /anaconda3/lib/python3.7/site-packages (from matplotlib->social-navigation-task==0.0.2) (0.10.0)\n",
      "Requirement already satisfied: pyparsing!=2.0.4,!=2.1.2,!=2.1.6,>=2.0.1 in /anaconda3/lib/python3.7/site-packages (from matplotlib->social-navigation-task==0.0.2) (2.4.0)\n",
      "Requirement already satisfied: kiwisolver>=1.0.1 in /anaconda3/lib/python3.7/site-packages (from matplotlib->social-navigation-task==0.0.2) (1.1.0)\n",
      "Requirement already satisfied: pytz>=2017.3 in /anaconda3/lib/python3.7/site-packages (from pandas->social-navigation-task==0.0.2) (2019.1)\n",
      "Requirement already satisfied: six in /anaconda3/lib/python3.7/site-packages (from patsy->social-navigation-task==0.0.2) (1.12.0)\n",
      "Requirement already satisfied: scikit-learn in /anaconda3/lib/python3.7/site-packages (from sklearn->social-navigation-task==0.0.2) (1.0.1)\n",
      "Requirement already satisfied: setuptools in /anaconda3/lib/python3.7/site-packages (from kiwisolver>=1.0.1->matplotlib->social-navigation-task==0.0.2) (41.0.1)\n",
      "Requirement already satisfied: threadpoolctl>=2.0.0 in /anaconda3/lib/python3.7/site-packages (from scikit-learn->sklearn->social-navigation-task==0.0.2) (3.0.0)\n",
      "Requirement already satisfied: joblib>=0.11 in /anaconda3/lib/python3.7/site-packages (from scikit-learn->sklearn->social-navigation-task==0.0.2) (1.1.0)\n",
      "\u001b[33mWARNING: You are using pip version 21.3.1; however, version 22.2.2 is available.\n",
      "You should consider upgrading via the '//anaconda3/bin/python -m pip install --upgrade pip' command.\u001b[0m\n"
     ]
    }
   ],
   "source": [
    "! pip install git+https://github.com/matty-gee/social_navigation_task"
   ]
  },
  {
   "cell_type": "code",
   "execution_count": 2,
   "metadata": {},
   "outputs": [],
   "source": [
    "import social_navigation_task as snt"
   ]
  },
  {
   "cell_type": "code",
   "execution_count": 4,
   "metadata": {},
   "outputs": [
    {
     "ename": "AttributeError",
     "evalue": "module 'social_navigation_task' has no attribute 'preprocess'",
     "output_type": "error",
     "traceback": [
      "\u001b[0;31m---------------------------------------------------------------------------\u001b[0m",
      "\u001b[0;31mAttributeError\u001b[0m                            Traceback (most recent call last)",
      "\u001b[0;32m<ipython-input-4-6a3bdef4db08>\u001b[0m in \u001b[0;36m<module>\u001b[0;34m\u001b[0m\n\u001b[0;32m----> 1\u001b[0;31m \u001b[0msnt\u001b[0m\u001b[0;34m.\u001b[0m\u001b[0mpreprocess\u001b[0m\u001b[0;34m\u001b[0m\u001b[0;34m\u001b[0m\u001b[0m\n\u001b[0m",
      "\u001b[0;31mAttributeError\u001b[0m: module 'social_navigation_task' has no attribute 'preprocess'"
     ]
    }
   ],
   "source": [
    "snt.preprocess"
   ]
  },
  {
   "cell_type": "code",
   "execution_count": null,
   "metadata": {},
   "outputs": [],
   "source": []
  }
 ],
 "metadata": {
  "kernelspec": {
   "display_name": "Python 3",
   "language": "python",
   "name": "python3"
  },
  "language_info": {
   "codemirror_mode": {
    "name": "ipython",
    "version": 3
   },
   "file_extension": ".py",
   "mimetype": "text/x-python",
   "name": "python",
   "nbconvert_exporter": "python",
   "pygments_lexer": "ipython3",
   "version": "3.7.3"
  }
 },
 "nbformat": 4,
 "nbformat_minor": 4
}
