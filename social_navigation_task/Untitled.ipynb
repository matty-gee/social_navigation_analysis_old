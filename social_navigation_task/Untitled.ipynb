{
 "cells": [
  {
   "cell_type": "code",
   "execution_count": 1,
   "metadata": {},
   "outputs": [
    {
     "name": "stdout",
     "output_type": "stream",
     "text": [
      "Collecting git+https://github.com/matty-gee/social_navigation_task\n",
      "  Cloning https://github.com/matty-gee/social_navigation_task to /private/var/folders/08/fq92hkcd35vdjb79lkl7k0dr0000gn/T/pip-req-build-9pjff4us\n",
      "  Running command git clone --filter=blob:none -q https://github.com/matty-gee/social_navigation_task /private/var/folders/08/fq92hkcd35vdjb79lkl7k0dr0000gn/T/pip-req-build-9pjff4us\n",
      "  Resolved https://github.com/matty-gee/social_navigation_task to commit e3fe0dedd080a158383d202e9302910530db4cc9\n",
      "  Preparing metadata (setup.py) ... \u001b[?25ldone\n",
      "\u001b[?25hRequirement already satisfied: patsy in /anaconda3/lib/python3.7/site-packages (from social-navigation-task==0.0.0) (0.5.1)\n",
      "Collecting pathlib\n",
      "  Using cached pathlib-1.0.1-py3-none-any.whl (14 kB)\n",
      "Requirement already satisfied: pandas in /anaconda3/lib/python3.7/site-packages (from social-navigation-task==0.0.0) (1.3.5)\n",
      "\u001b[31mERROR: Could not find a version that satisfies the requirement python3-tk (from social-navigation-task) (from versions: none)\u001b[0m\n",
      "\u001b[31mERROR: No matching distribution found for python3-tk\u001b[0m\n",
      "\u001b[33mWARNING: You are using pip version 21.3.1; however, version 22.2.2 is available.\n",
      "You should consider upgrading via the '//anaconda3/bin/python -m pip install --upgrade pip' command.\u001b[0m\n"
     ]
    }
   ],
   "source": [
    "! pip install git+https://github.com/matty-gee/social_navigation_task"
   ]
  },
  {
   "cell_type": "code",
   "execution_count": null,
   "metadata": {},
   "outputs": [],
   "source": []
  }
 ],
 "metadata": {
  "kernelspec": {
   "display_name": "Python 3",
   "language": "python",
   "name": "python3"
  },
  "language_info": {
   "codemirror_mode": {
    "name": "ipython",
    "version": 3
   },
   "file_extension": ".py",
   "mimetype": "text/x-python",
   "name": "python",
   "nbconvert_exporter": "python",
   "pygments_lexer": "ipython3",
   "version": "3.7.3"
  }
 },
 "nbformat": 4,
 "nbformat_minor": 4
}
