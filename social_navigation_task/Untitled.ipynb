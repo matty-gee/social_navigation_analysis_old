{
 "cells": [
  {
   "cell_type": "code",
   "execution_count": 1,
   "metadata": {},
   "outputs": [
    {
     "name": "stdout",
     "output_type": "stream",
     "text": [
      "Collecting https://github.com/matty-gee/social_navigation_task\n",
      "\u001b[31m  ERROR: HTTP error 404 while getting https://github.com/matty-gee/social_navigation_task\u001b[0m\n",
      "\u001b[31mERROR: Could not install requirement https://github.com/matty-gee/social_navigation_task because of HTTP error 404 Client Error: Not Found for url: https://github.com/matty-gee/social_navigation_task for URL https://github.com/matty-gee/social_navigation_task\u001b[0m\n",
      "\u001b[33mWARNING: You are using pip version 21.3.1; however, version 22.2.2 is available.\n",
      "You should consider upgrading via the '//anaconda3/bin/python -m pip install --upgrade pip' command.\u001b[0m\n"
     ]
    }
   ],
   "source": [
    "! pip install https://github.com/matty-gee/social_navigation_task"
   ]
  },
  {
   "cell_type": "code",
   "execution_count": null,
   "metadata": {},
   "outputs": [],
   "source": []
  }
 ],
 "metadata": {
  "kernelspec": {
   "display_name": "Python 3",
   "language": "python",
   "name": "python3"
  },
  "language_info": {
   "codemirror_mode": {
    "name": "ipython",
    "version": 3
   },
   "file_extension": ".py",
   "mimetype": "text/x-python",
   "name": "python",
   "nbconvert_exporter": "python",
   "pygments_lexer": "ipython3",
   "version": "3.7.3"
  }
 },
 "nbformat": 4,
 "nbformat_minor": 4
}
