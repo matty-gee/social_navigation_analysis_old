{
 "cells": [
  {
   "cell_type": "code",
   "execution_count": 3,
   "metadata": {},
   "outputs": [],
   "source": [
    "import pandas as pd\n",
    "import numpy as np \n",
    "import os\n",
    "import glob\n",
    "import shutil\n",
    "from os.path import exists"
   ]
  },
  {
   "cell_type": "code",
   "execution_count": 5,
   "metadata": {},
   "outputs": [
    {
     "name": "stdout",
     "output_type": "stream",
     "text": [
      "3051\n"
     ]
    }
   ],
   "source": [
    "base_dir = '/Users/matty_gee'\n",
    "data_dir = f'{base_dir}/Dropbox/Projects/SNT-online/social-navigation/data'\n",
    "adolescent_dir = f'{base_dir}/Desktop/adolescent_pilot'\n",
    "print(len(glob.glob(data_dir + \"/*.csv\")))"
   ]
  },
  {
   "cell_type": "code",
   "execution_count": 6,
   "metadata": {},
   "outputs": [
    {
     "name": "stdout",
     "output_type": "stream",
     "text": [
      "/Users/matty_gee/Dropbox/Projects/SNT-online/social-navigation/data/PARTICIPANT_Social_Navigation_2022-07-08_21h49.42.425.csv\n",
      "/Users/matty_gee/Dropbox/Projects/SNT-online/social-navigation/data/PARTICIPANT_Social_Navigation_2022-03-16_19h01.37.660.csv\n",
      "/Users/matty_gee/Dropbox/Projects/SNT-online/social-navigation/data/PARTICIPANT_Social_Navigation_2022-03-15_17h05.57.402.csv\n",
      "/Users/matty_gee/Dropbox/Projects/SNT-online/social-navigation/data/PARTICIPANT_Social_Navigation_2022-03-21_12h13.22.267.csv\n",
      "/Users/matty_gee/Dropbox/Projects/SNT-online/social-navigation/data/PARTICIPANT_Social_Navigation_2022-02-15_15h40.28.684.csv\n",
      "/Users/matty_gee/Dropbox/Projects/SNT-online/social-navigation/data/PARTICIPANT_Social_Navigation_2022-03-01_11h57.12.655.csv\n",
      "/Users/matty_gee/Dropbox/Projects/SNT-online/social-navigation/data/PARTICIPANT_Social_Navigation_2022-06-02_15h56.56.811.csv\n",
      "/Users/matty_gee/Dropbox/Projects/SNT-online/social-navigation/data/PARTICIPANT_Social_Navigation_2022-02-10_18h11.44.682.csv\n",
      "/Users/matty_gee/Dropbox/Projects/SNT-online/social-navigation/data/PARTICIPANT_Social_Navigation_2022-06-03_22h17.56.555.csv\n",
      "/Users/matty_gee/Dropbox/Projects/SNT-online/social-navigation/data/PARTICIPANT_Social_Navigation_2022-03-16_20h05.12.537.csv\n",
      "/Users/matty_gee/Dropbox/Projects/SNT-online/social-navigation/data/PARTICIPANT_Social_Navigation_2022-03-01_11h57.05.602.csv\n",
      "/Users/matty_gee/Dropbox/Projects/SNT-online/social-navigation/data/PARTICIPANT_Social_Navigation_2022-07-16_00h26.17.216.csv\n",
      "/Users/matty_gee/Dropbox/Projects/SNT-online/social-navigation/data/PARTICIPANT_Social_Navigation_2022-02-10_10h48.52.614.csv\n",
      "/Users/matty_gee/Dropbox/Projects/SNT-online/social-navigation/data/PARTICIPANT_Social_Navigation_2022-03-17_13h41.01.179.csv\n",
      "/Users/matty_gee/Dropbox/Projects/SNT-online/social-navigation/data/PARTICIPANT_Social_Navigation_2022-06-29_17h55.57.724.csv\n",
      "/Users/matty_gee/Dropbox/Projects/SNT-online/social-navigation/data/PARTICIPANT_Social_Navigation_2022-03-01_11h19.16.207.csv\n",
      "/Users/matty_gee/Dropbox/Projects/SNT-online/social-navigation/data/PARTICIPANT_Social_Navigation_2022-02-15_20h08.59.420.csv\n",
      "/Users/matty_gee/Dropbox/Projects/SNT-online/social-navigation/data/PARTICIPANT_Social_Navigation_2022-03-01_11h24.54.224.csv\n",
      "/Users/matty_gee/Dropbox/Projects/SNT-online/social-navigation/data/PARTICIPANT_Social_Navigation_2022-06-29_14h49.26.810.csv\n",
      "/Users/matty_gee/Dropbox/Projects/SNT-online/social-navigation/data/PARTICIPANT_Social_Navigation_2022-06-29_16h04.26.085.csv\n",
      "/Users/matty_gee/Dropbox/Projects/SNT-online/social-navigation/data/PARTICIPANT_Social_Navigation_2022-02-10_10h45.04.289.csv\n",
      "/Users/matty_gee/Dropbox/Projects/SNT-online/social-navigation/data/PARTICIPANT_Social_Navigation_2022-03-01_11h19.13.357.csv\n",
      "/Users/matty_gee/Dropbox/Projects/SNT-online/social-navigation/data/PARTICIPANT_Social_Navigation_2022-02-09_08h55.07.408.csv\n",
      "/Users/matty_gee/Dropbox/Projects/SNT-online/social-navigation/data/PARTICIPANT_Social_Navigation_2022-01-30_20h21.35.138.csv\n",
      "/Users/matty_gee/Dropbox/Projects/SNT-online/social-navigation/data/PARTICIPANT_Social_Navigation_2022-07-16_13h03.52.697.csv\n",
      "/Users/matty_gee/Dropbox/Projects/SNT-online/social-navigation/data/PARTICIPANT_Social_Navigation_2022-02-15_15h32.03.642.csv\n",
      "/Users/matty_gee/Dropbox/Projects/SNT-online/social-navigation/data/PARTICIPANT_Social_Navigation_2022-07-21_16h47.23.718.csv\n",
      "/Users/matty_gee/Dropbox/Projects/SNT-online/social-navigation/data/PARTICIPANT_Social_Navigation_2022-02-10_13h38.29.136.csv\n",
      "/Users/matty_gee/Dropbox/Projects/SNT-online/social-navigation/data/PARTICIPANT_Social_Navigation_2022-04-29_23h05.23.571.csv\n",
      "/Users/matty_gee/Dropbox/Projects/SNT-online/social-navigation/data/PARTICIPANT_Social_Navigation_2022-03-17_13h41.38.214.csv\n",
      "/Users/matty_gee/Dropbox/Projects/SNT-online/social-navigation/data/PARTICIPANT_Social_Navigation_2022-06-29_22h08.45.007.csv\n",
      "/Users/matty_gee/Dropbox/Projects/SNT-online/social-navigation/data/PARTICIPANT_Social_Navigation_2022-02-10_17h29.14.784.csv\n",
      "/Users/matty_gee/Dropbox/Projects/SNT-online/social-navigation/data/PARTICIPANT_Social_Navigation_2022-07-19_17h20.44.819.csv\n",
      "/Users/matty_gee/Dropbox/Projects/SNT-online/social-navigation/data/PARTICIPANT_Social_Navigation_2022-02-10_10h45.51.615.csv\n",
      "/Users/matty_gee/Dropbox/Projects/SNT-online/social-navigation/data/PARTICIPANT_Social_Navigation_2022-07-15_14h49.16.690.csv\n",
      "/Users/matty_gee/Dropbox/Projects/SNT-online/social-navigation/data/PARTICIPANT_Social_Navigation_2022-04-25_15h22.29.719.csv\n",
      "/Users/matty_gee/Dropbox/Projects/SNT-online/social-navigation/data/PARTICIPANT_Social_Navigation_2022-02-14_14h12.44.331.csv\n",
      "/Users/matty_gee/Dropbox/Projects/SNT-online/social-navigation/data/PARTICIPANT_Social_Navigation_2022-07-15_15h25.51.155.csv\n",
      "/Users/matty_gee/Dropbox/Projects/SNT-online/social-navigation/data/PARTICIPANT_Social_Navigation_2022-02-07_14h52.16.338.csv\n",
      "/Users/matty_gee/Dropbox/Projects/SNT-online/social-navigation/data/PARTICIPANT_Social_Navigation_2022-07-05_10h45.27.271.csv\n",
      "/Users/matty_gee/Dropbox/Projects/SNT-online/social-navigation/data/PARTICIPANT_Social_Navigation_2022-02-15_15h08.52.444.csv\n",
      "/Users/matty_gee/Dropbox/Projects/SNT-online/social-navigation/data/PARTICIPANT_Social_Navigation_2022-07-21_20h25.09.986.csv\n",
      "/Users/matty_gee/Dropbox/Projects/SNT-online/social-navigation/data/PARTICIPANT_Social_Navigation_2022-02-10_13h20.58.041.csv\n",
      "/Users/matty_gee/Dropbox/Projects/SNT-online/social-navigation/data/PARTICIPANT_Social_Navigation_2022-04-20_18h26.29.156.csv\n",
      "/Users/matty_gee/Dropbox/Projects/SNT-online/social-navigation/data/PARTICIPANT_Social_Navigation_2022-03-17_13h41.20.989.csv\n",
      "/Users/matty_gee/Dropbox/Projects/SNT-online/social-navigation/data/PARTICIPANT_Social_Navigation_2022-03-17_13h40.19.141.csv\n",
      "/Users/matty_gee/Dropbox/Projects/SNT-online/social-navigation/data/PARTICIPANT_Social_Navigation_2022-02-08_16h10.03.289.csv\n",
      "/Users/matty_gee/Dropbox/Projects/SNT-online/social-navigation/data/PARTICIPANT_Social_Navigation_2022-03-01_11h24.39.839.csv\n",
      "/Users/matty_gee/Dropbox/Projects/SNT-online/social-navigation/data/PARTICIPANT_Social_Navigation_2022-01-30_20h11.49.466.csv\n",
      "/Users/matty_gee/Dropbox/Projects/SNT-online/social-navigation/data/PARTICIPANT_Social_Navigation_2022-02-10_13h18.23.961.csv\n",
      "/Users/matty_gee/Dropbox/Projects/SNT-online/social-navigation/data/PARTICIPANT_Social_Navigation_2022-03-16_20h05.09.705.csv\n",
      "/Users/matty_gee/Dropbox/Projects/SNT-online/social-navigation/data/PARTICIPANT_Social_Navigation_2022-03-17_14h48.03.928.csv\n",
      "/Users/matty_gee/Dropbox/Projects/SNT-online/social-navigation/data/PARTICIPANT_Social_Navigation_2022-07-08_08h46.15.489.csv\n",
      "/Users/matty_gee/Dropbox/Projects/SNT-online/social-navigation/data/PARTICIPANT_Social_Navigation_2022-07-19_20h56.25.019.csv\n",
      "/Users/matty_gee/Dropbox/Projects/SNT-online/social-navigation/data/PARTICIPANT_Social_Navigation_2022-07-07_15h02.51.374.csv\n",
      "/Users/matty_gee/Dropbox/Projects/SNT-online/social-navigation/data/PARTICIPANT_Social_Navigation_2022-06-29_19h13.39.236.csv\n",
      "/Users/matty_gee/Dropbox/Projects/SNT-online/social-navigation/data/PARTICIPANT_Social_Navigation_2022-04-26_22h14.14.831.csv\n",
      "/Users/matty_gee/Dropbox/Projects/SNT-online/social-navigation/data/PARTICIPANT_Social_Navigation_2022-07-07_16h49.20.198.csv\n",
      "/Users/matty_gee/Dropbox/Projects/SNT-online/social-navigation/data/PARTICIPANT_Social_Navigation_2022-01-31_10h17.49.912.csv\n",
      "/Users/matty_gee/Dropbox/Projects/SNT-online/social-navigation/data/PARTICIPANT_Social_Navigation_2022-07-19_15h16.03.023.csv\n",
      "/Users/matty_gee/Dropbox/Projects/SNT-online/social-navigation/data/PARTICIPANT_Social_Navigation_2022-04-26_12h47.16.341.csv\n",
      "/Users/matty_gee/Dropbox/Projects/SNT-online/social-navigation/data/PARTICIPANT_Social_Navigation_2022-07-07_14h48.16.428.csv\n",
      "/Users/matty_gee/Dropbox/Projects/SNT-online/social-navigation/data/PARTICIPANT_Social_Navigation_2022-04-30_11h12.30.411.csv\n",
      "/Users/matty_gee/Dropbox/Projects/SNT-online/social-navigation/data/PARTICIPANT_Social_Navigation_2022-07-05_11h53.26.889.csv\n",
      "/Users/matty_gee/Dropbox/Projects/SNT-online/social-navigation/data/PARTICIPANT_Social_Navigation_2022-07-06_17h39.09.252.csv\n",
      "/Users/matty_gee/Dropbox/Projects/SNT-online/social-navigation/data/PARTICIPANT_Social_Navigation_2022-02-10_13h05.16.265.csv\n",
      "/Users/matty_gee/Dropbox/Projects/SNT-online/social-navigation/data/PARTICIPANT_Social_Navigation_2022-07-05_10h03.49.508.csv\n",
      "/Users/matty_gee/Dropbox/Projects/SNT-online/social-navigation/data/PARTICIPANT_Social_Navigation_2022-03-01_11h23.12.574.csv\n",
      "/Users/matty_gee/Dropbox/Projects/SNT-online/social-navigation/data/PARTICIPANT_Social_Navigation_2022-04-26_22h10.42.901.csv\n",
      "/Users/matty_gee/Dropbox/Projects/SNT-online/social-navigation/data/PARTICIPANT_Social_Navigation_2022-04-18_14h28.12.889.csv\n",
      "/Users/matty_gee/Dropbox/Projects/SNT-online/social-navigation/data/PARTICIPANT_Social_Navigation_2022-04-18_11h41.13.733.csv\n",
      "/Users/matty_gee/Dropbox/Projects/SNT-online/social-navigation/data/PARTICIPANT_Social_Navigation_2022-03-01_11h24.48.418.csv\n",
      "/Users/matty_gee/Dropbox/Projects/SNT-online/social-navigation/data/PARTICIPANT_Social_Navigation_2022-06-24_15h28.40.275.csv\n",
      "/Users/matty_gee/Dropbox/Projects/SNT-online/social-navigation/data/PARTICIPANT_Social_Navigation_2022-03-15_13h05.42.832.csv\n",
      "/Users/matty_gee/Dropbox/Projects/SNT-online/social-navigation/data/PARTICIPANT_Social_Navigation_2022-06-21_14h33.19.460.csv\n"
     ]
    }
   ],
   "source": [
    "for file in glob.glob(data_dir + \"/*.csv\"):\n",
    "    \n",
    "    try:  \n",
    "        \n",
    "        data = pd.read_csv(file)\n",
    "        sub = data['prolific_id'].values[0]\n",
    "        exp = data['experiment'].values[0]    \n",
    "        \n",
    "#         if (sub != '6168883c6837227155b2360e') & (isinstance(sub, str)): # avoid my prolific id (but there are other ones too) & ones without prolific ids\n",
    "        # if ('schema' in exp) & ('2022-07' in file): \n",
    "        #     cp_file = schema_data_dir + '/' + exp.split('_')[1] + '/' + file.split('/')[-1]\n",
    "#             elif exp == 'behavioral':\n",
    "#                 if '2022-02' in file: # replcation sample\n",
    "#                     cp_file = repl_data_dir + '/' + file.split('/')[-1]  \n",
    "#                 else: # original sample\n",
    "#                     cp_file = beh_data_dir + '/' + file.split('/')[-1]  \n",
    "#             elif exp == 'realworld':\n",
    "#                 cp_file = realworld_data_dir + '/' + file.split('/')[-1] \n",
    "                \n",
    "        if exp == 'adolescent':\n",
    "            print(file)\n",
    "            cp_file = adolescent_dir + '/' + file.split('/')[-1]\n",
    "\n",
    "        if not exists(cp_file):\n",
    "            shutil.copyfile(file, cp_file)\n",
    "                \n",
    "    except: \n",
    "        continue"
   ]
  },
  {
   "cell_type": "code",
   "execution_count": null,
   "metadata": {},
   "outputs": [],
   "source": []
  }
 ],
 "metadata": {
  "kernelspec": {
   "display_name": "Python 3 (ipykernel)",
   "language": "python",
   "name": "python3"
  },
  "language_info": {
   "codemirror_mode": {
    "name": "ipython",
    "version": 3
   },
   "file_extension": ".py",
   "mimetype": "text/x-python",
   "name": "python",
   "nbconvert_exporter": "python",
   "pygments_lexer": "ipython3",
   "version": "3.10.6"
  }
 },
 "nbformat": 4,
 "nbformat_minor": 4
}
