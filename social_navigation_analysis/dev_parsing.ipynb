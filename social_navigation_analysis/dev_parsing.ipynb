{
 "cells": [
  {
   "cell_type": "code",
   "execution_count": 1,
   "metadata": {},
   "outputs": [
    {
     "name": "stderr",
     "output_type": "stream",
     "text": [
      "//anaconda3/envs/social_navigation_analysis/lib/python3.10/site-packages/openpyxl/worksheet/_read_only.py:79: UserWarning: Unknown extension is not supported and will be removed\n",
      "  for idx, row in parser.parse():\n",
      "//anaconda3/envs/social_navigation_analysis/lib/python3.10/site-packages/openpyxl/worksheet/_read_only.py:79: UserWarning: Unknown extension is not supported and will be removed\n",
      "  for idx, row in parser.parse():\n"
     ]
    }
   ],
   "source": [
    "import warnings\n",
    "with warnings.catch_warnings():\n",
    "    warnings.filterwarnings(\"ignore\")\n",
    "import math\n",
    "import info, utils, preprocess\n",
    "import pandas as pd\n",
    "import numpy as np\n",
    "import copy, json, re"
   ]
  },
  {
   "cell_type": "code",
   "execution_count": null,
   "metadata": {},
   "outputs": [],
   "source": [
    "# txt_fname = '/Users/matty_gee/Desktop/SNT_data/SNT-online_behavioral/Data/Initial_2021/SNT/Raw_VT-txt/mssm2021_socialnav_behavioral.socialnav.20210403T203110.5d012930cfeb82001817c9c9.json.txt'\n",
    "# format_txt_as_csv(txt_fname, '.')\n",
    "# \n",
    "# with open(txt_fname) as f:\n",
    "#     data = json.load(f)\n",
    "#     exp_data = data['metadata']['social_task_data']\n",
    "    \n",
    "# data = pd.read_csv(csv_fname)\n",
    "# [c for c in data.columns if 'realworld' in c]\n",
    "# check if date is in fname or in a column"
   ]
  },
  {
   "cell_type": "code",
   "execution_count": 12,
   "metadata": {},
   "outputs": [],
   "source": [
    "# data = pd.read_csv('/Users/matty_gee/Desktop/SNT_data/SNT-online_behavioral/Data/Replication_2022/SNT/Raw_Pavlovia/PARTICIPANT_Social_Navigation_2022-02-09_12h21.12.834.csv')"
   ]
  },
  {
   "cell_type": "code",
   "execution_count": 41,
   "metadata": {},
   "outputs": [],
   "source": [
    "csv  = '/Users/matty_gee/Desktop/SNT_data/SNT-online_schema/Data/SNT/day03/raw/PARTICIPANT_Social_Navigation_2022-11-16_21h42.43.453.csv'\n",
    "data = pd.read_csv(csv)"
   ]
  },
  {
   "cell_type": "code",
   "execution_count": 44,
   "metadata": {},
   "outputs": [
    {
     "data": {
      "text/plain": [
       "60fda57e0916dfe2157c9b00    1\n",
       "Name: share_estimate_first, dtype: object"
      ]
     },
     "execution_count": 44,
     "metadata": {},
     "output_type": "execute_result"
    }
   ],
   "source": [
    "parser = ParseCsv(csv, snt_version='schema')\n",
    "_,post = parser.run()\n",
    "post['share_estimate_first']"
   ]
  },
  {
   "cell_type": "code",
   "execution_count": null,
   "metadata": {},
   "outputs": [],
   "source": [
    "txt_to_csv = 'SNT_5d012930cfeb82001817c9c9.csv'\n",
    "\n",
    "parser = ParseCsv(txt_to_csv)\n",
    "snt, post = parser.run()\n",
    "post"
   ]
  },
  {
   "cell_type": "code",
   "execution_count": null,
   "metadata": {},
   "outputs": [],
   "source": [
    "# # imi\n",
    "\n",
    "# imi_trials = {'imi_dominant': [1,12,13,20,22,24,26],  'imi_hostile': [2,3,7,16,21,23,27], \n",
    "#               'imi_submissive': [4,9,14,17,19,25,28], 'imi_friendly': [5,6,8,10,11,15,18]}\n",
    "# imi_df = pd.DataFrame(np.zeros((1,4)), index=[sub_id], \n",
    "#                       columns=[f'first_{imi}.{day}' for imi in imi_trials.keys()])\n",
    "# opts = ['not', 'somewhat', 'moderately', 'a_lot']\n",
    "# for i, (imi, trials) in enumerate(imi_trials.items()):\n",
    "#     for t in trials:\n",
    "#         imi_df.iloc[0, i] += (opts.index(data[f'imi.first.ques_{t}.resp'].values[0]) + 1) / 7         "
   ]
  }
 ],
 "metadata": {
  "kernelspec": {
   "display_name": "social_navigation_analysis",
   "language": "python",
   "name": "social_navigation_analysis"
  },
  "language_info": {
   "codemirror_mode": {
    "name": "ipython",
    "version": 3
   },
   "file_extension": ".py",
   "mimetype": "text/x-python",
   "name": "python",
   "nbconvert_exporter": "python",
   "pygments_lexer": "ipython3",
   "version": "3.10.6"
  },
  "vscode": {
   "interpreter": {
    "hash": "f3f7fb9d13e0b7cd346c5bcfe5de21908f17a2d0dcbd7821a2fa8e4fbf9948e1"
   }
  }
 },
 "nbformat": 4,
 "nbformat_minor": 4
}
