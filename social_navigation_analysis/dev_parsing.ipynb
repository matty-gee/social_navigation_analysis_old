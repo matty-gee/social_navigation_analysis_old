{
 "cells": [
  {
   "cell_type": "code",
   "execution_count": 1,
   "metadata": {},
   "outputs": [
    {
     "name": "stderr",
     "output_type": "stream",
     "text": [
      "//anaconda3/envs/social_navigation_analysis/lib/python3.10/site-packages/openpyxl/worksheet/_read_only.py:79: UserWarning: Unknown extension is not supported and will be removed\n",
      "  for idx, row in parser.parse():\n",
      "//anaconda3/envs/social_navigation_analysis/lib/python3.10/site-packages/openpyxl/worksheet/_read_only.py:79: UserWarning: Unknown extension is not supported and will be removed\n",
      "  for idx, row in parser.parse():\n"
     ]
    }
   ],
   "source": [
    "import warnings\n",
    "with warnings.catch_warnings():\n",
    "    warnings.filterwarnings(\"ignore\")\n",
    "import math\n",
    "import info, utils, preprocess\n",
    "import pandas as pd\n",
    "import numpy as np\n",
    "import copy, json, re"
   ]
  },
  {
   "cell_type": "code",
   "execution_count": null,
   "metadata": {},
   "outputs": [],
   "source": [
    "# txt_fname = '/Users/matty_gee/Desktop/SNT_data/SNT-online_behavioral/Data/Initial_2021/SNT/Raw_VT-txt/mssm2021_socialnav_behavioral.socialnav.20210403T203110.5d012930cfeb82001817c9c9.json.txt'\n",
    "# format_txt_as_csv(txt_fname, '.')\n",
    "# \n",
    "# with open(txt_fname) as f:\n",
    "#     data = json.load(f)\n",
    "#     exp_data = data['metadata']['social_task_data']\n",
    "    \n",
    "# data = pd.read_csv(csv_fname)\n",
    "# [c for c in data.columns if 'realworld' in c]\n",
    "# check if date is in fname or in a column"
   ]
  },
  {
   "cell_type": "code",
   "execution_count": 12,
   "metadata": {},
   "outputs": [],
   "source": [
    "# data = pd.read_csv('/Users/matty_gee/Desktop/SNT_data/SNT-online_behavioral/Data/Replication_2022/SNT/Raw_Pavlovia/PARTICIPANT_Social_Navigation_2022-02-09_12h21.12.834.csv')"
   ]
  },
  {
   "cell_type": "code",
   "execution_count": 29,
   "metadata": {},
   "outputs": [
    {
     "data": {
      "text/html": [
       "<div>\n",
       "<style scoped>\n",
       "    .dataframe tbody tr th:only-of-type {\n",
       "        vertical-align: middle;\n",
       "    }\n",
       "\n",
       "    .dataframe tbody tr th {\n",
       "        vertical-align: top;\n",
       "    }\n",
       "\n",
       "    .dataframe thead th {\n",
       "        text-align: right;\n",
       "    }\n",
       "</style>\n",
       "<table border=\"1\" class=\"dataframe\">\n",
       "  <thead>\n",
       "    <tr style=\"text-align: right;\">\n",
       "      <th></th>\n",
       "      <th>date</th>\n",
       "      <th>first_gender</th>\n",
       "      <th>second_gender</th>\n",
       "      <th>assistant_gender</th>\n",
       "      <th>powerful_gender</th>\n",
       "      <th>boss_gender</th>\n",
       "      <th>neutral_gender</th>\n",
       "      <th>first_skincolor</th>\n",
       "      <th>second_skincolor</th>\n",
       "      <th>assistant_skincolor</th>\n",
       "      <th>...</th>\n",
       "      <th>competence_mean</th>\n",
       "      <th>liking_mean</th>\n",
       "      <th>similarity_mean</th>\n",
       "      <th>stability_mean</th>\n",
       "      <th>valence_mean</th>\n",
       "      <th>storyline_good</th>\n",
       "      <th>storyline_bad</th>\n",
       "      <th>storyline_engagement</th>\n",
       "      <th>storyline_difficulty</th>\n",
       "      <th>storyline_relatability</th>\n",
       "    </tr>\n",
       "  </thead>\n",
       "  <tbody>\n",
       "    <tr>\n",
       "      <th>5d012930cfeb82001817c9c9</th>\n",
       "      <td>2021/04/03</td>\n",
       "      <td>masculine</td>\n",
       "      <td>feminine</td>\n",
       "      <td>feminine</td>\n",
       "      <td>feminine</td>\n",
       "      <td>masculine</td>\n",
       "      <td>masculine</td>\n",
       "      <td>brown</td>\n",
       "      <td>white</td>\n",
       "      <td>brown</td>\n",
       "      <td>...</td>\n",
       "      <td>34.0</td>\n",
       "      <td>38.666667</td>\n",
       "      <td>25.5</td>\n",
       "      <td>44.833333</td>\n",
       "      <td>43.333333</td>\n",
       "      <td>they were interesting and challenging</td>\n",
       "      <td>some were confusing</td>\n",
       "      <td>6</td>\n",
       "      <td>5</td>\n",
       "      <td>7</td>\n",
       "    </tr>\n",
       "  </tbody>\n",
       "</table>\n",
       "<p>1 rows × 113 columns</p>\n",
       "</div>"
      ],
      "text/plain": [
       "                                date first_gender second_gender  \\\n",
       "5d012930cfeb82001817c9c9  2021/04/03    masculine      feminine   \n",
       "\n",
       "                         assistant_gender powerful_gender boss_gender  \\\n",
       "5d012930cfeb82001817c9c9         feminine        feminine   masculine   \n",
       "\n",
       "                         neutral_gender first_skincolor second_skincolor  \\\n",
       "5d012930cfeb82001817c9c9      masculine           brown            white   \n",
       "\n",
       "                         assistant_skincolor  ... competence_mean liking_mean  \\\n",
       "5d012930cfeb82001817c9c9               brown  ...            34.0   38.666667   \n",
       "\n",
       "                         similarity_mean stability_mean  valence_mean  \\\n",
       "5d012930cfeb82001817c9c9            25.5      44.833333     43.333333   \n",
       "\n",
       "                                                  storyline_good  \\\n",
       "5d012930cfeb82001817c9c9   they were interesting and challenging   \n",
       "\n",
       "                                 storyline_bad  storyline_engagement  \\\n",
       "5d012930cfeb82001817c9c9  some were confusing                      6   \n",
       "\n",
       "                          storyline_difficulty  storyline_relatability  \n",
       "5d012930cfeb82001817c9c9                     5                       7  \n",
       "\n",
       "[1 rows x 113 columns]"
      ]
     },
     "execution_count": 29,
     "metadata": {},
     "output_type": "execute_result"
    }
   ],
   "source": [
    "txt_to_csv = 'SNT_5d012930cfeb82001817c9c9.csv'\n",
    "csv = '/Users/matty_gee/Desktop/SNT_data/SNT-online_behavioral/Data/Replication_2022/SNT/Raw_Pavlovia/PARTICIPANT_Social_Navigation_2022-02-09_12h21.12.834.csv'\n",
    "parser = ParseCsv(txt_to_csv)\n",
    "snt, post = parser.run()\n",
    "post"
   ]
  },
  {
   "cell_type": "code",
   "execution_count": null,
   "metadata": {},
   "outputs": [],
   "source": [
    "# # imi\n",
    "\n",
    "# imi_trials = {'imi_dominant': [1,12,13,20,22,24,26],  'imi_hostile': [2,3,7,16,21,23,27], \n",
    "#               'imi_submissive': [4,9,14,17,19,25,28], 'imi_friendly': [5,6,8,10,11,15,18]}\n",
    "# imi_df = pd.DataFrame(np.zeros((1,4)), index=[sub_id], \n",
    "#                       columns=[f'first_{imi}.{day}' for imi in imi_trials.keys()])\n",
    "# opts = ['not', 'somewhat', 'moderately', 'a_lot']\n",
    "# for i, (imi, trials) in enumerate(imi_trials.items()):\n",
    "#     for t in trials:\n",
    "#         imi_df.iloc[0, i] += (opts.index(data[f'imi.first.ques_{t}.resp'].values[0]) + 1) / 7         "
   ]
  }
 ],
 "metadata": {
  "kernelspec": {
   "display_name": "social_navigation_analysis",
   "language": "python",
   "name": "social_navigation_analysis"
  },
  "language_info": {
   "codemirror_mode": {
    "name": "ipython",
    "version": 3
   },
   "file_extension": ".py",
   "mimetype": "text/x-python",
   "name": "python",
   "nbconvert_exporter": "python",
   "pygments_lexer": "ipython3",
   "version": "3.10.6"
  },
  "vscode": {
   "interpreter": {
    "hash": "f3f7fb9d13e0b7cd346c5bcfe5de21908f17a2d0dcbd7821a2fa8e4fbf9948e1"
   }
  }
 },
 "nbformat": 4,
 "nbformat_minor": 4
}
