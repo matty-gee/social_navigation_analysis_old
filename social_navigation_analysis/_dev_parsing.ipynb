{
 "cells": [
  {
   "cell_type": "code",
   "execution_count": 1,
   "metadata": {},
   "outputs": [
    {
     "name": "stderr",
     "output_type": "stream",
     "text": [
      "/Users/matthew/opt/anaconda3/envs/social_navigation_task/lib/python3.10/site-packages/openpyxl/worksheet/_read_only.py:79: UserWarning: Unknown extension is not supported and will be removed\n",
      "  for idx, row in parser.parse():\n",
      "/Users/matthew/opt/anaconda3/envs/social_navigation_task/lib/python3.10/site-packages/openpyxl/worksheet/_read_only.py:79: UserWarning: Unknown extension is not supported and will be removed\n",
      "  for idx, row in parser.parse():\n"
     ]
    }
   ],
   "source": [
    "import info, utils, preprocess"
   ]
  },
  {
   "cell_type": "markdown",
   "metadata": {},
   "source": []
  },
  {
   "cell_type": "code",
   "execution_count": 2,
   "metadata": {},
   "outputs": [
    {
     "name": "stdout",
     "output_type": "stream",
     "text": [
      "Found 651 text files\n"
     ]
    }
   ],
   "source": [
    "import warnings\n",
    "with warnings.catch_warnings():\n",
    "    warnings.filterwarnings(\"ignore\")\n",
    "\n",
    "import pandas as pd\n",
    "import numpy as np\n",
    "import json\n",
    "import re\n",
    "import glob\n",
    "from datetime import date\n",
    "import math\n",
    "\n",
    "# TODO : this is diff for schema....\n",
    "# character_roles = info.character_roles + ['neutral']\n",
    "# display(info.decision_trials.head(3))\n",
    "\n",
    "base_dir = '/Volumes/synapse/projects/SocialSpace/Projects/SNT-online_prolific/Data/Original_2021/SNT'\n",
    "txt_files = glob.glob(f'{base_dir}/Txts/*.txt')\n",
    "print(f'Found {len(txt_files)} text files')\n",
    "for txt_file in txt_files:\n",
    "    try:  preprocess.format_txt_as_csv(txt_file, f'{base_dir}/CSVs_old')\n",
    "    except: print(txt_file)"
   ]
  },
  {
   "cell_type": "code",
   "execution_count": 67,
   "metadata": {},
   "outputs": [
    {
     "data": {
      "text/plain": [
       "[    decision_num dimension  scene_num  char_role_num  char_decision_num  \\\n",
       " 0              1     affil          1              1                  1   \n",
       " 1              2     affil          1              1                  2   \n",
       " 2              3     affil          1              1                  3   \n",
       " 3              4     power          2              1                  4   \n",
       " 4              5     affil          2              2                  1   \n",
       " ..           ...       ...        ...            ...                ...   \n",
       " 58            59     power         17              4                 12   \n",
       " 59            60     power         18              3                  9   \n",
       " 60            61     power         18              3                 10   \n",
       " 61            62     power         19              3                 11   \n",
       " 62            63     affil         19              3                 12   \n",
       " \n",
       "     button_press  decision  affil  power  reaction_time  \n",
       " 0              2         1      1      0          3.371  \n",
       " 1              1         1      1      0          1.976  \n",
       " 2              1         1      1      0          4.929  \n",
       " 3              1        -1      0     -1          4.641  \n",
       " 4              1         1      1      0          3.493  \n",
       " ..           ...       ...    ...    ...            ...  \n",
       " 58             2        -1      0     -1          3.558  \n",
       " 59             1        -1      0     -1          4.885  \n",
       " 60             1         1      0      1          1.967  \n",
       " 61             1         1      0      1          3.041  \n",
       " 62             1        -1     -1      0          3.944  \n",
       " \n",
       " [63 rows x 10 columns],\n",
       "                          first_gender second_gender assistant_gender  \\\n",
       " 5c3630c83ce2c8000111b504     feminine     masculine        masculine   \n",
       " \n",
       "                          powerful_gender boss_gender neutral_gender  \\\n",
       " 5c3630c83ce2c8000111b504       masculine    feminine       feminine   \n",
       " \n",
       "                          first_skincolor second_skincolor assistant_skincolor  \\\n",
       " 5c3630c83ce2c8000111b504           brown            white               brown   \n",
       " \n",
       "                          powerful_skincolor  ... assistant_stability  \\\n",
       " 5c3630c83ce2c8000111b504              white  ...                  57   \n",
       " \n",
       "                          first_arousal first_valence  first_stability  \\\n",
       " 5c3630c83ce2c8000111b504            71            74               97   \n",
       " \n",
       "                           arousal_mean  competence_mean  liking_mean  \\\n",
       " 5c3630c83ce2c8000111b504          43.5        69.333333    62.833333   \n",
       " \n",
       "                           similarity_mean  stability_mean  valence_mean  \n",
       " 5c3630c83ce2c8000111b504             50.5            68.0     58.666667  \n",
       " \n",
       " [1 rows x 107 columns]]"
      ]
     },
     "execution_count": 67,
     "metadata": {},
     "output_type": "execute_result"
    }
   ],
   "source": [
    "csv = f\"{base_dir}/CSVs_old/SNT_{exp_data['prolific_pid']}.csv\"\n",
    "parser = preprocess.ParseCsv(csv)\n",
    "parser.run()"
   ]
  }
 ],
 "metadata": {
  "kernelspec": {
   "display_name": "Python 3",
   "language": "python",
   "name": "python3"
  },
  "language_info": {
   "codemirror_mode": {
    "name": "ipython",
    "version": 3
   },
   "file_extension": ".py",
   "mimetype": "text/x-python",
   "name": "python",
   "nbconvert_exporter": "python",
   "pygments_lexer": "ipython3",
   "version": "3.10.6"
  },
  "vscode": {
   "interpreter": {
    "hash": "17170a1c842d46f79a15d2f4651692da09dba23a7ada03f3baa74312cb67564b"
   }
  }
 },
 "nbformat": 4,
 "nbformat_minor": 4
}
