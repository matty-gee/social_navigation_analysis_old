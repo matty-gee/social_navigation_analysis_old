{
 "cells": [
  {
   "cell_type": "code",
   "execution_count": 1,
   "metadata": {
    "tags": []
   },
   "outputs": [
    {
     "name": "stderr",
     "output_type": "stream",
     "text": [
      "//anaconda3/envs/social_navigation_analysis/lib/python3.10/site-packages/openpyxl/worksheet/_read_only.py:79: UserWarning: Unknown extension is not supported and will be removed\n",
      "  for idx, row in parser.parse():\n",
      "//anaconda3/envs/social_navigation_analysis/lib/python3.10/site-packages/openpyxl/worksheet/_read_only.py:79: UserWarning: Unknown extension is not supported and will be removed\n",
      "  for idx, row in parser.parse():\n"
     ]
    }
   ],
   "source": [
    "import os, sys, glob\n",
    "import pandas as pd\n",
    "import numpy as np\n",
    "from pathlib import Path\n",
    "user = os.path.expanduser('~')\n",
    "sys.path.insert(0, '..')\n",
    "sys.path.insert(0, str(Path(f'{user}/Dropbox/Projects/social_navigation_analysis/social_navigation_analysis'))) # directory to social_navigation_analysis\n",
    "\n",
    "# load in preprocessing stuff\n",
    "import info as snt_info\n",
    "import preprocess as snt_preprc\n",
    "import utils as snt_utils"
   ]
  },
  {
   "cell_type": "markdown",
   "metadata": {},
   "source": [
    "# 1 - Parse experiment files into usable data"
   ]
  },
  {
   "cell_type": "markdown",
   "metadata": {},
   "source": [
    "## IN-PERSON: Cogent logs"
   ]
  },
  {
   "cell_type": "code",
   "execution_count": 33,
   "metadata": {
    "tags": []
   },
   "outputs": [],
   "source": [
    "# log_dir = str(Path(f'{user}/Dropbox/Projects/social_navigation_task/data/example_logs'))\n",
    "# logs    = glob.glob(f'{log_dir}/*.log')\n",
    "# print(f'found {len(logs)} log files')\n",
    "# for log in logs:\n",
    "#     snt_preprc.parse_log(log, experimenter='kb', out_dir=log_dir)"
   ]
  },
  {
   "cell_type": "markdown",
   "metadata": {},
   "source": [
    "## ONLINE: Pavlovia CSVs "
   ]
  },
  {
   "cell_type": "markdown",
   "metadata": {},
   "source": [
    "#### Multiple versions of the task\n",
    "Requires snt_version argument "
   ]
  },
  {
   "cell_type": "code",
   "execution_count": 34,
   "metadata": {
    "tags": []
   },
   "outputs": [],
   "source": [
    "# csv_dir = str(Path(f'{user}/Dropbox/Projects/social_navigation_task/data/example_csvs'))\n",
    "# csvs    = glob.glob(f'{csv_dir}/*.csv')\n",
    "# print(f'found {len(csvs)} csv files')\n",
    "\n",
    "# for csv in csvs:\n",
    "#     if 'Adolescent' in csv:\n",
    "#         snt_version = 'adolescent_pilot'\n",
    "#     elif 'Prolific' in csv:\n",
    "#         snt_version = 'standard'\n",
    "#     elif 'Schema' in csv:\n",
    "#         snt_version = 'schema'\n",
    "#     print(csv, snt_version)\n",
    "#     snt_preprc.parse_csv(csv, snt_version=snt_version, out_dir=csv_dir) # wrapper for ParseCsv class"
   ]
  },
  {
   "cell_type": "markdown",
   "metadata": {},
   "source": [
    "#### Adolescent pilot"
   ]
  },
  {
   "cell_type": "code",
   "execution_count": 35,
   "metadata": {
    "collapsed": true,
    "jupyter": {
     "outputs_hidden": true,
     "source_hidden": true
    },
    "tags": []
   },
   "outputs": [
    {
     "name": "stdout",
     "output_type": "stream",
     "text": [
      "Found 75 csvs\n",
      "Subject (nan) does not have a \"snt_choice\" column. Exiting without parsing.\n"
     ]
    },
    {
     "name": "stderr",
     "output_type": "stream",
     "text": [
      "/Users/matthew/opt/anaconda3/envs/social_navigation_task/lib/python3.10/site-packages/numpy/core/fromnumeric.py:3474: RuntimeWarning: Mean of empty slice.\n",
      "  return _methods._mean(a, axis=axis, dtype=dtype,\n"
     ]
    },
    {
     "name": "stdout",
     "output_type": "stream",
     "text": [
      "Subject (nan) does not have a \"snt_choice\" column. Exiting without parsing.\n",
      "Subject (nan) does not have a \"snt_choice\" column. Exiting without parsing.\n",
      "Subject (nan) does not have a \"snt_choice\" column. Exiting without parsing.\n",
      "Subject (nan) does not have a \"snt_choice\" column. Exiting without parsing.\n",
      "Subject (nan) does not have a \"snt_choice\" column. Exiting without parsing.\n",
      "Subject (nan) does not have a \"snt_choice\" column. Exiting without parsing.\n",
      "Subject (nan) does not have a \"snt_choice\" column. Exiting without parsing.\n",
      "Subject (nan) does not have a \"snt_choice\" column. Exiting without parsing.\n",
      "Subject (nan) does not have a \"snt_choice\" column. Exiting without parsing.\n",
      "Subject (nan) does not have a \"snt_choice\" column. Exiting without parsing.\n",
      "Subject (nan) does not have a \"snt_choice\" column. Exiting without parsing.\n",
      "Subject (nan) does not have a \"snt_choice\" column. Exiting without parsing.\n",
      "Subject (nan) does not have a \"snt_choice\" column. Exiting without parsing.\n",
      "Subject (nan) does not have a \"snt_choice\" column. Exiting without parsing.\n",
      "Subject (nan) does not have a \"snt_choice\" column. Exiting without parsing.\n",
      "Subject (nan) does not have a \"snt_choice\" column. Exiting without parsing.\n",
      "Subject (nan) does not have a \"snt_choice\" column. Exiting without parsing.\n",
      "Subject (nan) does not have a \"snt_choice\" column. Exiting without parsing.\n",
      "Subject (nan) does not have a \"snt_choice\" column. Exiting without parsing.\n",
      "Subject (nan) does not have a \"snt_choice\" column. Exiting without parsing.\n",
      "Subject (nan) does not have a \"snt_choice\" column. Exiting without parsing.\n",
      "Subject (nan) does not have a \"snt_choice\" column. Exiting without parsing.\n",
      "Subject (nan) does not have a \"snt_choice\" column. Exiting without parsing.\n",
      "Subject (nan) does not have a \"snt_choice\" column. Exiting without parsing.\n",
      "Subject (nan) does not have a \"snt_choice\" column. Exiting without parsing.\n",
      "Subject (nan) does not have a \"snt_choice\" column. Exiting without parsing.\n",
      "Subject (nan) does not have a \"snt_choice\" column. Exiting without parsing.\n",
      "Subject (nan) does not have a \"snt_choice\" column. Exiting without parsing.\n",
      "Subject (nan) does not have a \"snt_choice\" column. Exiting without parsing.\n",
      "Subject (nan) does not have a \"snt_choice\" column. Exiting without parsing.\n",
      "Subject (nan) does not have a \"snt_choice\" column. Exiting without parsing.\n",
      "Subject (nan) does not have a \"snt_choice\" column. Exiting without parsing.\n"
     ]
    }
   ],
   "source": [
    "base_dir = f'{user}/Desktop/adolescent_pilot'\n",
    "csv_dir  = f'{base_dir}/CSVs' # specify the data directory\n",
    "csvs     = [f for f in glob.glob(f'{csv_dir}/*.csv') if '~$' not in f]\n",
    "print(f'Found {len(csvs)} csvs')\n",
    "\n",
    "for csv in csvs:\n",
    "    snt_preprc.parse_csv(csv, snt_version='adolescent_pilot', out_dir=base_dir)\n"
   ]
  },
  {
   "cell_type": "markdown",
   "metadata": {},
   "source": [
    "# 2 - Compute behavioral measures"
   ]
  },
  {
   "cell_type": "code",
   "execution_count": 36,
   "metadata": {
    "collapsed": true,
    "jupyter": {
     "outputs_hidden": true,
     "source_hidden": true
    },
    "tags": []
   },
   "outputs": [
    {
     "name": "stdout",
     "output_type": "stream",
     "text": [
      "Found 36 xlsxs\n",
      "Computing behavior for test_initials\n",
      "Computing behavior for Test_SB_initials\n"
     ]
    }
   ],
   "source": [
    "base_dir = f'{user}/Desktop/adolescent_pilot'\n",
    "xlsxs    = [f for f in glob.glob(f'{base_dir}/Organized/*.xlsx') if '~$' not in f]\n",
    "print(f'Found {len(xlsxs)} xlsxs')\n",
    "\n",
    "for i, xlsx in enumerate(xlsxs):\n",
    "    \n",
    "    # check if file is already computed: \n",
    "    sub_id  = xlsx.split('SNT_')[1].split('.xlsx')[0]\n",
    "    outname = f'{base_dir}/Behavior/SNT_{sub_id}_behavior.xlsx'\n",
    "    if not os.path.isfile(outname):\n",
    "        \n",
    "        print(f'Computing behavior for {sub_id}')\n",
    "        snt_preprc.compute_behavior(file_path=xlsx, out_dir=base_dir)"
   ]
  },
  {
   "cell_type": "markdown",
   "metadata": {},
   "source": [
    "# 3 - Summarize behavior"
   ]
  },
  {
   "cell_type": "code",
   "execution_count": 37,
   "metadata": {
    "tags": []
   },
   "outputs": [
    {
     "name": "stdout",
     "output_type": "stream",
     "text": [
      "Summarizing 35 of 35\r"
     ]
    }
   ],
   "source": [
    "base_dir = f'{user}/Desktop/adolescent_pilot'\n",
    "xlsxs    = [f for f in glob.glob(f'{base_dir}/Behavior/*.xlsx') if '~$' not in f]\n",
    "snt_preprc.summarize_behavior(xlsxs, out_dir=base_dir)"
   ]
  },
  {
   "cell_type": "code",
   "execution_count": 6,
   "metadata": {},
   "outputs": [
    {
     "ename": "NameError",
     "evalue": "name 'base_dir' is not defined",
     "output_type": "error",
     "traceback": [
      "\u001b[0;31m---------------------------------------------------------------------------\u001b[0m",
      "\u001b[0;31mNameError\u001b[0m                                 Traceback (most recent call last)",
      "Input \u001b[0;32mIn [6]\u001b[0m, in \u001b[0;36m<cell line: 1>\u001b[0;34m()\u001b[0m\n\u001b[0;32m----> 1\u001b[0m xlsxs \u001b[38;5;241m=\u001b[39m [f \u001b[38;5;28;01mfor\u001b[39;00m f \u001b[38;5;129;01min\u001b[39;00m glob\u001b[38;5;241m.\u001b[39mglob(\u001b[38;5;124mf\u001b[39m\u001b[38;5;124m'\u001b[39m\u001b[38;5;132;01m{\u001b[39;00mbase_dir\u001b[38;5;132;01m}\u001b[39;00m\u001b[38;5;124m/Posttask/*.xlsx\u001b[39m\u001b[38;5;124m'\u001b[39m) \u001b[38;5;28;01mif\u001b[39;00m \u001b[38;5;124m'\u001b[39m\u001b[38;5;124m~$\u001b[39m\u001b[38;5;124m'\u001b[39m \u001b[38;5;129;01mnot\u001b[39;00m \u001b[38;5;129;01min\u001b[39;00m f]\n\u001b[1;32m      2\u001b[0m xlsxs\n",
      "\u001b[0;31mNameError\u001b[0m: name 'base_dir' is not defined"
     ]
    }
   ],
   "source": [
    "xlsxs = [f for f in glob.glob(f'{base_dir}/Posttask/*.xlsx') if '~$' not in f]\n",
    "xlsxs"
   ]
  },
  {
   "cell_type": "markdown",
   "metadata": {},
   "source": [
    "# 4 - RDVs"
   ]
  },
  {
   "cell_type": "code",
   "execution_count": 3,
   "metadata": {
    "collapsed": true,
    "jupyter": {
     "outputs_hidden": true,
     "source_hidden": true
    },
    "tags": []
   },
   "outputs": [
    {
     "name": "stdout",
     "output_type": "stream",
     "text": [
      "/Volumes/synapse/projects/SocialSpace/Projects/SNT-fmri_original/Data/SNT/Behavior/SNT_10_behavior.xlsx\n",
      "Creating subdirectory for RDVs\n",
      "/Volumes/synapse/projects/SocialSpace/Projects/SNT-fmri_original/Data/SNT/Behavior/SNT_13_behavior.xlsx\n",
      "/Volumes/synapse/projects/SocialSpace/Projects/SNT-fmri_original/Data/SNT/Behavior/SNT_14_behavior.xlsx\n",
      "/Volumes/synapse/projects/SocialSpace/Projects/SNT-fmri_original/Data/SNT/Behavior/SNT_15_behavior.xlsx\n",
      "/Volumes/synapse/projects/SocialSpace/Projects/SNT-fmri_original/Data/SNT/Behavior/SNT_16_behavior.xlsx\n",
      "/Volumes/synapse/projects/SocialSpace/Projects/SNT-fmri_original/Data/SNT/Behavior/SNT_17_behavior.xlsx\n",
      "/Volumes/synapse/projects/SocialSpace/Projects/SNT-fmri_original/Data/SNT/Behavior/SNT_19_behavior.xlsx\n",
      "/Volumes/synapse/projects/SocialSpace/Projects/SNT-fmri_original/Data/SNT/Behavior/SNT_20_behavior.xlsx\n",
      "/Volumes/synapse/projects/SocialSpace/Projects/SNT-fmri_original/Data/SNT/Behavior/SNT_21_behavior.xlsx\n",
      "/Volumes/synapse/projects/SocialSpace/Projects/SNT-fmri_original/Data/SNT/Behavior/SNT_01_behavior.xlsx\n",
      "/Volumes/synapse/projects/SocialSpace/Projects/SNT-fmri_original/Data/SNT/Behavior/SNT_02_behavior.xlsx\n",
      "/Volumes/synapse/projects/SocialSpace/Projects/SNT-fmri_original/Data/SNT/Behavior/SNT_03_behavior.xlsx\n",
      "/Volumes/synapse/projects/SocialSpace/Projects/SNT-fmri_original/Data/SNT/Behavior/SNT_04_behavior.xlsx\n",
      "/Volumes/synapse/projects/SocialSpace/Projects/SNT-fmri_original/Data/SNT/Behavior/SNT_05_behavior.xlsx\n",
      "/Volumes/synapse/projects/SocialSpace/Projects/SNT-fmri_original/Data/SNT/Behavior/SNT_07_behavior.xlsx\n",
      "/Volumes/synapse/projects/SocialSpace/Projects/SNT-fmri_original/Data/SNT/Behavior/SNT_08_behavior.xlsx\n",
      "/Volumes/synapse/projects/SocialSpace/Projects/SNT-fmri_original/Data/SNT/Behavior/SNT_09_behavior.xlsx\n",
      "/Volumes/synapse/projects/SocialSpace/Projects/SNT-fmri_original/Data/SNT/Behavior/SNT_11_behavior.xlsx\n",
      "/Volumes/synapse/projects/SocialSpace/Projects/SNT-fmri_original/Data/SNT/Behavior/SNT_12_behavior.xlsx\n",
      "/Volumes/synapse/projects/SocialSpace/Projects/SNT-fmri_original/Data/SNT/Behavior/SNT_06_behavior.xlsx\n",
      "/Volumes/synapse/projects/SocialSpace/Projects/SNT-fmri_original/Data/SNT/Behavior/SNT_18_behavior.xlsx\n"
     ]
    }
   ],
   "source": [
    "base_dir  = '/Volumes/synapse/projects/SocialSpace/Projects/SNT-fmri_original/Data/SNT'\n",
    "beh_dir   = f'{base_dir}/Behavior'\n",
    "beh_files = glob.glob(beh_dir + '/*.xlsx')\n",
    "for beh_file in beh_files:\n",
    "    print(beh_file)\n",
    "    snt_preprc.compute_rdvs(beh_file, metric='euclidean', output_all=False, out_dir=base_dir)"
   ]
  },
  {
   "cell_type": "markdown",
   "metadata": {},
   "source": [
    "# DEV: combine all into pipeline"
   ]
  },
  {
   "cell_type": "code",
   "execution_count": 3,
   "metadata": {
    "tags": []
   },
   "outputs": [],
   "source": [
    "# synapse_dir = '/Volumes/synapse/projects/SocialSpace/Projects/'\n",
    "# datasets    = pd.read_excel(f'{synapse_dir}/SNT-datasets.xlsx')\n",
    "# datasets"
   ]
  },
  {
   "cell_type": "code",
   "execution_count": 5,
   "metadata": {
    "collapsed": true,
    "jupyter": {
     "outputs_hidden": true
    },
    "tags": []
   },
   "outputs": [
    {
     "name": "stdout",
     "output_type": "stream",
     "text": [
      "prolific_original\n",
      "Found 98 files\n",
      "PARTICIPANT_Social_Navigation_2021-10-05_16h09.48.040.csv: parsing\r"
     ]
    },
    {
     "name": "stderr",
     "output_type": "stream",
     "text": [
      "//anaconda3/envs/social_navigation_analysis/lib/python3.10/site-packages/numpy/core/fromnumeric.py:3432: RuntimeWarning: Mean of empty slice.\n",
      "  return _methods._mean(a, axis=axis, dtype=dtype,\n"
     ]
    },
    {
     "name": "stdout",
     "output_type": "stream",
     "text": [
      "PARTICIPANT_Social_Navigation_2022-01-20_14h33.14.776.csv: parsingng behavior\r"
     ]
    },
    {
     "name": "stderr",
     "output_type": "stream",
     "text": [
      "//anaconda3/envs/social_navigation_analysis/lib/python3.10/site-packages/numpy/core/fromnumeric.py:3432: RuntimeWarning: Mean of empty slice.\n",
      "  return _methods._mean(a, axis=axis, dtype=dtype,\n"
     ]
    },
    {
     "name": "stdout",
     "output_type": "stream",
     "text": [
      "PARTICIPANT_Social_Navigation_2022-01-21_22h40.53.522.csv: parsingng behavior\r"
     ]
    },
    {
     "name": "stderr",
     "output_type": "stream",
     "text": [
      "//anaconda3/envs/social_navigation_analysis/lib/python3.10/site-packages/numpy/core/fromnumeric.py:3432: RuntimeWarning: Mean of empty slice.\n",
      "  return _methods._mean(a, axis=axis, dtype=dtype,\n"
     ]
    },
    {
     "name": "stdout",
     "output_type": "stream",
     "text": [
      "PARTICIPANT_Social_Navigation_2021-10-10_11h53.02.011.csv: parsingng behavior\r"
     ]
    },
    {
     "name": "stderr",
     "output_type": "stream",
     "text": [
      "//anaconda3/envs/social_navigation_analysis/lib/python3.10/site-packages/numpy/core/fromnumeric.py:3432: RuntimeWarning: Mean of empty slice.\n",
      "  return _methods._mean(a, axis=axis, dtype=dtype,\n"
     ]
    },
    {
     "name": "stdout",
     "output_type": "stream",
     "text": [
      "PARTICIPANT_Social_Navigation_2022-01-10_17h07.25.348.csv: parsingng behavior\r"
     ]
    },
    {
     "name": "stderr",
     "output_type": "stream",
     "text": [
      "//anaconda3/envs/social_navigation_analysis/lib/python3.10/site-packages/numpy/core/fromnumeric.py:3432: RuntimeWarning: Mean of empty slice.\n",
      "  return _methods._mean(a, axis=axis, dtype=dtype,\n"
     ]
    },
    {
     "name": "stdout",
     "output_type": "stream",
     "text": [
      "PARTICIPANT_Social_Navigation_2021-10-07_10h26.37.678.csv: parsingng behavior\r"
     ]
    },
    {
     "name": "stderr",
     "output_type": "stream",
     "text": [
      "//anaconda3/envs/social_navigation_analysis/lib/python3.10/site-packages/numpy/core/fromnumeric.py:3432: RuntimeWarning: Mean of empty slice.\n",
      "  return _methods._mean(a, axis=axis, dtype=dtype,\n"
     ]
    },
    {
     "name": "stdout",
     "output_type": "stream",
     "text": [
      "PARTICIPANT_Social_Navigation_2022-01-11_21h38.08.056.csv: parsingng behavior\r"
     ]
    },
    {
     "name": "stderr",
     "output_type": "stream",
     "text": [
      "//anaconda3/envs/social_navigation_analysis/lib/python3.10/site-packages/numpy/core/fromnumeric.py:3432: RuntimeWarning: Mean of empty slice.\n",
      "  return _methods._mean(a, axis=axis, dtype=dtype,\n"
     ]
    },
    {
     "name": "stdout",
     "output_type": "stream",
     "text": [
      "PARTICIPANT_Social_Navigation_2021-10-06_14h45.06.966.csv: parsingng behavior\r"
     ]
    },
    {
     "name": "stderr",
     "output_type": "stream",
     "text": [
      "//anaconda3/envs/social_navigation_analysis/lib/python3.10/site-packages/numpy/core/fromnumeric.py:3432: RuntimeWarning: Mean of empty slice.\n",
      "  return _methods._mean(a, axis=axis, dtype=dtype,\n"
     ]
    },
    {
     "name": "stdout",
     "output_type": "stream",
     "text": [
      "PARTICIPANT_Social_Navigation_2021-10-06_21h53.02.033.csv: parsingng behavior\r"
     ]
    },
    {
     "name": "stderr",
     "output_type": "stream",
     "text": [
      "//anaconda3/envs/social_navigation_analysis/lib/python3.10/site-packages/numpy/core/fromnumeric.py:3432: RuntimeWarning: Mean of empty slice.\n",
      "  return _methods._mean(a, axis=axis, dtype=dtype,\n"
     ]
    },
    {
     "name": "stdout",
     "output_type": "stream",
     "text": [
      "PARTICIPANT_Social_Navigation_2021-10-06_21h44.25.362.csv: parsingng behavior\r"
     ]
    },
    {
     "name": "stderr",
     "output_type": "stream",
     "text": [
      "//anaconda3/envs/social_navigation_analysis/lib/python3.10/site-packages/numpy/core/fromnumeric.py:3432: RuntimeWarning: Mean of empty slice.\n",
      "  return _methods._mean(a, axis=axis, dtype=dtype,\n"
     ]
    },
    {
     "name": "stdout",
     "output_type": "stream",
     "text": [
      "PARTICIPANT_Social_Navigation_2021-10-08_21h48.47.624.csv: parsingng behavior\r"
     ]
    },
    {
     "name": "stderr",
     "output_type": "stream",
     "text": [
      "//anaconda3/envs/social_navigation_analysis/lib/python3.10/site-packages/numpy/core/fromnumeric.py:3432: RuntimeWarning: Mean of empty slice.\n",
      "  return _methods._mean(a, axis=axis, dtype=dtype,\n"
     ]
    },
    {
     "name": "stdout",
     "output_type": "stream",
     "text": [
      "PARTICIPANT_Social_Navigation_2021-10-05_11h23.37.018.csv: parsingng behavior\r"
     ]
    },
    {
     "name": "stderr",
     "output_type": "stream",
     "text": [
      "//anaconda3/envs/social_navigation_analysis/lib/python3.10/site-packages/numpy/core/fromnumeric.py:3432: RuntimeWarning: Mean of empty slice.\n",
      "  return _methods._mean(a, axis=axis, dtype=dtype,\n"
     ]
    },
    {
     "name": "stdout",
     "output_type": "stream",
     "text": [
      "PARTICIPANT_Social_Navigation_2021-10-05_16h40.39.379.csv: parsingng behavior\r"
     ]
    },
    {
     "name": "stderr",
     "output_type": "stream",
     "text": [
      "//anaconda3/envs/social_navigation_analysis/lib/python3.10/site-packages/numpy/core/fromnumeric.py:3432: RuntimeWarning: Mean of empty slice.\n",
      "  return _methods._mean(a, axis=axis, dtype=dtype,\n"
     ]
    },
    {
     "name": "stdout",
     "output_type": "stream",
     "text": [
      "PARTICIPANT_Social_Navigation_2021-10-10_12h09.21.874.csv: parsingng behavior\r"
     ]
    },
    {
     "name": "stderr",
     "output_type": "stream",
     "text": [
      "//anaconda3/envs/social_navigation_analysis/lib/python3.10/site-packages/numpy/core/fromnumeric.py:3432: RuntimeWarning: Mean of empty slice.\n",
      "  return _methods._mean(a, axis=axis, dtype=dtype,\n"
     ]
    },
    {
     "name": "stdout",
     "output_type": "stream",
     "text": [
      "PARTICIPANT_Social_Navigation_2021-10-09_07h24.01.122.csv: parsingng behavior\r"
     ]
    },
    {
     "name": "stderr",
     "output_type": "stream",
     "text": [
      "//anaconda3/envs/social_navigation_analysis/lib/python3.10/site-packages/numpy/core/fromnumeric.py:3432: RuntimeWarning: Mean of empty slice.\n",
      "  return _methods._mean(a, axis=axis, dtype=dtype,\n"
     ]
    },
    {
     "name": "stdout",
     "output_type": "stream",
     "text": [
      "PARTICIPANT_Social_Navigation_2022-01-11_18h42.53.490.csv: parsingng behavior\r"
     ]
    },
    {
     "name": "stderr",
     "output_type": "stream",
     "text": [
      "//anaconda3/envs/social_navigation_analysis/lib/python3.10/site-packages/numpy/core/fromnumeric.py:3432: RuntimeWarning: Mean of empty slice.\n",
      "  return _methods._mean(a, axis=axis, dtype=dtype,\n"
     ]
    },
    {
     "name": "stdout",
     "output_type": "stream",
     "text": [
      "PARTICIPANT_Social_Navigation_2021-10-06_19h36.01.201.csv: parsingng behavior\r"
     ]
    },
    {
     "name": "stderr",
     "output_type": "stream",
     "text": [
      "//anaconda3/envs/social_navigation_analysis/lib/python3.10/site-packages/numpy/core/fromnumeric.py:3432: RuntimeWarning: Mean of empty slice.\n",
      "  return _methods._mean(a, axis=axis, dtype=dtype,\n"
     ]
    },
    {
     "name": "stdout",
     "output_type": "stream",
     "text": [
      "PARTICIPANT_Social_Navigation_2021-10-05_12h30.15.102.csv: parsingng behavior\r"
     ]
    },
    {
     "name": "stderr",
     "output_type": "stream",
     "text": [
      "//anaconda3/envs/social_navigation_analysis/lib/python3.10/site-packages/numpy/core/fromnumeric.py:3432: RuntimeWarning: Mean of empty slice.\n",
      "  return _methods._mean(a, axis=axis, dtype=dtype,\n"
     ]
    },
    {
     "name": "stdout",
     "output_type": "stream",
     "text": [
      "PARTICIPANT_Social_Navigation_2021-10-05_16h56.07.866.csv: parsingng behavior\r"
     ]
    },
    {
     "name": "stderr",
     "output_type": "stream",
     "text": [
      "//anaconda3/envs/social_navigation_analysis/lib/python3.10/site-packages/numpy/core/fromnumeric.py:3432: RuntimeWarning: Mean of empty slice.\n",
      "  return _methods._mean(a, axis=axis, dtype=dtype,\n"
     ]
    },
    {
     "name": "stdout",
     "output_type": "stream",
     "text": [
      "PARTICIPANT_Social_Navigation_2021-10-05_19h04.34.735.csv: parsingng behavior\r"
     ]
    },
    {
     "name": "stderr",
     "output_type": "stream",
     "text": [
      "//anaconda3/envs/social_navigation_analysis/lib/python3.10/site-packages/numpy/core/fromnumeric.py:3432: RuntimeWarning: Mean of empty slice.\n",
      "  return _methods._mean(a, axis=axis, dtype=dtype,\n"
     ]
    },
    {
     "name": "stdout",
     "output_type": "stream",
     "text": [
      "Subject (5fb28e64134ec0894396633a) does not have a \"snt_choice\" column. Exiting without parsing.\n",
      "PARTICIPANT_Social_Navigation_2021-10-05_21h26.51.843.csv: parsingng behavior\r"
     ]
    },
    {
     "name": "stderr",
     "output_type": "stream",
     "text": [
      "//anaconda3/envs/social_navigation_analysis/lib/python3.10/site-packages/numpy/core/fromnumeric.py:3432: RuntimeWarning: Mean of empty slice.\n",
      "  return _methods._mean(a, axis=axis, dtype=dtype,\n"
     ]
    },
    {
     "name": "stdout",
     "output_type": "stream",
     "text": [
      "PARTICIPANT_Social_Navigation_2022-01-25_20h12.22.672.csv: parsingng behavior\r"
     ]
    },
    {
     "name": "stderr",
     "output_type": "stream",
     "text": [
      "//anaconda3/envs/social_navigation_analysis/lib/python3.10/site-packages/numpy/core/fromnumeric.py:3432: RuntimeWarning: Mean of empty slice.\n",
      "  return _methods._mean(a, axis=axis, dtype=dtype,\n"
     ]
    },
    {
     "name": "stdout",
     "output_type": "stream",
     "text": [
      "PARTICIPANT_Social_Navigation_2022-01-15_12h21.38.299.csv: parsingng behavior\r"
     ]
    },
    {
     "name": "stderr",
     "output_type": "stream",
     "text": [
      "//anaconda3/envs/social_navigation_analysis/lib/python3.10/site-packages/numpy/core/fromnumeric.py:3432: RuntimeWarning: Mean of empty slice.\n",
      "  return _methods._mean(a, axis=axis, dtype=dtype,\n"
     ]
    },
    {
     "name": "stdout",
     "output_type": "stream",
     "text": [
      "PARTICIPANT_Social_Navigation_2022-01-15_01h02.37.804.csv: parsingng behavior\r"
     ]
    },
    {
     "name": "stderr",
     "output_type": "stream",
     "text": [
      "//anaconda3/envs/social_navigation_analysis/lib/python3.10/site-packages/numpy/core/fromnumeric.py:3432: RuntimeWarning: Mean of empty slice.\n",
      "  return _methods._mean(a, axis=axis, dtype=dtype,\n"
     ]
    },
    {
     "name": "stdout",
     "output_type": "stream",
     "text": [
      "PARTICIPANT_Social_Navigation_2021-10-06_21h28.07.377.csv: parsingng behavior\r"
     ]
    },
    {
     "name": "stderr",
     "output_type": "stream",
     "text": [
      "//anaconda3/envs/social_navigation_analysis/lib/python3.10/site-packages/numpy/core/fromnumeric.py:3432: RuntimeWarning: Mean of empty slice.\n",
      "  return _methods._mean(a, axis=axis, dtype=dtype,\n"
     ]
    },
    {
     "name": "stdout",
     "output_type": "stream",
     "text": [
      "PARTICIPANT_Social_Navigation_2021-10-05_12h48.00.338.csv: parsingng behavior\r"
     ]
    },
    {
     "name": "stderr",
     "output_type": "stream",
     "text": [
      "//anaconda3/envs/social_navigation_analysis/lib/python3.10/site-packages/numpy/core/fromnumeric.py:3432: RuntimeWarning: Mean of empty slice.\n",
      "  return _methods._mean(a, axis=axis, dtype=dtype,\n"
     ]
    },
    {
     "name": "stdout",
     "output_type": "stream",
     "text": [
      "PARTICIPANT_Social_Navigation_2021-10-06_21h25.03.546.csv: parsingng behavior\r"
     ]
    },
    {
     "name": "stderr",
     "output_type": "stream",
     "text": [
      "//anaconda3/envs/social_navigation_analysis/lib/python3.10/site-packages/numpy/core/fromnumeric.py:3432: RuntimeWarning: Mean of empty slice.\n",
      "  return _methods._mean(a, axis=axis, dtype=dtype,\n"
     ]
    },
    {
     "name": "stdout",
     "output_type": "stream",
     "text": [
      "PARTICIPANT_Social_Navigation_2021-10-05_14h17.07.198.csv: parsingng behavior\r"
     ]
    },
    {
     "name": "stderr",
     "output_type": "stream",
     "text": [
      "//anaconda3/envs/social_navigation_analysis/lib/python3.10/site-packages/numpy/core/fromnumeric.py:3432: RuntimeWarning: Mean of empty slice.\n",
      "  return _methods._mean(a, axis=axis, dtype=dtype,\n"
     ]
    },
    {
     "name": "stdout",
     "output_type": "stream",
     "text": [
      "PARTICIPANT_Social_Navigation_2021-10-07_14h41.37.595.csv: parsingng behavior\r"
     ]
    },
    {
     "name": "stderr",
     "output_type": "stream",
     "text": [
      "//anaconda3/envs/social_navigation_analysis/lib/python3.10/site-packages/numpy/core/fromnumeric.py:3432: RuntimeWarning: Mean of empty slice.\n",
      "  return _methods._mean(a, axis=axis, dtype=dtype,\n"
     ]
    },
    {
     "name": "stdout",
     "output_type": "stream",
     "text": [
      "PARTICIPANT_Social_Navigation_2021-10-05_20h09.17.166.csv: parsingng behavior\r"
     ]
    },
    {
     "name": "stderr",
     "output_type": "stream",
     "text": [
      "//anaconda3/envs/social_navigation_analysis/lib/python3.10/site-packages/numpy/core/fromnumeric.py:3432: RuntimeWarning: Mean of empty slice.\n",
      "  return _methods._mean(a, axis=axis, dtype=dtype,\n"
     ]
    },
    {
     "name": "stdout",
     "output_type": "stream",
     "text": [
      "PARTICIPANT_Social_Navigation_2021-10-05_11h07.33.982.csv: parsingng behavior\r"
     ]
    },
    {
     "name": "stderr",
     "output_type": "stream",
     "text": [
      "//anaconda3/envs/social_navigation_analysis/lib/python3.10/site-packages/numpy/core/fromnumeric.py:3432: RuntimeWarning: Mean of empty slice.\n",
      "  return _methods._mean(a, axis=axis, dtype=dtype,\n"
     ]
    },
    {
     "name": "stdout",
     "output_type": "stream",
     "text": [
      "PARTICIPANT_Social_Navigation_2021-10-05_12h49.23.117.csv: parsingng behavior\r"
     ]
    },
    {
     "name": "stderr",
     "output_type": "stream",
     "text": [
      "//anaconda3/envs/social_navigation_analysis/lib/python3.10/site-packages/numpy/core/fromnumeric.py:3432: RuntimeWarning: Mean of empty slice.\n",
      "  return _methods._mean(a, axis=axis, dtype=dtype,\n"
     ]
    },
    {
     "name": "stdout",
     "output_type": "stream",
     "text": [
      "PARTICIPANT_Social_Navigation_2021-10-11_23h05.10.164.csv: parsingng behavior\r"
     ]
    },
    {
     "name": "stderr",
     "output_type": "stream",
     "text": [
      "//anaconda3/envs/social_navigation_analysis/lib/python3.10/site-packages/numpy/core/fromnumeric.py:3432: RuntimeWarning: Mean of empty slice.\n",
      "  return _methods._mean(a, axis=axis, dtype=dtype,\n"
     ]
    },
    {
     "name": "stdout",
     "output_type": "stream",
     "text": [
      "PARTICIPANT_Social_Navigation_2021-10-09_12h24.35.841.csv: parsingng behavior\r"
     ]
    },
    {
     "name": "stderr",
     "output_type": "stream",
     "text": [
      "//anaconda3/envs/social_navigation_analysis/lib/python3.10/site-packages/numpy/core/fromnumeric.py:3432: RuntimeWarning: Mean of empty slice.\n",
      "  return _methods._mean(a, axis=axis, dtype=dtype,\n"
     ]
    },
    {
     "name": "stdout",
     "output_type": "stream",
     "text": [
      "PARTICIPANT_Social_Navigation_2021-10-05_16h35.21.310.csv: parsingng behavior\r"
     ]
    },
    {
     "name": "stderr",
     "output_type": "stream",
     "text": [
      "//anaconda3/envs/social_navigation_analysis/lib/python3.10/site-packages/numpy/core/fromnumeric.py:3432: RuntimeWarning: Mean of empty slice.\n",
      "  return _methods._mean(a, axis=axis, dtype=dtype,\n"
     ]
    },
    {
     "name": "stdout",
     "output_type": "stream",
     "text": [
      "PARTICIPANT_Social_Navigation_2022-01-23_13h48.18.288.csv: parsingng behavior\r"
     ]
    },
    {
     "name": "stderr",
     "output_type": "stream",
     "text": [
      "//anaconda3/envs/social_navigation_analysis/lib/python3.10/site-packages/numpy/core/fromnumeric.py:3432: RuntimeWarning: Mean of empty slice.\n",
      "  return _methods._mean(a, axis=axis, dtype=dtype,\n"
     ]
    },
    {
     "name": "stdout",
     "output_type": "stream",
     "text": [
      "PARTICIPANT_Social_Navigation_2021-10-06_20h43.31.980.csv: parsingng behavior\r"
     ]
    },
    {
     "name": "stderr",
     "output_type": "stream",
     "text": [
      "//anaconda3/envs/social_navigation_analysis/lib/python3.10/site-packages/numpy/core/fromnumeric.py:3432: RuntimeWarning: Mean of empty slice.\n",
      "  return _methods._mean(a, axis=axis, dtype=dtype,\n"
     ]
    },
    {
     "name": "stdout",
     "output_type": "stream",
     "text": [
      "PARTICIPANT_Social_Navigation_2022-01-17_20h11.49.610.csv: parsingng behavior\r"
     ]
    },
    {
     "name": "stderr",
     "output_type": "stream",
     "text": [
      "//anaconda3/envs/social_navigation_analysis/lib/python3.10/site-packages/numpy/core/fromnumeric.py:3432: RuntimeWarning: Mean of empty slice.\n",
      "  return _methods._mean(a, axis=axis, dtype=dtype,\n"
     ]
    },
    {
     "name": "stdout",
     "output_type": "stream",
     "text": [
      "PARTICIPANT_Social_Navigation_2021-10-05_13h13.17.440.csv: parsingng behavior\r"
     ]
    },
    {
     "name": "stderr",
     "output_type": "stream",
     "text": [
      "//anaconda3/envs/social_navigation_analysis/lib/python3.10/site-packages/numpy/core/fromnumeric.py:3432: RuntimeWarning: Mean of empty slice.\n",
      "  return _methods._mean(a, axis=axis, dtype=dtype,\n"
     ]
    },
    {
     "name": "stdout",
     "output_type": "stream",
     "text": [
      "PARTICIPANT_Social_Navigation_2022-01-10_13h26.28.369.csv: parsingng behavior\r"
     ]
    },
    {
     "name": "stderr",
     "output_type": "stream",
     "text": [
      "//anaconda3/envs/social_navigation_analysis/lib/python3.10/site-packages/numpy/core/fromnumeric.py:3432: RuntimeWarning: Mean of empty slice.\n",
      "  return _methods._mean(a, axis=axis, dtype=dtype,\n"
     ]
    },
    {
     "name": "stdout",
     "output_type": "stream",
     "text": [
      "PARTICIPANT_Social_Navigation_2021-10-07_13h00.35.443.csv: parsingng behavior\r"
     ]
    },
    {
     "name": "stderr",
     "output_type": "stream",
     "text": [
      "//anaconda3/envs/social_navigation_analysis/lib/python3.10/site-packages/numpy/core/fromnumeric.py:3432: RuntimeWarning: Mean of empty slice.\n",
      "  return _methods._mean(a, axis=axis, dtype=dtype,\n"
     ]
    },
    {
     "name": "stdout",
     "output_type": "stream",
     "text": [
      "PARTICIPANT_Social_Navigation_2022-01-11_19h06.35.964.csv: parsingng behavior\r"
     ]
    },
    {
     "name": "stderr",
     "output_type": "stream",
     "text": [
      "//anaconda3/envs/social_navigation_analysis/lib/python3.10/site-packages/numpy/core/fromnumeric.py:3432: RuntimeWarning: Mean of empty slice.\n",
      "  return _methods._mean(a, axis=axis, dtype=dtype,\n"
     ]
    },
    {
     "name": "stdout",
     "output_type": "stream",
     "text": [
      "PARTICIPANT_Social_Navigation_2021-10-07_00h06.32.219.csv: parsingng behavior\r"
     ]
    },
    {
     "name": "stderr",
     "output_type": "stream",
     "text": [
      "//anaconda3/envs/social_navigation_analysis/lib/python3.10/site-packages/numpy/core/fromnumeric.py:3432: RuntimeWarning: Mean of empty slice.\n",
      "  return _methods._mean(a, axis=axis, dtype=dtype,\n"
     ]
    },
    {
     "name": "stdout",
     "output_type": "stream",
     "text": [
      "PARTICIPANT_Social_Navigation_2021-10-06_14h47.37.473.csv: parsingng behavior\r"
     ]
    },
    {
     "name": "stderr",
     "output_type": "stream",
     "text": [
      "//anaconda3/envs/social_navigation_analysis/lib/python3.10/site-packages/numpy/core/fromnumeric.py:3432: RuntimeWarning: Mean of empty slice.\n",
      "  return _methods._mean(a, axis=axis, dtype=dtype,\n"
     ]
    },
    {
     "name": "stdout",
     "output_type": "stream",
     "text": [
      "PARTICIPANT_Social_Navigation_2021-10-05_12h57.29.106.csv: parsingng behavior\r"
     ]
    },
    {
     "name": "stderr",
     "output_type": "stream",
     "text": [
      "//anaconda3/envs/social_navigation_analysis/lib/python3.10/site-packages/numpy/core/fromnumeric.py:3432: RuntimeWarning: Mean of empty slice.\n",
      "  return _methods._mean(a, axis=axis, dtype=dtype,\n"
     ]
    },
    {
     "name": "stdout",
     "output_type": "stream",
     "text": [
      "PARTICIPANT_Social_Navigation_2021-10-05_19h53.54.791.csv: parsingng behavior\r"
     ]
    },
    {
     "name": "stderr",
     "output_type": "stream",
     "text": [
      "//anaconda3/envs/social_navigation_analysis/lib/python3.10/site-packages/numpy/core/fromnumeric.py:3432: RuntimeWarning: Mean of empty slice.\n",
      "  return _methods._mean(a, axis=axis, dtype=dtype,\n"
     ]
    },
    {
     "name": "stdout",
     "output_type": "stream",
     "text": [
      "PARTICIPANT_Social_Navigation_2021-10-10_14h37.13.292.csv: parsingng behavior\r"
     ]
    },
    {
     "name": "stderr",
     "output_type": "stream",
     "text": [
      "//anaconda3/envs/social_navigation_analysis/lib/python3.10/site-packages/numpy/core/fromnumeric.py:3432: RuntimeWarning: Mean of empty slice.\n",
      "  return _methods._mean(a, axis=axis, dtype=dtype,\n"
     ]
    },
    {
     "name": "stdout",
     "output_type": "stream",
     "text": [
      "PARTICIPANT_Social_Navigation_2021-10-07_14h26.34.857.csv: parsingng behavior\r"
     ]
    },
    {
     "name": "stderr",
     "output_type": "stream",
     "text": [
      "//anaconda3/envs/social_navigation_analysis/lib/python3.10/site-packages/numpy/core/fromnumeric.py:3432: RuntimeWarning: Mean of empty slice.\n",
      "  return _methods._mean(a, axis=axis, dtype=dtype,\n"
     ]
    },
    {
     "name": "stdout",
     "output_type": "stream",
     "text": [
      "PARTICIPANT_Social_Navigation_2022-01-10_11h10.49.981.csv: parsingng behavior\r"
     ]
    },
    {
     "name": "stderr",
     "output_type": "stream",
     "text": [
      "//anaconda3/envs/social_navigation_analysis/lib/python3.10/site-packages/numpy/core/fromnumeric.py:3432: RuntimeWarning: Mean of empty slice.\n",
      "  return _methods._mean(a, axis=axis, dtype=dtype,\n"
     ]
    },
    {
     "name": "stdout",
     "output_type": "stream",
     "text": [
      "PARTICIPANT_Social_Navigation_2021-10-07_04h47.24.320.csv: parsingng behavior\r"
     ]
    },
    {
     "name": "stderr",
     "output_type": "stream",
     "text": [
      "//anaconda3/envs/social_navigation_analysis/lib/python3.10/site-packages/numpy/core/fromnumeric.py:3432: RuntimeWarning: Mean of empty slice.\n",
      "  return _methods._mean(a, axis=axis, dtype=dtype,\n"
     ]
    },
    {
     "name": "stdout",
     "output_type": "stream",
     "text": [
      "PARTICIPANT_Social_Navigation_2021-10-05_12h55.20.578.csv: parsingng behavior\r"
     ]
    },
    {
     "name": "stderr",
     "output_type": "stream",
     "text": [
      "//anaconda3/envs/social_navigation_analysis/lib/python3.10/site-packages/numpy/core/fromnumeric.py:3432: RuntimeWarning: Mean of empty slice.\n",
      "  return _methods._mean(a, axis=axis, dtype=dtype,\n"
     ]
    },
    {
     "name": "stdout",
     "output_type": "stream",
     "text": [
      "PARTICIPANT_Social_Navigation_2021-10-05_13h14.00.250.csv: parsingng behavior\r"
     ]
    },
    {
     "name": "stderr",
     "output_type": "stream",
     "text": [
      "//anaconda3/envs/social_navigation_analysis/lib/python3.10/site-packages/numpy/core/fromnumeric.py:3432: RuntimeWarning: Mean of empty slice.\n",
      "  return _methods._mean(a, axis=axis, dtype=dtype,\n"
     ]
    },
    {
     "name": "stdout",
     "output_type": "stream",
     "text": [
      "PARTICIPANT_Social_Navigation_2021-10-06_15h28.02.239.csv: parsingng behavior\r"
     ]
    },
    {
     "name": "stderr",
     "output_type": "stream",
     "text": [
      "//anaconda3/envs/social_navigation_analysis/lib/python3.10/site-packages/numpy/core/fromnumeric.py:3432: RuntimeWarning: Mean of empty slice.\n",
      "  return _methods._mean(a, axis=axis, dtype=dtype,\n"
     ]
    },
    {
     "name": "stdout",
     "output_type": "stream",
     "text": [
      "PARTICIPANT_Social_Navigation_2021-10-11_01h26.53.632.csv: parsingng behavior\r"
     ]
    },
    {
     "name": "stderr",
     "output_type": "stream",
     "text": [
      "//anaconda3/envs/social_navigation_analysis/lib/python3.10/site-packages/numpy/core/fromnumeric.py:3432: RuntimeWarning: Mean of empty slice.\n",
      "  return _methods._mean(a, axis=axis, dtype=dtype,\n"
     ]
    },
    {
     "name": "stdout",
     "output_type": "stream",
     "text": [
      "PARTICIPANT_Social_Navigation_2021-10-05_11h09.30.329.csv: parsingng behavior\r"
     ]
    },
    {
     "name": "stderr",
     "output_type": "stream",
     "text": [
      "//anaconda3/envs/social_navigation_analysis/lib/python3.10/site-packages/numpy/core/fromnumeric.py:3432: RuntimeWarning: Mean of empty slice.\n",
      "  return _methods._mean(a, axis=axis, dtype=dtype,\n"
     ]
    },
    {
     "name": "stdout",
     "output_type": "stream",
     "text": [
      "PARTICIPANT_Social_Navigation_2021-10-05_16h29.53.902.csv: parsingng behavior\r"
     ]
    },
    {
     "name": "stderr",
     "output_type": "stream",
     "text": [
      "//anaconda3/envs/social_navigation_analysis/lib/python3.10/site-packages/numpy/core/fromnumeric.py:3432: RuntimeWarning: Mean of empty slice.\n",
      "  return _methods._mean(a, axis=axis, dtype=dtype,\n"
     ]
    },
    {
     "name": "stdout",
     "output_type": "stream",
     "text": [
      "PARTICIPANT_Social_Navigation_2022-01-14_16h22.07.505.csv: parsingng behavior\r"
     ]
    },
    {
     "name": "stderr",
     "output_type": "stream",
     "text": [
      "//anaconda3/envs/social_navigation_analysis/lib/python3.10/site-packages/numpy/core/fromnumeric.py:3432: RuntimeWarning: Mean of empty slice.\n",
      "  return _methods._mean(a, axis=axis, dtype=dtype,\n"
     ]
    },
    {
     "name": "stdout",
     "output_type": "stream",
     "text": [
      "PARTICIPANT_Social_Navigation_2021-10-05_10h41.10.669.csv: parsingng behavior\r"
     ]
    },
    {
     "name": "stderr",
     "output_type": "stream",
     "text": [
      "//anaconda3/envs/social_navigation_analysis/lib/python3.10/site-packages/numpy/core/fromnumeric.py:3432: RuntimeWarning: Mean of empty slice.\n",
      "  return _methods._mean(a, axis=axis, dtype=dtype,\n"
     ]
    },
    {
     "name": "stdout",
     "output_type": "stream",
     "text": [
      "PARTICIPANT_Social_Navigation_2021-10-05_13h56.48.697.csv: parsingng behavior\r"
     ]
    },
    {
     "name": "stderr",
     "output_type": "stream",
     "text": [
      "//anaconda3/envs/social_navigation_analysis/lib/python3.10/site-packages/numpy/core/fromnumeric.py:3432: RuntimeWarning: Mean of empty slice.\n",
      "  return _methods._mean(a, axis=axis, dtype=dtype,\n"
     ]
    },
    {
     "name": "stdout",
     "output_type": "stream",
     "text": [
      "PARTICIPANT_Social_Navigation_2021-10-05_21h32.22.585.csv: parsingng behavior\r"
     ]
    },
    {
     "name": "stderr",
     "output_type": "stream",
     "text": [
      "//anaconda3/envs/social_navigation_analysis/lib/python3.10/site-packages/numpy/core/fromnumeric.py:3432: RuntimeWarning: Mean of empty slice.\n",
      "  return _methods._mean(a, axis=axis, dtype=dtype,\n"
     ]
    },
    {
     "name": "stdout",
     "output_type": "stream",
     "text": [
      "PARTICIPANT_Social_Navigation_2021-10-05_12h55.14.877.csv: parsingng behavior\r"
     ]
    },
    {
     "name": "stderr",
     "output_type": "stream",
     "text": [
      "//anaconda3/envs/social_navigation_analysis/lib/python3.10/site-packages/numpy/core/fromnumeric.py:3432: RuntimeWarning: Mean of empty slice.\n",
      "  return _methods._mean(a, axis=axis, dtype=dtype,\n"
     ]
    },
    {
     "name": "stdout",
     "output_type": "stream",
     "text": [
      "PARTICIPANT_Social_Navigation_2022-01-19_02h59.30.394.csv: parsingng behavior\r"
     ]
    },
    {
     "name": "stderr",
     "output_type": "stream",
     "text": [
      "//anaconda3/envs/social_navigation_analysis/lib/python3.10/site-packages/numpy/core/fromnumeric.py:3432: RuntimeWarning: Mean of empty slice.\n",
      "  return _methods._mean(a, axis=axis, dtype=dtype,\n"
     ]
    },
    {
     "name": "stdout",
     "output_type": "stream",
     "text": [
      "PARTICIPANT_Social_Navigation_2021-10-07_08h15.18.238.csv: parsingng behavior\r"
     ]
    },
    {
     "name": "stderr",
     "output_type": "stream",
     "text": [
      "//anaconda3/envs/social_navigation_analysis/lib/python3.10/site-packages/numpy/core/fromnumeric.py:3432: RuntimeWarning: Mean of empty slice.\n",
      "  return _methods._mean(a, axis=axis, dtype=dtype,\n"
     ]
    },
    {
     "name": "stdout",
     "output_type": "stream",
     "text": [
      "PARTICIPANT_Social_Navigation_2021-10-05_14h12.17.813.csv: parsingng behavior\r"
     ]
    },
    {
     "name": "stderr",
     "output_type": "stream",
     "text": [
      "//anaconda3/envs/social_navigation_analysis/lib/python3.10/site-packages/numpy/core/fromnumeric.py:3432: RuntimeWarning: Mean of empty slice.\n",
      "  return _methods._mean(a, axis=axis, dtype=dtype,\n"
     ]
    },
    {
     "name": "stdout",
     "output_type": "stream",
     "text": [
      "PARTICIPANT_Social_Navigation_2021-10-11_18h15.46.586.csv: parsingng behavior\r"
     ]
    },
    {
     "name": "stderr",
     "output_type": "stream",
     "text": [
      "//anaconda3/envs/social_navigation_analysis/lib/python3.10/site-packages/numpy/core/fromnumeric.py:3432: RuntimeWarning: Mean of empty slice.\n",
      "  return _methods._mean(a, axis=axis, dtype=dtype,\n"
     ]
    },
    {
     "name": "stdout",
     "output_type": "stream",
     "text": [
      "PARTICIPANT_Social_Navigation_2021-10-06_21h07.27.737.csv: parsingng behavior\r"
     ]
    },
    {
     "name": "stderr",
     "output_type": "stream",
     "text": [
      "//anaconda3/envs/social_navigation_analysis/lib/python3.10/site-packages/numpy/core/fromnumeric.py:3432: RuntimeWarning: Mean of empty slice.\n",
      "  return _methods._mean(a, axis=axis, dtype=dtype,\n"
     ]
    },
    {
     "name": "stdout",
     "output_type": "stream",
     "text": [
      "PARTICIPANT_Social_Navigation_2021-10-12_20h23.16.056.csv: parsingng behavior\r"
     ]
    },
    {
     "name": "stderr",
     "output_type": "stream",
     "text": [
      "//anaconda3/envs/social_navigation_analysis/lib/python3.10/site-packages/numpy/core/fromnumeric.py:3432: RuntimeWarning: Mean of empty slice.\n",
      "  return _methods._mean(a, axis=axis, dtype=dtype,\n"
     ]
    },
    {
     "name": "stdout",
     "output_type": "stream",
     "text": [
      "PARTICIPANT_Social_Navigation_2022-01-13_02h38.23.213.csv: parsingng behavior\r"
     ]
    },
    {
     "name": "stderr",
     "output_type": "stream",
     "text": [
      "//anaconda3/envs/social_navigation_analysis/lib/python3.10/site-packages/numpy/core/fromnumeric.py:3432: RuntimeWarning: Mean of empty slice.\n",
      "  return _methods._mean(a, axis=axis, dtype=dtype,\n"
     ]
    },
    {
     "name": "stdout",
     "output_type": "stream",
     "text": [
      "PARTICIPANT_Social_Navigation_2021-10-05_12h20.11.694.csv: parsingng behavior\r"
     ]
    },
    {
     "name": "stderr",
     "output_type": "stream",
     "text": [
      "//anaconda3/envs/social_navigation_analysis/lib/python3.10/site-packages/numpy/core/fromnumeric.py:3432: RuntimeWarning: Mean of empty slice.\n",
      "  return _methods._mean(a, axis=axis, dtype=dtype,\n"
     ]
    },
    {
     "name": "stdout",
     "output_type": "stream",
     "text": [
      "PARTICIPANT_Social_Navigation_2021-10-05_11h41.24.789.csv: parsingng behavior\r"
     ]
    },
    {
     "name": "stderr",
     "output_type": "stream",
     "text": [
      "//anaconda3/envs/social_navigation_analysis/lib/python3.10/site-packages/numpy/core/fromnumeric.py:3432: RuntimeWarning: Mean of empty slice.\n",
      "  return _methods._mean(a, axis=axis, dtype=dtype,\n"
     ]
    },
    {
     "name": "stdout",
     "output_type": "stream",
     "text": [
      "PARTICIPANT_Social_Navigation_2021-10-05_16h03.06.017.csv: parsingng behavior\r"
     ]
    },
    {
     "name": "stderr",
     "output_type": "stream",
     "text": [
      "//anaconda3/envs/social_navigation_analysis/lib/python3.10/site-packages/numpy/core/fromnumeric.py:3432: RuntimeWarning: Mean of empty slice.\n",
      "  return _methods._mean(a, axis=axis, dtype=dtype,\n"
     ]
    },
    {
     "name": "stdout",
     "output_type": "stream",
     "text": [
      "PARTICIPANT_Social_Navigation_2021-10-05_15h52.45.367.csv: parsingng behavior\r"
     ]
    },
    {
     "name": "stderr",
     "output_type": "stream",
     "text": [
      "//anaconda3/envs/social_navigation_analysis/lib/python3.10/site-packages/numpy/core/fromnumeric.py:3432: RuntimeWarning: Mean of empty slice.\n",
      "  return _methods._mean(a, axis=axis, dtype=dtype,\n"
     ]
    },
    {
     "name": "stdout",
     "output_type": "stream",
     "text": [
      "PARTICIPANT_Social_Navigation_2021-10-05_11h30.49.208.csv: parsingng behavior\r"
     ]
    },
    {
     "name": "stderr",
     "output_type": "stream",
     "text": [
      "//anaconda3/envs/social_navigation_analysis/lib/python3.10/site-packages/numpy/core/fromnumeric.py:3432: RuntimeWarning: Mean of empty slice.\n",
      "  return _methods._mean(a, axis=axis, dtype=dtype,\n"
     ]
    },
    {
     "name": "stdout",
     "output_type": "stream",
     "text": [
      "PARTICIPANT_Social_Navigation_2021-10-05_19h53.26.411.csv: parsingng behavior\r"
     ]
    },
    {
     "name": "stderr",
     "output_type": "stream",
     "text": [
      "//anaconda3/envs/social_navigation_analysis/lib/python3.10/site-packages/numpy/core/fromnumeric.py:3432: RuntimeWarning: Mean of empty slice.\n",
      "  return _methods._mean(a, axis=axis, dtype=dtype,\n"
     ]
    },
    {
     "name": "stdout",
     "output_type": "stream",
     "text": [
      "PARTICIPANT_Social_Navigation_2022-01-14_14h30.52.831.csv: parsingng behavior\r"
     ]
    },
    {
     "name": "stderr",
     "output_type": "stream",
     "text": [
      "//anaconda3/envs/social_navigation_analysis/lib/python3.10/site-packages/numpy/core/fromnumeric.py:3432: RuntimeWarning: Mean of empty slice.\n",
      "  return _methods._mean(a, axis=axis, dtype=dtype,\n"
     ]
    },
    {
     "name": "stdout",
     "output_type": "stream",
     "text": [
      "PARTICIPANT_Social_Navigation_2022-01-10_10h28.49.027.csv: parsingng behavior\r"
     ]
    },
    {
     "name": "stderr",
     "output_type": "stream",
     "text": [
      "//anaconda3/envs/social_navigation_analysis/lib/python3.10/site-packages/numpy/core/fromnumeric.py:3432: RuntimeWarning: Mean of empty slice.\n",
      "  return _methods._mean(a, axis=axis, dtype=dtype,\n"
     ]
    },
    {
     "name": "stdout",
     "output_type": "stream",
     "text": [
      "PARTICIPANT_Social_Navigation_2021-10-05_17h41.15.822.csv: parsingng behavior\r"
     ]
    },
    {
     "name": "stderr",
     "output_type": "stream",
     "text": [
      "//anaconda3/envs/social_navigation_analysis/lib/python3.10/site-packages/numpy/core/fromnumeric.py:3432: RuntimeWarning: Mean of empty slice.\n",
      "  return _methods._mean(a, axis=axis, dtype=dtype,\n"
     ]
    },
    {
     "name": "stdout",
     "output_type": "stream",
     "text": [
      "PARTICIPANT_Social_Navigation_2021-10-06_16h19.41.172.csv: parsingng behavior\r"
     ]
    },
    {
     "name": "stderr",
     "output_type": "stream",
     "text": [
      "//anaconda3/envs/social_navigation_analysis/lib/python3.10/site-packages/numpy/core/fromnumeric.py:3432: RuntimeWarning: Mean of empty slice.\n",
      "  return _methods._mean(a, axis=axis, dtype=dtype,\n"
     ]
    },
    {
     "name": "stdout",
     "output_type": "stream",
     "text": [
      "PARTICIPANT_Social_Navigation_2021-10-13_08h26.31.675.csv: parsingng behavior\r"
     ]
    },
    {
     "name": "stderr",
     "output_type": "stream",
     "text": [
      "//anaconda3/envs/social_navigation_analysis/lib/python3.10/site-packages/numpy/core/fromnumeric.py:3432: RuntimeWarning: Mean of empty slice.\n",
      "  return _methods._mean(a, axis=axis, dtype=dtype,\n"
     ]
    },
    {
     "name": "stdout",
     "output_type": "stream",
     "text": [
      "PARTICIPANT_Social_Navigation_2022-01-10_13h14.02.250.csv: parsingng behavior\r"
     ]
    },
    {
     "name": "stderr",
     "output_type": "stream",
     "text": [
      "//anaconda3/envs/social_navigation_analysis/lib/python3.10/site-packages/numpy/core/fromnumeric.py:3432: RuntimeWarning: Mean of empty slice.\n",
      "  return _methods._mean(a, axis=axis, dtype=dtype,\n"
     ]
    },
    {
     "name": "stdout",
     "output_type": "stream",
     "text": [
      "PARTICIPANT_Social_Navigation_2021-10-05_14h07.46.964.csv: parsingng behavior\r"
     ]
    },
    {
     "name": "stderr",
     "output_type": "stream",
     "text": [
      "//anaconda3/envs/social_navigation_analysis/lib/python3.10/site-packages/numpy/core/fromnumeric.py:3432: RuntimeWarning: Mean of empty slice.\n",
      "  return _methods._mean(a, axis=axis, dtype=dtype,\n"
     ]
    },
    {
     "name": "stdout",
     "output_type": "stream",
     "text": [
      "PARTICIPANT_Social_Navigation_2021-10-05_12h58.50.144.csv: parsingng behavior\r"
     ]
    },
    {
     "name": "stderr",
     "output_type": "stream",
     "text": [
      "//anaconda3/envs/social_navigation_analysis/lib/python3.10/site-packages/numpy/core/fromnumeric.py:3432: RuntimeWarning: Mean of empty slice.\n",
      "  return _methods._mean(a, axis=axis, dtype=dtype,\n"
     ]
    },
    {
     "name": "stdout",
     "output_type": "stream",
     "text": [
      "PARTICIPANT_Social_Navigation_2021-10-05_15h24.22.309.csv: parsingng behavior\r"
     ]
    },
    {
     "name": "stderr",
     "output_type": "stream",
     "text": [
      "//anaconda3/envs/social_navigation_analysis/lib/python3.10/site-packages/numpy/core/fromnumeric.py:3432: RuntimeWarning: Mean of empty slice.\n",
      "  return _methods._mean(a, axis=axis, dtype=dtype,\n"
     ]
    },
    {
     "name": "stdout",
     "output_type": "stream",
     "text": [
      "PARTICIPANT_Social_Navigation_2022-01-14_14h42.03.099.csv: parsingng behavior\r"
     ]
    },
    {
     "name": "stderr",
     "output_type": "stream",
     "text": [
      "//anaconda3/envs/social_navigation_analysis/lib/python3.10/site-packages/numpy/core/fromnumeric.py:3432: RuntimeWarning: Mean of empty slice.\n",
      "  return _methods._mean(a, axis=axis, dtype=dtype,\n"
     ]
    },
    {
     "name": "stdout",
     "output_type": "stream",
     "text": [
      "PARTICIPANT_Social_Navigation_2021-10-13_11h17.23.695.csv: parsingng behavior\r"
     ]
    },
    {
     "name": "stderr",
     "output_type": "stream",
     "text": [
      "//anaconda3/envs/social_navigation_analysis/lib/python3.10/site-packages/numpy/core/fromnumeric.py:3432: RuntimeWarning: Mean of empty slice.\n",
      "  return _methods._mean(a, axis=axis, dtype=dtype,\n"
     ]
    },
    {
     "name": "stdout",
     "output_type": "stream",
     "text": [
      "PARTICIPANT_Social_Navigation_2021-10-07_20h22.27.928.csv: parsingng behavior\r"
     ]
    },
    {
     "name": "stderr",
     "output_type": "stream",
     "text": [
      "//anaconda3/envs/social_navigation_analysis/lib/python3.10/site-packages/numpy/core/fromnumeric.py:3432: RuntimeWarning: Mean of empty slice.\n",
      "  return _methods._mean(a, axis=axis, dtype=dtype,\n"
     ]
    },
    {
     "name": "stdout",
     "output_type": "stream",
     "text": [
      "PARTICIPANT_Social_Navigation_2022-01-11_15h18.09.021.csv: parsingng behavior\r"
     ]
    },
    {
     "name": "stderr",
     "output_type": "stream",
     "text": [
      "//anaconda3/envs/social_navigation_analysis/lib/python3.10/site-packages/numpy/core/fromnumeric.py:3432: RuntimeWarning: Mean of empty slice.\n",
      "  return _methods._mean(a, axis=axis, dtype=dtype,\n"
     ]
    },
    {
     "name": "stdout",
     "output_type": "stream",
     "text": [
      "PARTICIPANT_Social_Navigation_2021-10-05_20h34.44.071.csv: parsingng behavior\r"
     ]
    },
    {
     "name": "stderr",
     "output_type": "stream",
     "text": [
      "//anaconda3/envs/social_navigation_analysis/lib/python3.10/site-packages/numpy/core/fromnumeric.py:3432: RuntimeWarning: Mean of empty slice.\n",
      "  return _methods._mean(a, axis=axis, dtype=dtype,\n"
     ]
    },
    {
     "name": "stdout",
     "output_type": "stream",
     "text": [
      "PARTICIPANT_Social_Navigation_2021-10-05_14h12.15.591.csv: parsingng behavior\r"
     ]
    },
    {
     "name": "stderr",
     "output_type": "stream",
     "text": [
      "//anaconda3/envs/social_navigation_analysis/lib/python3.10/site-packages/numpy/core/fromnumeric.py:3432: RuntimeWarning: Mean of empty slice.\n",
      "  return _methods._mean(a, axis=axis, dtype=dtype,\n"
     ]
    },
    {
     "name": "stdout",
     "output_type": "stream",
     "text": [
      "PARTICIPANT_Social_Navigation_2022-01-14_13h55.14.239.csv: parsingng behavior\r"
     ]
    },
    {
     "name": "stderr",
     "output_type": "stream",
     "text": [
      "//anaconda3/envs/social_navigation_analysis/lib/python3.10/site-packages/numpy/core/fromnumeric.py:3432: RuntimeWarning: Mean of empty slice.\n",
      "  return _methods._mean(a, axis=axis, dtype=dtype,\n"
     ]
    },
    {
     "name": "stdout",
     "output_type": "stream",
     "text": [
      "PARTICIPANT_Social_Navigation_2022-01-14_20h51.00.571.csv: parsingng behavior\r"
     ]
    },
    {
     "name": "stderr",
     "output_type": "stream",
     "text": [
      "//anaconda3/envs/social_navigation_analysis/lib/python3.10/site-packages/numpy/core/fromnumeric.py:3432: RuntimeWarning: Mean of empty slice.\n",
      "  return _methods._mean(a, axis=axis, dtype=dtype,\n"
     ]
    },
    {
     "name": "stdout",
     "output_type": "stream",
     "text": [
      "PARTICIPANT_Social_Navigation_2021-10-08_16h52.55.153.csv: parsingng behavior\r"
     ]
    },
    {
     "name": "stderr",
     "output_type": "stream",
     "text": [
      "//anaconda3/envs/social_navigation_analysis/lib/python3.10/site-packages/numpy/core/fromnumeric.py:3432: RuntimeWarning: Mean of empty slice.\n",
      "  return _methods._mean(a, axis=axis, dtype=dtype,\n"
     ]
    },
    {
     "name": "stdout",
     "output_type": "stream",
     "text": [
      "PARTICIPANT_Social_Navigation_2022-01-11_14h58.11.337.csv: parsingng behavior\r"
     ]
    },
    {
     "name": "stderr",
     "output_type": "stream",
     "text": [
      "//anaconda3/envs/social_navigation_analysis/lib/python3.10/site-packages/numpy/core/fromnumeric.py:3432: RuntimeWarning: Mean of empty slice.\n",
      "  return _methods._mean(a, axis=axis, dtype=dtype,\n"
     ]
    },
    {
     "name": "stdout",
     "output_type": "stream",
     "text": [
      "PARTICIPANT_Social_Navigation_2022-01-16_19h17.33.776.csv: parsingng behavior\r"
     ]
    },
    {
     "name": "stderr",
     "output_type": "stream",
     "text": [
      "//anaconda3/envs/social_navigation_analysis/lib/python3.10/site-packages/numpy/core/fromnumeric.py:3432: RuntimeWarning: Mean of empty slice.\n",
      "  return _methods._mean(a, axis=axis, dtype=dtype,\n"
     ]
    },
    {
     "name": "stdout",
     "output_type": "stream",
     "text": [
      "PARTICIPANT_Social_Navigation_2022-01-11_17h48.43.534.csv: parsingng behavior\r"
     ]
    },
    {
     "name": "stderr",
     "output_type": "stream",
     "text": [
      "//anaconda3/envs/social_navigation_analysis/lib/python3.10/site-packages/numpy/core/fromnumeric.py:3432: RuntimeWarning: Mean of empty slice.\n",
      "  return _methods._mean(a, axis=axis, dtype=dtype,\n"
     ]
    },
    {
     "name": "stdout",
     "output_type": "stream",
     "text": [
      "PARTICIPANT_Social_Navigation_2021-10-05_14h41.09.959.csv: parsingng behavior\r"
     ]
    },
    {
     "name": "stderr",
     "output_type": "stream",
     "text": [
      "//anaconda3/envs/social_navigation_analysis/lib/python3.10/site-packages/numpy/core/fromnumeric.py:3432: RuntimeWarning: Mean of empty slice.\n",
      "  return _methods._mean(a, axis=axis, dtype=dtype,\n"
     ]
    },
    {
     "name": "stdout",
     "output_type": "stream",
     "text": [
      "PARTICIPANT_Social_Navigation_2021-10-05_14h24.39.789.csv: parsingng behavior\r"
     ]
    },
    {
     "name": "stderr",
     "output_type": "stream",
     "text": [
      "//anaconda3/envs/social_navigation_analysis/lib/python3.10/site-packages/numpy/core/fromnumeric.py:3432: RuntimeWarning: Mean of empty slice.\n",
      "  return _methods._mean(a, axis=axis, dtype=dtype,\n"
     ]
    },
    {
     "name": "stdout",
     "output_type": "stream",
     "text": [
      "There are missing subjectsion_2021-10-05_14h24.39.789.csv: computing behavior\n",
      "Summarizing 91 of 91\r"
     ]
    }
   ],
   "source": [
    "# TODO: run through all samples with this as a .py...\n",
    "# more unittests...\n",
    "\n",
    "import pandas as pd\n",
    "import numpy as np\n",
    "import datetime\n",
    "\n",
    "synapse_dir = '/Volumes/synapse/projects/SocialSpace/Projects/'\n",
    "datasets    = pd.read_excel(f'{synapse_dir}/SNT-datasets.xlsx')\n",
    "overwrite   = False\n",
    "\n",
    "samples = ['prolific_original']\n",
    "\n",
    "#---------------------------\n",
    "# select the project details\n",
    "#---------------------------\n",
    "\n",
    "for sample in samples:\n",
    "\n",
    "    print(sample)\n",
    "\n",
    "    proj_ix = np.where(datasets['sample'].values==sample)[0][0]\n",
    "\n",
    "    project_dir = datasets.loc[proj_ix,'base_directory']\n",
    "    file_format = datasets.loc[proj_ix,'raw_file_format']\n",
    "\n",
    "    # directories etc\n",
    "    datasets.loc[proj_ix, 'raw_directory']        = f'{file_format}'\n",
    "    datasets.loc[proj_ix, 'organized_directory']  = f'Organized'\n",
    "    datasets.loc[proj_ix, 'behavioral_directory'] = f'Behavior'\n",
    "    datasets.loc[proj_ix, 'timing_directory']     = f'Timing'\n",
    "    datasets.loc[proj_ix, 'last_processed']       = datetime.datetime.now()\n",
    "\n",
    "    # find files\n",
    "    raw_files = [f for f in glob.glob(f\"{project_dir}/{datasets.loc[proj_ix, 'raw_directory']}/*\") if '~$' not in f]\n",
    "    n_raw     = len(raw_files)\n",
    "    print(f'Found {n_raw} files')\n",
    "\n",
    "    errors = []\n",
    "    for raw_fname in raw_files:\n",
    "        \n",
    "        fname  = raw_fname.split('/')[-1]\n",
    "        sub_id = fname.split('.')[0].split('_')[1]\n",
    "\n",
    "        #------------------------------------------------\n",
    "        # 1 - parse the raw file into an organized file\n",
    "        #------------------------------------------------\n",
    "        \n",
    "        # xlsx_fname = f\"{project_dir}/{datasets.loc[proj_ix, 'organized_directory']}/SNT_{sub_id}.xlsx\"\n",
    "        # if not os.path.exists(xlsx_fname):\n",
    "            \n",
    "        print(f'{fname}: parsing', end='\\r')\n",
    "        try:\n",
    "            if file_format == 'Logs':\n",
    "                xlsx_fname = snt_preprc.parse_log(raw_fname, experimenter=datasets.loc[proj_ix,'experimenter'], output_timing=False, out_dir=project_dir)\n",
    "            elif file_format == 'CSVs':\n",
    "                xlsx_fname = snt_preprc.parse_csv(raw_fname, snt_version=datasets.loc[proj_ix,'options_version'], out_dir=project_dir)\n",
    "        except: \n",
    "            errors.append(f'Parsing: {fname}')\n",
    "\n",
    "        #------------------------------------------\n",
    "        # 2 - compute behavior from organized file \n",
    "        #------------------------------------------\n",
    "        \n",
    "        behav_fname = f\"{project_dir}/{datasets.loc[proj_ix, 'behavioral_directory']}/SNT_{sub_id}_behavior.xlsx\"\n",
    "        # if not os.path.exists(behav_fname):         \n",
    "        print(f'{fname}: computing behavior', end='\\r')\n",
    "        try: \n",
    "            snt_preprc.compute_behavior(xlsx_fname, weight_types=False, decision_types=False, coord_types=False, out_dir=project_dir)\n",
    "        except: \n",
    "            errors.append(f'Computing behavior: {behav_fname}')\n",
    "\n",
    "    # count number of files in each\n",
    "    n_xlsx      = len([f for f in glob.glob(f\"{project_dir}/{datasets.loc[proj_ix, 'organized_directory']}/*\") if '~$' not in f])\n",
    "    n_timing    = len([f for f in glob.glob(f\"{project_dir}/{datasets.loc[proj_ix, 'timing_directory']}/*\") if '~$' not in f])\n",
    "    behav_files = [f for f in glob.glob(f\"{project_dir}/{datasets.loc[proj_ix, 'behavioral_directory']}/*\") if '~$' not in f]\n",
    "    n_behavior  = len(behav_files)\n",
    "\n",
    "    if n_raw != n_xlsx: print('There are missing subjects')\n",
    "\n",
    "    datasets.loc[proj_ix, 'n_raw_files']       = n_raw\n",
    "    datasets.loc[proj_ix, 'n_organized_files'] = n_xlsx\n",
    "    datasets.loc[proj_ix, 'n_timing_files']    = n_timing\n",
    "    datasets.loc[proj_ix, 'n_behavior_files']  = n_behavior\n",
    "\n",
    "    #------------------------------\n",
    "    # 3 - summarize across subjects\n",
    "    #------------------------------\n",
    "\n",
    "    snt_preprc.summarize_behavior(behav_files, out_dir=project_dir)\n",
    "\n",
    "    # TODO: add in dots, self-reports, posttask etc automatically... eg, if there is another summary sheet available, add in as an argument to merge on sub_id column?\n",
    "\n",
    "datasets.to_excel(f'{synapse_dir}/SNT_datasets.xlsx', index=False)\n",
    "\n"
   ]
  },
  {
   "cell_type": "code",
   "execution_count": 11,
   "metadata": {},
   "outputs": [
    {
     "data": {
      "text/html": [
       "<div>\n",
       "<style scoped>\n",
       "    .dataframe tbody tr th:only-of-type {\n",
       "        vertical-align: middle;\n",
       "    }\n",
       "\n",
       "    .dataframe tbody tr th {\n",
       "        vertical-align: top;\n",
       "    }\n",
       "\n",
       "    .dataframe thead th {\n",
       "        text-align: right;\n",
       "    }\n",
       "</style>\n",
       "<table border=\"1\" class=\"dataframe\">\n",
       "  <thead>\n",
       "    <tr style=\"text-align: right;\">\n",
       "      <th></th>\n",
       "      <th>Unnamed: 0</th>\n",
       "      <th>first_gender</th>\n",
       "      <th>second_gender</th>\n",
       "      <th>assistant_gender</th>\n",
       "      <th>powerful_gender</th>\n",
       "      <th>boss_gender</th>\n",
       "      <th>neutral_gender</th>\n",
       "      <th>first_skincolor</th>\n",
       "      <th>second_skincolor</th>\n",
       "      <th>assistant_skincolor</th>\n",
       "      <th>...</th>\n",
       "      <th>assistant_stability</th>\n",
       "      <th>first_arousal</th>\n",
       "      <th>first_valence</th>\n",
       "      <th>first_stability</th>\n",
       "      <th>arousal_mean</th>\n",
       "      <th>competence_mean</th>\n",
       "      <th>liking_mean</th>\n",
       "      <th>similarity_mean</th>\n",
       "      <th>stability_mean</th>\n",
       "      <th>valence_mean</th>\n",
       "    </tr>\n",
       "  </thead>\n",
       "  <tbody>\n",
       "    <tr>\n",
       "      <th>0</th>\n",
       "      <td>5c3630c83ce2c8000111b504</td>\n",
       "      <td>feminine</td>\n",
       "      <td>masculine</td>\n",
       "      <td>masculine</td>\n",
       "      <td>masculine</td>\n",
       "      <td>feminine</td>\n",
       "      <td>feminine</td>\n",
       "      <td>brown</td>\n",
       "      <td>white</td>\n",
       "      <td>brown</td>\n",
       "      <td>...</td>\n",
       "      <td>57</td>\n",
       "      <td>71</td>\n",
       "      <td>74</td>\n",
       "      <td>97</td>\n",
       "      <td>43.500000</td>\n",
       "      <td>69.333333</td>\n",
       "      <td>62.833333</td>\n",
       "      <td>50.500000</td>\n",
       "      <td>68.000000</td>\n",
       "      <td>58.666667</td>\n",
       "    </tr>\n",
       "    <tr>\n",
       "      <th>0</th>\n",
       "      <td>5dbc73047d3d3622bcd31170</td>\n",
       "      <td>feminine</td>\n",
       "      <td>masculine</td>\n",
       "      <td>masculine</td>\n",
       "      <td>masculine</td>\n",
       "      <td>feminine</td>\n",
       "      <td>feminine</td>\n",
       "      <td>white</td>\n",
       "      <td>white</td>\n",
       "      <td>white</td>\n",
       "      <td>...</td>\n",
       "      <td>51</td>\n",
       "      <td>43</td>\n",
       "      <td>56</td>\n",
       "      <td>56</td>\n",
       "      <td>46.666667</td>\n",
       "      <td>59.666667</td>\n",
       "      <td>56.500000</td>\n",
       "      <td>36.666667</td>\n",
       "      <td>53.500000</td>\n",
       "      <td>54.666667</td>\n",
       "    </tr>\n",
       "    <tr>\n",
       "      <th>0</th>\n",
       "      <td>5d332957d0635b00013bd785</td>\n",
       "      <td>masculine</td>\n",
       "      <td>feminine</td>\n",
       "      <td>feminine</td>\n",
       "      <td>feminine</td>\n",
       "      <td>masculine</td>\n",
       "      <td>masculine</td>\n",
       "      <td>brown</td>\n",
       "      <td>brown</td>\n",
       "      <td>brown</td>\n",
       "      <td>...</td>\n",
       "      <td>84</td>\n",
       "      <td>50</td>\n",
       "      <td>50</td>\n",
       "      <td>75</td>\n",
       "      <td>53.333333</td>\n",
       "      <td>80.000000</td>\n",
       "      <td>51.333333</td>\n",
       "      <td>39.000000</td>\n",
       "      <td>61.333333</td>\n",
       "      <td>50.166667</td>\n",
       "    </tr>\n",
       "    <tr>\n",
       "      <th>0</th>\n",
       "      <td>55f5946a32af74001017047b</td>\n",
       "      <td>masculine</td>\n",
       "      <td>feminine</td>\n",
       "      <td>feminine</td>\n",
       "      <td>feminine</td>\n",
       "      <td>masculine</td>\n",
       "      <td>masculine</td>\n",
       "      <td>white</td>\n",
       "      <td>white</td>\n",
       "      <td>white</td>\n",
       "      <td>...</td>\n",
       "      <td>100</td>\n",
       "      <td>43</td>\n",
       "      <td>77</td>\n",
       "      <td>65</td>\n",
       "      <td>67.500000</td>\n",
       "      <td>91.666667</td>\n",
       "      <td>79.166667</td>\n",
       "      <td>53.166667</td>\n",
       "      <td>74.666667</td>\n",
       "      <td>82.166667</td>\n",
       "    </tr>\n",
       "    <tr>\n",
       "      <th>0</th>\n",
       "      <td>5df040fa82b88c0a7c698dd8</td>\n",
       "      <td>feminine</td>\n",
       "      <td>masculine</td>\n",
       "      <td>masculine</td>\n",
       "      <td>masculine</td>\n",
       "      <td>feminine</td>\n",
       "      <td>feminine</td>\n",
       "      <td>white</td>\n",
       "      <td>brown</td>\n",
       "      <td>white</td>\n",
       "      <td>...</td>\n",
       "      <td>45</td>\n",
       "      <td>58</td>\n",
       "      <td>54</td>\n",
       "      <td>61</td>\n",
       "      <td>54.500000</td>\n",
       "      <td>60.000000</td>\n",
       "      <td>54.666667</td>\n",
       "      <td>48.666667</td>\n",
       "      <td>55.333333</td>\n",
       "      <td>55.666667</td>\n",
       "    </tr>\n",
       "    <tr>\n",
       "      <th>...</th>\n",
       "      <td>...</td>\n",
       "      <td>...</td>\n",
       "      <td>...</td>\n",
       "      <td>...</td>\n",
       "      <td>...</td>\n",
       "      <td>...</td>\n",
       "      <td>...</td>\n",
       "      <td>...</td>\n",
       "      <td>...</td>\n",
       "      <td>...</td>\n",
       "      <td>...</td>\n",
       "      <td>...</td>\n",
       "      <td>...</td>\n",
       "      <td>...</td>\n",
       "      <td>...</td>\n",
       "      <td>...</td>\n",
       "      <td>...</td>\n",
       "      <td>...</td>\n",
       "      <td>...</td>\n",
       "      <td>...</td>\n",
       "      <td>...</td>\n",
       "    </tr>\n",
       "    <tr>\n",
       "      <th>0</th>\n",
       "      <td>5d847ac9be4b0b00188463d7</td>\n",
       "      <td>feminine</td>\n",
       "      <td>masculine</td>\n",
       "      <td>masculine</td>\n",
       "      <td>masculine</td>\n",
       "      <td>feminine</td>\n",
       "      <td>feminine</td>\n",
       "      <td>brown</td>\n",
       "      <td>brown</td>\n",
       "      <td>brown</td>\n",
       "      <td>...</td>\n",
       "      <td>47</td>\n",
       "      <td>10</td>\n",
       "      <td>87</td>\n",
       "      <td>85</td>\n",
       "      <td>49.000000</td>\n",
       "      <td>57.666667</td>\n",
       "      <td>38.000000</td>\n",
       "      <td>21.333333</td>\n",
       "      <td>49.500000</td>\n",
       "      <td>45.333333</td>\n",
       "    </tr>\n",
       "    <tr>\n",
       "      <th>0</th>\n",
       "      <td>5c82acc04fd379001524a6ae</td>\n",
       "      <td>feminine</td>\n",
       "      <td>masculine</td>\n",
       "      <td>masculine</td>\n",
       "      <td>masculine</td>\n",
       "      <td>feminine</td>\n",
       "      <td>feminine</td>\n",
       "      <td>brown</td>\n",
       "      <td>brown</td>\n",
       "      <td>brown</td>\n",
       "      <td>...</td>\n",
       "      <td>78</td>\n",
       "      <td>57</td>\n",
       "      <td>59</td>\n",
       "      <td>39</td>\n",
       "      <td>42.666667</td>\n",
       "      <td>68.000000</td>\n",
       "      <td>59.500000</td>\n",
       "      <td>42.166667</td>\n",
       "      <td>54.666667</td>\n",
       "      <td>66.666667</td>\n",
       "    </tr>\n",
       "    <tr>\n",
       "      <th>0</th>\n",
       "      <td>599eaf0fbfd73c00010ea24e</td>\n",
       "      <td>masculine</td>\n",
       "      <td>feminine</td>\n",
       "      <td>feminine</td>\n",
       "      <td>feminine</td>\n",
       "      <td>masculine</td>\n",
       "      <td>masculine</td>\n",
       "      <td>white</td>\n",
       "      <td>white</td>\n",
       "      <td>white</td>\n",
       "      <td>...</td>\n",
       "      <td>56</td>\n",
       "      <td>38</td>\n",
       "      <td>59</td>\n",
       "      <td>55</td>\n",
       "      <td>55.000000</td>\n",
       "      <td>60.166667</td>\n",
       "      <td>46.666667</td>\n",
       "      <td>29.500000</td>\n",
       "      <td>50.500000</td>\n",
       "      <td>52.000000</td>\n",
       "    </tr>\n",
       "    <tr>\n",
       "      <th>0</th>\n",
       "      <td>5a6b35d3d5d4cb0001d643d8</td>\n",
       "      <td>feminine</td>\n",
       "      <td>masculine</td>\n",
       "      <td>masculine</td>\n",
       "      <td>masculine</td>\n",
       "      <td>feminine</td>\n",
       "      <td>feminine</td>\n",
       "      <td>brown</td>\n",
       "      <td>white</td>\n",
       "      <td>brown</td>\n",
       "      <td>...</td>\n",
       "      <td>59</td>\n",
       "      <td>59</td>\n",
       "      <td>81</td>\n",
       "      <td>76</td>\n",
       "      <td>57.833333</td>\n",
       "      <td>62.666667</td>\n",
       "      <td>44.666667</td>\n",
       "      <td>6.166667</td>\n",
       "      <td>63.666667</td>\n",
       "      <td>60.166667</td>\n",
       "    </tr>\n",
       "    <tr>\n",
       "      <th>0</th>\n",
       "      <td>5dfb693a73d72487b1fe495b</td>\n",
       "      <td>masculine</td>\n",
       "      <td>feminine</td>\n",
       "      <td>feminine</td>\n",
       "      <td>feminine</td>\n",
       "      <td>masculine</td>\n",
       "      <td>masculine</td>\n",
       "      <td>white</td>\n",
       "      <td>white</td>\n",
       "      <td>white</td>\n",
       "      <td>...</td>\n",
       "      <td>73</td>\n",
       "      <td>37</td>\n",
       "      <td>56</td>\n",
       "      <td>65</td>\n",
       "      <td>42.500000</td>\n",
       "      <td>77.666667</td>\n",
       "      <td>64.166667</td>\n",
       "      <td>61.333333</td>\n",
       "      <td>60.000000</td>\n",
       "      <td>62.500000</td>\n",
       "    </tr>\n",
       "  </tbody>\n",
       "</table>\n",
       "<p>647 rows × 108 columns</p>\n",
       "</div>"
      ],
      "text/plain": [
       "                  Unnamed: 0 first_gender second_gender assistant_gender  \\\n",
       "0   5c3630c83ce2c8000111b504     feminine     masculine        masculine   \n",
       "0   5dbc73047d3d3622bcd31170     feminine     masculine        masculine   \n",
       "0   5d332957d0635b00013bd785    masculine      feminine         feminine   \n",
       "0   55f5946a32af74001017047b    masculine      feminine         feminine   \n",
       "0   5df040fa82b88c0a7c698dd8     feminine     masculine        masculine   \n",
       "..                       ...          ...           ...              ...   \n",
       "0   5d847ac9be4b0b00188463d7     feminine     masculine        masculine   \n",
       "0   5c82acc04fd379001524a6ae     feminine     masculine        masculine   \n",
       "0   599eaf0fbfd73c00010ea24e    masculine      feminine         feminine   \n",
       "0   5a6b35d3d5d4cb0001d643d8     feminine     masculine        masculine   \n",
       "0   5dfb693a73d72487b1fe495b    masculine      feminine         feminine   \n",
       "\n",
       "   powerful_gender boss_gender neutral_gender first_skincolor  \\\n",
       "0        masculine    feminine       feminine           brown   \n",
       "0        masculine    feminine       feminine           white   \n",
       "0         feminine   masculine      masculine           brown   \n",
       "0         feminine   masculine      masculine           white   \n",
       "0        masculine    feminine       feminine           white   \n",
       "..             ...         ...            ...             ...   \n",
       "0        masculine    feminine       feminine           brown   \n",
       "0        masculine    feminine       feminine           brown   \n",
       "0         feminine   masculine      masculine           white   \n",
       "0        masculine    feminine       feminine           brown   \n",
       "0         feminine   masculine      masculine           white   \n",
       "\n",
       "   second_skincolor assistant_skincolor  ... assistant_stability  \\\n",
       "0             white               brown  ...                  57   \n",
       "0             white               white  ...                  51   \n",
       "0             brown               brown  ...                  84   \n",
       "0             white               white  ...                 100   \n",
       "0             brown               white  ...                  45   \n",
       "..              ...                 ...  ...                 ...   \n",
       "0             brown               brown  ...                  47   \n",
       "0             brown               brown  ...                  78   \n",
       "0             white               white  ...                  56   \n",
       "0             white               brown  ...                  59   \n",
       "0             white               white  ...                  73   \n",
       "\n",
       "   first_arousal first_valence first_stability  arousal_mean  competence_mean  \\\n",
       "0             71            74              97     43.500000        69.333333   \n",
       "0             43            56              56     46.666667        59.666667   \n",
       "0             50            50              75     53.333333        80.000000   \n",
       "0             43            77              65     67.500000        91.666667   \n",
       "0             58            54              61     54.500000        60.000000   \n",
       "..           ...           ...             ...           ...              ...   \n",
       "0             10            87              85     49.000000        57.666667   \n",
       "0             57            59              39     42.666667        68.000000   \n",
       "0             38            59              55     55.000000        60.166667   \n",
       "0             59            81              76     57.833333        62.666667   \n",
       "0             37            56              65     42.500000        77.666667   \n",
       "\n",
       "    liking_mean  similarity_mean  stability_mean  valence_mean  \n",
       "0     62.833333        50.500000       68.000000     58.666667  \n",
       "0     56.500000        36.666667       53.500000     54.666667  \n",
       "0     51.333333        39.000000       61.333333     50.166667  \n",
       "0     79.166667        53.166667       74.666667     82.166667  \n",
       "0     54.666667        48.666667       55.333333     55.666667  \n",
       "..          ...              ...             ...           ...  \n",
       "0     38.000000        21.333333       49.500000     45.333333  \n",
       "0     59.500000        42.166667       54.666667     66.666667  \n",
       "0     46.666667        29.500000       50.500000     52.000000  \n",
       "0     44.666667         6.166667       63.666667     60.166667  \n",
       "0     64.166667        61.333333       60.000000     62.500000  \n",
       "\n",
       "[647 rows x 108 columns]"
      ]
     },
     "execution_count": 11,
     "metadata": {},
     "output_type": "execute_result"
    }
   ],
   "source": []
  },
  {
   "cell_type": "code",
   "execution_count": 15,
   "metadata": {},
   "outputs": [],
   "source": [
    "base_dir = '/Volumes/synapse/projects/SocialSpace/Projects/SNT-online_prolific/Data/Original_2021/SNT/VT-server'\n",
    "\n",
    "# concatenate the post task dfs\n",
    "posttask_dir = f'{base_dir}/Posttask'\n",
    "post_dfs     = [pd.read_excel(f) for f in glob.glob(f'{posttask_dir}/*.xlsx') if '~$' not in f]\n",
    "\n",
    "post_df = pd.concat(post_dfs)\n",
    "post_df.rename(columns={'Unnamed: 0': \"sub_id\"}, inplace=True)\n",
    "\n",
    "# merge the post task summary w/ behavioral summary, using the 'sub_id' column \n",
    "behav_df = pd.read_excel(f'{base_dir}/SNT-behavior_n647.xlsx')\n",
    "overall_df = behav_df.merge(post_df, on='sub_id')\n",
    "overall_df.to_excel(f'{base_dir}/Summary_n{len(overall_df)}.xlsx', index=False)"
   ]
  },
  {
   "cell_type": "code",
   "execution_count": 18,
   "metadata": {},
   "outputs": [],
   "source": [
    "\n"
   ]
  },
  {
   "cell_type": "markdown",
   "metadata": {},
   "source": [
    "# DEV: Other in-person pieces: memory + dots"
   ]
  },
  {
   "cell_type": "code",
   "execution_count": 70,
   "metadata": {
    "jupyter": {
     "source_hidden": true
    },
    "tags": []
   },
   "outputs": [],
   "source": [
    "# # maybe save in a json or smething?\n",
    "# samples = {'PD': {'version_key': {1:'FV', 2:'MV'},\n",
    "#                 'memory': {'FV': {'Olivia': 'first', 'Peter': 'second',\n",
    "#                                   'Anthony': 'assistant', 'Newcomb': 'powerful', \n",
    "#                                   'Hayworth': 'boss', 'Kayce':'neutral'},\n",
    "#                             'MV': {'Peter': 'first', 'Olivia': 'second', \n",
    "#                                    'Kayce': 'assistant', 'Newcomb': 'powerful',\n",
    "#                                    'Hayworth': 'boss', 'Anthony':'neutral'}},\n",
    "#                    'dots': {'FV': {'Olivia': 'first', 'Peter': 'second', \n",
    "#                                    'Anthony': 'assistant', 'Newcomb': 'powerful',\n",
    "#                                    'Hayworth': 'boss','Kayce':'neutral'},\n",
    "#                             'MV': {'Peter': 'first', 'Olivia': 'second', \n",
    "#                                    'Kayce': 'assistant', 'Newcomb': 'powerful', \n",
    "#                                    'Hayworth': 'boss','Anthony':'neutral'}}\n",
    "#                   },\n",
    "\n",
    "#         'PTSD': {'version_key': {'1A':'FV', '1B':'FV', '2A':'FV', '2B':'FV', '3A':'MV', '3B':'MV', '4A':'MV', '4B':'MV'},\n",
    "#                 'memory': {'FV': {'Olivia': 'first', 'Peter': 'second',\n",
    "#                                   'Anthony': 'assistant', 'Newcomb': 'powerful', \n",
    "#                                   'Hayworth': 'boss', 'Kayce':'neutral'},\n",
    "#                             'MV': {'Peter': 'first', 'Olivia': 'second', \n",
    "#                                    'Kayce': 'assistant', 'Newcomb': 'powerful',\n",
    "#                                    'Hayworth': 'boss', 'Anthony':'neutral'}},\n",
    "#                    'dots': {'FV': {'Olivia': 'first', 'Peter': 'second', \n",
    "#                                    'Anthony': 'assistant', 'Newcomb': 'powerful',\n",
    "#                                    'Hayworth': 'boss','Kayce':'neutral'},\n",
    "#                             'MV': {'Peter': 'first', 'Olivia': 'second', \n",
    "#                                    'Kayce': 'assistant', 'Newcomb': 'powerful', \n",
    "#                                    'Hayworth': 'boss','Anthony':'neutral'}},\n",
    "#                 'skincolors':  {'1A':['Brown','Brown','Brown','White','White','White'],\n",
    "#                                 '1B':['Brown','White','Brown','White','White','Brown'],\n",
    "#                                 '2A':['White','White','White','Brown','Brown','Brown'],\n",
    "#                                 '2B':['White','Brown','White','Brown','Brown','White'],\n",
    "#                                 '3A':['Brown','Brown','Brown','White','White','White'],\n",
    "#                                 '3B':['Brown','White','Brown','White','White','Brown'],\n",
    "#                                 '4A':['White','White','White','Brown','Brown','Brown'],\n",
    "#                                 '4B':['White','Brown','White','Brown','Brown','White']}\n",
    "#                   },\n",
    "           \n",
    "#            'CUD': {'version_key': {1:'FV', 2:'FV', 3:'MV', 4:'MV'},\n",
    "#                    'memory': {'FV': {'Jessica': 'first', 'Chris': 'second',\n",
    "#                                      'Anthony': 'assistant', 'Newcomb': 'powerful', \n",
    "#                                      'Hayworth': 'boss', 'Kayce':'neutral'},\n",
    "#                                'MV': {'Chris': 'first', 'Jessica': 'second', \n",
    "#                                       'Kayce': 'assistant', 'Newcomb': 'powerful',\n",
    "#                                        'Hayworth': 'boss', 'Anthony':'neutral'}},\n",
    "#                    'dots': {'FV': {'Olivia': 'first', 'Peter': 'second', \n",
    "#                                    'Anthony': 'assistant', 'Newcomb': 'powerful',\n",
    "#                                    'Hayworth': 'boss','Kayce':'neutral'},\n",
    "#                             'MV': {'Peter': 'first', 'Olivia': 'second', \n",
    "#                                    'Kayce': 'assistant', 'Newcomb': 'powerful', \n",
    "#                                    'Hayworth': 'boss','Anthony':'neutral'}},\n",
    "#                    'skincolors': {1:['Brown','Brown','Brown','White','White','Brown'],\n",
    "#                                   2:['White','White','White','Brown','Brown','White'],\n",
    "#                                   3:['Brown','Brown','Brown','White','White','White'],\n",
    "#                                   4:['White','White','White','Brown','Brown','Brown']} # can infer gender from name\n",
    "#                   }\n",
    "#               }"
   ]
  },
  {
   "cell_type": "code",
   "execution_count": 4,
   "metadata": {
    "collapsed": true,
    "jupyter": {
     "outputs_hidden": true,
     "source_hidden": true
    },
    "tags": []
   },
   "outputs": [
    {
     "name": "stdout",
     "output_type": "stream",
     "text": [
      "Memory processing completed\n",
      "Found 80 dots jpgs\n",
      "0 subjects dots already processed\n",
      "3 /Volumes/synapse/projects/SocialSpace/Projects/SNT-fmri_CUD/Data/Dots/Dots_19014.jpg\r"
     ]
    },
    {
     "name": "stderr",
     "output_type": "stream",
     "text": [
      "//anaconda3/envs/social_navigation_analysis/lib/python3.10/site-packages/sklearn/manifold/_spectral_embedding.py:260: UserWarning: Graph is not fully connected, spectral embedding may not work as expected.\n",
      "  warnings.warn(\n"
     ]
    },
    {
     "name": "stdout",
     "output_type": "stream",
     "text": [
      "7 /Volumes/synapse/projects/SocialSpace/Projects/SNT-fmri_CUD/Data/Dots/Dots_19002.jpg\r"
     ]
    },
    {
     "name": "stderr",
     "output_type": "stream",
     "text": [
      "//anaconda3/envs/social_navigation_analysis/lib/python3.10/site-packages/sklearn/manifold/_spectral_embedding.py:260: UserWarning: Graph is not fully connected, spectral embedding may not work as expected.\n",
      "  warnings.warn(\n"
     ]
    },
    {
     "name": "stdout",
     "output_type": "stream",
     "text": [
      "18 /Volumes/synapse/projects/SocialSpace/Projects/SNT-fmri_CUD/Data/Dots/Dots_19005.jpg\r"
     ]
    },
    {
     "name": "stderr",
     "output_type": "stream",
     "text": [
      "//anaconda3/envs/social_navigation_analysis/lib/python3.10/site-packages/sklearn/manifold/_spectral_embedding.py:260: UserWarning: Graph is not fully connected, spectral embedding may not work as expected.\n",
      "  warnings.warn(\n"
     ]
    },
    {
     "name": "stdout",
     "output_type": "stream",
     "text": [
      "20 /Volumes/synapse/projects/SocialSpace/Projects/SNT-fmri_CUD/Data/Dots/Dots_18009.jpg\r"
     ]
    },
    {
     "name": "stderr",
     "output_type": "stream",
     "text": [
      "//anaconda3/envs/social_navigation_analysis/lib/python3.10/site-packages/sklearn/manifold/_spectral_embedding.py:260: UserWarning: Graph is not fully connected, spectral embedding may not work as expected.\n",
      "  warnings.warn(\n"
     ]
    },
    {
     "name": "stdout",
     "output_type": "stream",
     "text": [
      "26 /Volumes/synapse/projects/SocialSpace/Projects/SNT-fmri_CUD/Data/Dots/Dots_18018.jpg\r"
     ]
    },
    {
     "name": "stderr",
     "output_type": "stream",
     "text": [
      "//anaconda3/envs/social_navigation_analysis/lib/python3.10/site-packages/sklearn/manifold/_spectral_embedding.py:260: UserWarning: Graph is not fully connected, spectral embedding may not work as expected.\n",
      "  warnings.warn(\n"
     ]
    },
    {
     "name": "stdout",
     "output_type": "stream",
     "text": [
      "30 /Volumes/synapse/projects/SocialSpace/Projects/SNT-fmri_CUD/Data/Dots/Dots_18017.jpg\r"
     ]
    },
    {
     "name": "stderr",
     "output_type": "stream",
     "text": [
      "//anaconda3/envs/social_navigation_analysis/lib/python3.10/site-packages/sklearn/manifold/_spectral_embedding.py:260: UserWarning: Graph is not fully connected, spectral embedding may not work as expected.\n",
      "  warnings.warn(\n"
     ]
    },
    {
     "name": "stdout",
     "output_type": "stream",
     "text": [
      "33 /Volumes/synapse/projects/SocialSpace/Projects/SNT-fmri_CUD/Data/Dots/Dots_22002.jpg\r"
     ]
    },
    {
     "name": "stderr",
     "output_type": "stream",
     "text": [
      "//anaconda3/envs/social_navigation_analysis/lib/python3.10/site-packages/sklearn/manifold/_spectral_embedding.py:260: UserWarning: Graph is not fully connected, spectral embedding may not work as expected.\n",
      "  warnings.warn(\n",
      "//anaconda3/envs/social_navigation_analysis/lib/python3.10/site-packages/sklearn/manifold/_spectral_embedding.py:260: UserWarning: Graph is not fully connected, spectral embedding may not work as expected.\n",
      "  warnings.warn(\n"
     ]
    },
    {
     "name": "stdout",
     "output_type": "stream",
     "text": [
      "41 /Volumes/synapse/projects/SocialSpace/Projects/SNT-fmri_CUD/Data/Dots/Dots_22001.jpg\r"
     ]
    },
    {
     "name": "stderr",
     "output_type": "stream",
     "text": [
      "//anaconda3/envs/social_navigation_analysis/lib/python3.10/site-packages/sklearn/manifold/_spectral_embedding.py:260: UserWarning: Graph is not fully connected, spectral embedding may not work as expected.\n",
      "  warnings.warn(\n",
      "//anaconda3/envs/social_navigation_analysis/lib/python3.10/site-packages/sklearn/manifold/_spectral_embedding.py:260: UserWarning: Graph is not fully connected, spectral embedding may not work as expected.\n",
      "  warnings.warn(\n"
     ]
    },
    {
     "name": "stdout",
     "output_type": "stream",
     "text": [
      "44 /Volumes/synapse/projects/SocialSpace/Projects/SNT-fmri_CUD/Data/Dots/Dots_18001.jpg\r"
     ]
    },
    {
     "name": "stderr",
     "output_type": "stream",
     "text": [
      "//anaconda3/envs/social_navigation_analysis/lib/python3.10/site-packages/sklearn/manifold/_spectral_embedding.py:260: UserWarning: Graph is not fully connected, spectral embedding may not work as expected.\n",
      "  warnings.warn(\n"
     ]
    },
    {
     "name": "stdout",
     "output_type": "stream",
     "text": [
      "71 /Volumes/synapse/projects/SocialSpace/Projects/SNT-fmri_CUD/Data/Dots/Dots_21021.jpg\r"
     ]
    },
    {
     "name": "stderr",
     "output_type": "stream",
     "text": [
      "//anaconda3/envs/social_navigation_analysis/lib/python3.10/site-packages/sklearn/manifold/_spectral_embedding.py:260: UserWarning: Graph is not fully connected, spectral embedding may not work as expected.\n",
      "  warnings.warn(\n"
     ]
    },
    {
     "name": "stdout",
     "output_type": "stream",
     "text": [
      "75 /Volumes/synapse/projects/SocialSpace/Projects/SNT-fmri_CUD/Data/Dots/Dots_19030.jpg\r"
     ]
    },
    {
     "name": "stderr",
     "output_type": "stream",
     "text": [
      "//anaconda3/envs/social_navigation_analysis/lib/python3.10/site-packages/sklearn/manifold/_spectral_embedding.py:260: UserWarning: Graph is not fully connected, spectral embedding may not work as expected.\n",
      "  warnings.warn(\n"
     ]
    },
    {
     "name": "stdout",
     "output_type": "stream",
     "text": [
      "ERROR: /Volumes/synapse/projects/SocialSpace/Projects/SNT-fmri_CUD/Data/Dots/Dots_22013.jpg\n",
      "Dots processing completed\n"
     ]
    },
    {
     "name": "stderr",
     "output_type": "stream",
     "text": [
      "//anaconda3/envs/social_navigation_analysis/lib/python3.10/site-packages/numpy/core/_methods.py:265: RuntimeWarning: Degrees of freedom <= 0 for slice\n",
      "  ret = _var(a, axis=axis, dtype=dtype, out=out, ddof=ddof,\n",
      "//anaconda3/envs/social_navigation_analysis/lib/python3.10/site-packages/numpy/core/_methods.py:223: RuntimeWarning: invalid value encountered in divide\n",
      "  arrmean = um.true_divide(arrmean, div, out=arrmean, casting='unsafe',\n",
      "//anaconda3/envs/social_navigation_analysis/lib/python3.10/site-packages/numpy/core/_methods.py:257: RuntimeWarning: invalid value encountered in double_scalars\n",
      "  ret = ret.dtype.type(ret / rcount)\n",
      "//anaconda3/envs/social_navigation_analysis/lib/python3.10/site-packages/sklearn/manifold/_spectral_embedding.py:260: UserWarning: Graph is not fully connected, spectral embedding may not work as expected.\n",
      "  warnings.warn(\n",
      "//anaconda3/envs/social_navigation_analysis/lib/python3.10/site-packages/scipy/sparse/linalg/_eigen/arpack/arpack.py:1592: RuntimeWarning: k >= N for N * N square matrix. Attempting to use scipy.linalg.eigh instead.\n",
      "  warnings.warn(\"k >= N for N * N square matrix. \"\n"
     ]
    }
   ],
   "source": [
    "import pandas as pd\n",
    "import numpy as np\n",
    "\n",
    "# task version. info:\n",
    "synapse_dir = '/Volumes/synapse/projects/SocialSpace/Projects/'\n",
    "task_versions = pd.read_excel(f'{synapse_dir}/SNT_datasets_task-versions.xlsx', sheet_name='CUD')\n",
    "task_versions.sort_values(by='character_role_num', inplace=True)\n",
    "\n",
    "\n",
    "# loop over datasets\n",
    "sample   = 'CUD'\n",
    "data_dir = '/Volumes/synapse/projects/SocialSpace/Projects/SNT-fmri_CUD/Data'\n",
    "info     = pd.read_excel(f'{data_dir}/SNT-task_versions.xlsx')\n",
    "\n",
    "\n",
    "#-----------------------\n",
    "# version details\n",
    "#-----------------------\n",
    "\n",
    "ard\n",
    "\n",
    "#-----------------------\n",
    "# memory\n",
    "#-----------------------\n",
    "\n",
    "# should be the answers to all the questionnaires..?\n",
    "ans = ['powerful','powerful','boss','neutral','first','assistant','first','second','neutral','powerful',\n",
    "       'boss','first','neutral','assistant','assistant','neutral','second','powerful','assistant','second',\n",
    "       'neutral','second','powerful','first','boss','first','boss','assistant','second','boss'] # this will probably be the same for the ptsd sample too?\n",
    "\n",
    "mem_df = pd.read_excel(glob.glob(f'{data_dir}/SNT-memory*_raw.xlsx')[0])\n",
    "n_mem  = len(mem_df)\n",
    "if not os.path.exists(f'{data_dir}/Summary/SNT-memory_n{n_mem}.xlsx'):\n",
    "    \n",
    "    memory_df = []\n",
    "    for s,sub in mem_df.iterrows():\n",
    "\n",
    "        # get correct version\n",
    "        task_ver = task_versions[[c for c in task_versions.columns if f'v{sub.Task_ver}' in c]]\n",
    "        opts     = [x.lower() for x in task_ver[f'v{sub.Task_ver}_name']]\n",
    "     \n",
    "        # score the answers\n",
    "        resps   = np.array([x.lower() for x in list(sub.values[2:])]) \n",
    "        resps   = [snt_info.character_roles[opts.index(r)] for r in resps] # get characte role for each response\n",
    "        correct = (np.array(resps)==np.array(ans)) * 1\n",
    "        acc     = np.mean(correct)\n",
    "\n",
    "        df = pd.DataFrame([sub.Sub_id, sub.Task_ver, acc] + list(correct)).T\n",
    "        df.columns = ['sub_id','task_version','memory_mean'] + [f'memory_{r+1}_{role}' for r,role in enumerate(roles)]\n",
    "        memory_df.append(df)\n",
    "    memory_df = pd.concat(memory_df)\n",
    "    memory_df.to_excel(f'{data_dir}/Summary/SNT-memory_n{len(memory_df)}_processed.xlsx')\n",
    "\n",
    "print('Memory processing completed')\n",
    "\n",
    "\n",
    "#-----------------------\n",
    "# dots\n",
    "#-----------------------\n",
    "\n",
    "dots_dir  = f'{data_dir}/Dots'\n",
    "dots_jpgs = glob.glob(f'{dots_dir}/Dots*jpg')\n",
    "print(f'Found {len(dots_jpgs)} dots jpgs')\n",
    "\n",
    "# append to an existing dots summary if it exists\n",
    "initial_fname = glob.glob(f'{data_dir}/Summary/SNT-dots_n*.xlsx')\n",
    "if len(initial_fname) > 0: \n",
    "    dots_df  = pd.read_excel(initial_fname[0][0])\n",
    "    sub_list = dots_df['sub_id'].values\n",
    "else:\n",
    "    dots_df  = []\n",
    "    sub_list = []\n",
    "    \n",
    "print(f'{len(sub_list)} subjects dots already processed')\n",
    "for j, jpg in enumerate(dots_jpgs):\n",
    "    \n",
    "    sub_id = int(jpg.split('Dots_')[1].split('.jpg')[0])\n",
    "    if sub_id not in sub_list:\n",
    "        \n",
    "        try:\n",
    "            \n",
    "            print(f'{j+1} {jpg}', end=\"\\r\")\n",
    "            df = snt_preprc.process_dots(jpg)[1]\n",
    "            \n",
    "            # get the correct character roles for each dot\n",
    "            sub_ix   = np.where(info['sub_id'].values == sub_id)[0][0]\n",
    "            task_v   = info.loc[sub_ix, 'version'] \n",
    "            task_ver = task_versions[[c for c in task_versions.columns if f'v{task_v}' in c]]\n",
    "            chars    = [x.lower() for x in task_ver[f'v{task_v}_dots-name']]\n",
    "            for k,i in chars.items(): df.columns = df.columns.str.replace(k, i, regex=True) # replace columns\n",
    "\n",
    "            df.insert(0, 'sub_id', sub_id)\n",
    "            dots_df.append(df)\n",
    "            \n",
    "        except:\n",
    "            print(f'ERROR: {jpg}')\n",
    "\n",
    "dots_df = pd.concat(dots_df)\n",
    "dots_df.to_excel(f'{data_dir}/Summary/SNT-dots_n{len(dots_df)}.xlsx', index=False)\n",
    "if len(initial_fname) > 0: os.remove(initial_fname) # replace old w/ new\n",
    "\n",
    "print('Dots processing completed')\n",
    "\n",
    "\n",
    "#-----------------------\n",
    "# merge all\n",
    "#-----------------------\n",
    "\n",
    "summary_files = [f for f in glob.glob(f'{data_dir}/Summary/*') if ('~$' not in f) and ('All-summary') not in f]\n",
    "merged_df     = snt_utils.merge_dfs(summary_files)\n",
    "merged_df     = snt_utils.move_cols_to_front(merged_df, ['sub_id', 'dx'])\n",
    "merged_df.to_excel(f'{data_dir}/Summary/All-summary_n{len(merged_df)}.xlsx', index=False)"
   ]
  },
  {
   "cell_type": "markdown",
   "metadata": {},
   "source": [
    "### Combine choice data w/ task info [optional]"
   ]
  },
  {
   "cell_type": "code",
   "execution_count": null,
   "metadata": {
    "jupyter": {
     "source_hidden": true
    },
    "tags": []
   },
   "outputs": [],
   "source": [
    "# # if need to merge choice_data w/ task info\n",
    "# import pandas as pd\n",
    "# from preprocess import merge_choice_data\n",
    "\n",
    "# #set directories \n",
    "# orig_dir = str(Path(f'{user}/Documents/social_navigation_task-main/Task_Organized_10.20.22'))\n",
    "# xlsx_dir = str(Path(f'{user}/Documents/social_navigation_task-main/Task_Organized_Final'))\n",
    "\n",
    "# #find files \n",
    "# fnames = [f for f in glob.glob(f'/{orig_dir}/*.xlsx') if '~$' not in f]\n",
    "\n",
    "# for fname in fnames:\n",
    "#     choice_data = pd.read_excel(fname) # load in the xlsx\n",
    "#     merged_choice_data = merge_choice_data(choice_data, decision_cols=['scene_num', 'decision_num','char_decision_num'])\n",
    "#     fname_ = fname.split('/')[-1]\n",
    "#     out_fname = str(Path(f'{user}/Documents/social_navigation_task-main/Task_Organized_Final/snt_{fname_}')) \n",
    "#     merged_choice_data.to_excel(out_fname, index=False)\n",
    "    "
   ]
  }
 ],
 "metadata": {
  "kernelspec": {
   "display_name": "Python 3.10.6 ('social_navigation_analysis')",
   "language": "python",
   "name": "python3"
  },
  "language_info": {
   "codemirror_mode": {
    "name": "ipython",
    "version": 3
   },
   "file_extension": ".py",
   "mimetype": "text/x-python",
   "name": "python",
   "nbconvert_exporter": "python",
   "pygments_lexer": "ipython3",
   "version": "3.10.6"
  },
  "vscode": {
   "interpreter": {
    "hash": "f3f7fb9d13e0b7cd346c5bcfe5de21908f17a2d0dcbd7821a2fa8e4fbf9948e1"
   }
  }
 },
 "nbformat": 4,
 "nbformat_minor": 4
}
