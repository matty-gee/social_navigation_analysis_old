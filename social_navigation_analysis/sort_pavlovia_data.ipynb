{
 "cells": [
  {
   "cell_type": "code",
   "execution_count": 3,
   "metadata": {},
   "outputs": [],
   "source": [
    "import pandas as pd\n",
    "import numpy as np \n",
    "import sys, os, glob, shutil\n",
    "from os.path import exists\n",
    "\n",
    "user = os.path.expanduser('~')\n",
    "schema_dir = f'{user}/Desktop/SNT_data/SNT-online_schema/Data/SNT'\n",
    "data_dir   = f'{user}/Dropbox/Projects/SNT_code/SNT-online/experiments/social-navigation/data'"
   ]
  },
  {
   "cell_type": "code",
   "execution_count": 4,
   "metadata": {},
   "outputs": [],
   "source": [
    "for file in glob.glob(data_dir + \"/*.csv\"):\n",
    "    \n",
    "    try:  \n",
    "        data = pd.read_csv(file)\n",
    "        sub = data['prolific_id'].values[0]\n",
    "        exp = data['experiment'].values[0]  \n",
    "        if ('2022-11' in file) or ('2022-10' in file):\n",
    "            if 'schema' in exp:\n",
    "                cp_file = f\"{schema_dir}/day0{exp.split('_')[1]}/Raw/{file.split('/')[-1]}\"\n",
    "                if not exists(cp_file):\n",
    "                    shutil.copyfile(file, cp_file)\n",
    "                \n",
    "    except: \n",
    "        continue"
   ]
  },
  {
   "cell_type": "code",
   "execution_count": null,
   "metadata": {},
   "outputs": [],
   "source": []
  }
 ],
 "metadata": {
  "kernelspec": {
   "display_name": "Python 3",
   "language": "python",
   "name": "python3"
  },
  "language_info": {
   "codemirror_mode": {
    "name": "ipython",
    "version": 3
   },
   "file_extension": ".py",
   "mimetype": "text/x-python",
   "name": "python",
   "nbconvert_exporter": "python",
   "pygments_lexer": "ipython3",
   "version": "3.7.3"
  }
 },
 "nbformat": 4,
 "nbformat_minor": 4
}
